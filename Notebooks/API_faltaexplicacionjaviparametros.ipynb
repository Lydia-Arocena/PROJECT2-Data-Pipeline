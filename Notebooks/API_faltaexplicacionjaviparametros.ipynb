{
 "cells": [
  {
   "cell_type": "code",
   "execution_count": 11,
   "id": "f05edd41",
   "metadata": {
    "scrolled": true
   },
   "outputs": [],
   "source": [
    "import pandas as pd\n",
    "import requests \n",
    "import os\n",
    "from dotenv import load_dotenv\n",
    "import sys\n",
    "sys.path.append('../')\n",
    "import src.apis_functions as af"
   ]
  },
  {
   "cell_type": "code",
   "execution_count": 5,
   "id": "935da8a9",
   "metadata": {},
   "outputs": [
    {
     "name": "stdout",
     "output_type": "stream",
     "text": [
      "Requirement already satisfied: python-dotenv in /home/lydia/anaconda3/lib/python3.8/site-packages (0.19.1)\r\n"
     ]
    }
   ],
   "source": [
    "!pip3 install python-dotenv"
   ]
  },
  {
   "cell_type": "code",
   "execution_count": 15,
   "id": "fbb1cd9f",
   "metadata": {},
   "outputs": [],
   "source": [
    "df = pd.read_csv(\"../data/City_Quality_of_Life_Dataset.csv\")"
   ]
  },
  {
   "cell_type": "markdown",
   "id": "658a3003",
   "metadata": {},
   "source": [
    "### Borro columnas que no me interesan de mi df:"
   ]
  },
  {
   "cell_type": "code",
   "execution_count": 16,
   "id": "854a7dc3",
   "metadata": {},
   "outputs": [],
   "source": [
    "df.drop([\"Unnamed: 0\", \"Startups\", \"Venture Capital\", \"Travel Connectivity\", \"Business Freedom\", \"Tolerance\"], axis=1, inplace=True)"
   ]
  },
  {
   "cell_type": "code",
   "execution_count": 17,
   "id": "3efcced4",
   "metadata": {},
   "outputs": [
    {
     "data": {
      "text/html": [
       "<div>\n",
       "<style scoped>\n",
       "    .dataframe tbody tr th:only-of-type {\n",
       "        vertical-align: middle;\n",
       "    }\n",
       "\n",
       "    .dataframe tbody tr th {\n",
       "        vertical-align: top;\n",
       "    }\n",
       "\n",
       "    .dataframe thead th {\n",
       "        text-align: right;\n",
       "    }\n",
       "</style>\n",
       "<table border=\"1\" class=\"dataframe\">\n",
       "  <thead>\n",
       "    <tr style=\"text-align: right;\">\n",
       "      <th></th>\n",
       "      <th>UA_Name</th>\n",
       "      <th>UA_Country</th>\n",
       "      <th>UA_Continent</th>\n",
       "      <th>Housing</th>\n",
       "      <th>Cost of Living</th>\n",
       "      <th>Commute</th>\n",
       "      <th>Safety</th>\n",
       "      <th>Healthcare</th>\n",
       "      <th>Education</th>\n",
       "      <th>Environmental Quality</th>\n",
       "      <th>Economy</th>\n",
       "      <th>Taxation</th>\n",
       "      <th>Internet Access</th>\n",
       "      <th>Leisure &amp; Culture</th>\n",
       "      <th>Outdoors</th>\n",
       "    </tr>\n",
       "  </thead>\n",
       "  <tbody>\n",
       "    <tr>\n",
       "      <th>43</th>\n",
       "      <td>Brussels</td>\n",
       "      <td>Belgium</td>\n",
       "      <td>Europe</td>\n",
       "      <td>6.355</td>\n",
       "      <td>4.477</td>\n",
       "      <td>5.38675</td>\n",
       "      <td>6.703</td>\n",
       "      <td>8.158333</td>\n",
       "      <td>6.653</td>\n",
       "      <td>4.591</td>\n",
       "      <td>4.8115</td>\n",
       "      <td>1.883</td>\n",
       "      <td>7.5715</td>\n",
       "      <td>8.144</td>\n",
       "      <td>4.123</td>\n",
       "    </tr>\n",
       "  </tbody>\n",
       "</table>\n",
       "</div>"
      ],
      "text/plain": [
       "     UA_Name UA_Country UA_Continent  Housing  Cost of Living  Commute  \\\n",
       "43  Brussels    Belgium       Europe    6.355           4.477  5.38675   \n",
       "\n",
       "    Safety  Healthcare  Education  Environmental Quality  Economy  Taxation  \\\n",
       "43   6.703    8.158333      6.653                  4.591   4.8115     1.883   \n",
       "\n",
       "    Internet Access  Leisure & Culture  Outdoors  \n",
       "43           7.5715              8.144     4.123  "
      ]
     },
     "execution_count": 17,
     "metadata": {},
     "output_type": "execute_result"
    }
   ],
   "source": [
    "df.sample()"
   ]
  },
  {
   "cell_type": "code",
   "execution_count": 18,
   "id": "cfa4e065",
   "metadata": {},
   "outputs": [
    {
     "data": {
      "text/plain": [
       "(266, 15)"
      ]
     },
     "execution_count": 18,
     "metadata": {},
     "output_type": "execute_result"
    }
   ],
   "source": [
    "df.shape"
   ]
  },
  {
   "cell_type": "markdown",
   "id": "0689676c",
   "metadata": {},
   "source": [
    "### Cambio nombres de las columnas."
   ]
  },
  {
   "cell_type": "code",
   "execution_count": 19,
   "id": "6a161c53",
   "metadata": {},
   "outputs": [],
   "source": [
    "for_city = {'UA_Name': 'City'}"
   ]
  },
  {
   "cell_type": "code",
   "execution_count": 20,
   "id": "c12045bd",
   "metadata": {},
   "outputs": [],
   "source": [
    "df.rename(columns=for_city,inplace=True)"
   ]
  },
  {
   "cell_type": "code",
   "execution_count": 21,
   "id": "2f1cc3e9",
   "metadata": {},
   "outputs": [],
   "source": [
    "for_country= {'UA_Country': 'Country'}"
   ]
  },
  {
   "cell_type": "code",
   "execution_count": 22,
   "id": "0c8dc9d3",
   "metadata": {},
   "outputs": [],
   "source": [
    "df.rename(columns=for_country,inplace=True)"
   ]
  },
  {
   "cell_type": "code",
   "execution_count": 23,
   "id": "1e5358c5",
   "metadata": {},
   "outputs": [],
   "source": [
    "for_continent= {'UA_Continent': 'Continent'}"
   ]
  },
  {
   "cell_type": "code",
   "execution_count": 24,
   "id": "ee3f5d51",
   "metadata": {},
   "outputs": [],
   "source": [
    "df.rename(columns=for_continent,inplace=True)"
   ]
  },
  {
   "cell_type": "code",
   "execution_count": 25,
   "id": "dfeb56a5",
   "metadata": {
    "scrolled": true
   },
   "outputs": [
    {
     "data": {
      "text/html": [
       "<div>\n",
       "<style scoped>\n",
       "    .dataframe tbody tr th:only-of-type {\n",
       "        vertical-align: middle;\n",
       "    }\n",
       "\n",
       "    .dataframe tbody tr th {\n",
       "        vertical-align: top;\n",
       "    }\n",
       "\n",
       "    .dataframe thead th {\n",
       "        text-align: right;\n",
       "    }\n",
       "</style>\n",
       "<table border=\"1\" class=\"dataframe\">\n",
       "  <thead>\n",
       "    <tr style=\"text-align: right;\">\n",
       "      <th></th>\n",
       "      <th>City</th>\n",
       "      <th>Country</th>\n",
       "      <th>Continent</th>\n",
       "      <th>Housing</th>\n",
       "      <th>Cost of Living</th>\n",
       "      <th>Commute</th>\n",
       "      <th>Safety</th>\n",
       "      <th>Healthcare</th>\n",
       "      <th>Education</th>\n",
       "      <th>Environmental Quality</th>\n",
       "      <th>Economy</th>\n",
       "      <th>Taxation</th>\n",
       "      <th>Internet Access</th>\n",
       "      <th>Leisure &amp; Culture</th>\n",
       "      <th>Outdoors</th>\n",
       "    </tr>\n",
       "  </thead>\n",
       "  <tbody>\n",
       "    <tr>\n",
       "      <th>0</th>\n",
       "      <td>Aarhus</td>\n",
       "      <td>Denmark</td>\n",
       "      <td>Europe</td>\n",
       "      <td>6.1315</td>\n",
       "      <td>4.015</td>\n",
       "      <td>6.31175</td>\n",
       "      <td>9.6165</td>\n",
       "      <td>8.704333</td>\n",
       "      <td>5.3665</td>\n",
       "      <td>7.63300</td>\n",
       "      <td>4.8865</td>\n",
       "      <td>5.0680</td>\n",
       "      <td>8.373</td>\n",
       "      <td>3.1870</td>\n",
       "      <td>4.1300</td>\n",
       "    </tr>\n",
       "    <tr>\n",
       "      <th>1</th>\n",
       "      <td>Adelaide</td>\n",
       "      <td>Australia</td>\n",
       "      <td>Oceania</td>\n",
       "      <td>6.3095</td>\n",
       "      <td>4.692</td>\n",
       "      <td>5.33625</td>\n",
       "      <td>7.9260</td>\n",
       "      <td>7.936667</td>\n",
       "      <td>5.1420</td>\n",
       "      <td>8.33075</td>\n",
       "      <td>6.0695</td>\n",
       "      <td>4.5885</td>\n",
       "      <td>4.341</td>\n",
       "      <td>4.3285</td>\n",
       "      <td>5.5310</td>\n",
       "    </tr>\n",
       "    <tr>\n",
       "      <th>2</th>\n",
       "      <td>Albuquerque</td>\n",
       "      <td>New Mexico</td>\n",
       "      <td>North America</td>\n",
       "      <td>7.2620</td>\n",
       "      <td>6.059</td>\n",
       "      <td>5.05575</td>\n",
       "      <td>1.3435</td>\n",
       "      <td>6.430000</td>\n",
       "      <td>4.1520</td>\n",
       "      <td>7.31950</td>\n",
       "      <td>6.5145</td>\n",
       "      <td>4.3460</td>\n",
       "      <td>5.396</td>\n",
       "      <td>4.8900</td>\n",
       "      <td>3.5155</td>\n",
       "    </tr>\n",
       "    <tr>\n",
       "      <th>3</th>\n",
       "      <td>Almaty</td>\n",
       "      <td>Kazakhstan</td>\n",
       "      <td>Asia</td>\n",
       "      <td>9.2820</td>\n",
       "      <td>9.333</td>\n",
       "      <td>5.87125</td>\n",
       "      <td>7.3090</td>\n",
       "      <td>4.545667</td>\n",
       "      <td>2.2830</td>\n",
       "      <td>3.85675</td>\n",
       "      <td>5.2690</td>\n",
       "      <td>8.5220</td>\n",
       "      <td>2.886</td>\n",
       "      <td>2.9370</td>\n",
       "      <td>5.5000</td>\n",
       "    </tr>\n",
       "    <tr>\n",
       "      <th>4</th>\n",
       "      <td>Amsterdam</td>\n",
       "      <td>Netherlands</td>\n",
       "      <td>Europe</td>\n",
       "      <td>3.0530</td>\n",
       "      <td>3.824</td>\n",
       "      <td>6.11850</td>\n",
       "      <td>8.5035</td>\n",
       "      <td>7.907333</td>\n",
       "      <td>6.1800</td>\n",
       "      <td>7.59725</td>\n",
       "      <td>5.0530</td>\n",
       "      <td>4.9550</td>\n",
       "      <td>4.523</td>\n",
       "      <td>8.8740</td>\n",
       "      <td>5.3070</td>\n",
       "    </tr>\n",
       "  </tbody>\n",
       "</table>\n",
       "</div>"
      ],
      "text/plain": [
       "          City       Country      Continent  Housing  Cost of Living  Commute  \\\n",
       "0       Aarhus       Denmark         Europe   6.1315           4.015  6.31175   \n",
       "1     Adelaide     Australia        Oceania   6.3095           4.692  5.33625   \n",
       "2  Albuquerque    New Mexico  North America   7.2620           6.059  5.05575   \n",
       "3       Almaty    Kazakhstan           Asia   9.2820           9.333  5.87125   \n",
       "4    Amsterdam   Netherlands         Europe   3.0530           3.824  6.11850   \n",
       "\n",
       "   Safety  Healthcare  Education  Environmental Quality  Economy  Taxation  \\\n",
       "0  9.6165    8.704333     5.3665                7.63300   4.8865    5.0680   \n",
       "1  7.9260    7.936667     5.1420                8.33075   6.0695    4.5885   \n",
       "2  1.3435    6.430000     4.1520                7.31950   6.5145    4.3460   \n",
       "3  7.3090    4.545667     2.2830                3.85675   5.2690    8.5220   \n",
       "4  8.5035    7.907333     6.1800                7.59725   5.0530    4.9550   \n",
       "\n",
       "   Internet Access  Leisure & Culture  Outdoors  \n",
       "0            8.373             3.1870    4.1300  \n",
       "1            4.341             4.3285    5.5310  \n",
       "2            5.396             4.8900    3.5155  \n",
       "3            2.886             2.9370    5.5000  \n",
       "4            4.523             8.8740    5.3070  "
      ]
     },
     "execution_count": 25,
     "metadata": {},
     "output_type": "execute_result"
    }
   ],
   "source": [
    "df.head()"
   ]
  },
  {
   "cell_type": "code",
   "execution_count": 30,
   "id": "382645bd",
   "metadata": {},
   "outputs": [],
   "source": [
    "ciudades=list(df.City.unique())"
   ]
  },
  {
   "cell_type": "code",
   "execution_count": 31,
   "id": "57e10fba",
   "metadata": {},
   "outputs": [
    {
     "data": {
      "text/plain": [
       "['Aarhus',\n",
       " 'Adelaide',\n",
       " 'Albuquerque',\n",
       " 'Almaty',\n",
       " 'Amsterdam',\n",
       " 'Anchorage',\n",
       " 'Andorra',\n",
       " 'Ankara',\n",
       " 'Asheville',\n",
       " 'Asuncion',\n",
       " 'Athens',\n",
       " 'Atlanta',\n",
       " 'Auckland',\n",
       " 'Austin',\n",
       " 'Baku',\n",
       " 'Bali',\n",
       " 'Baltimore',\n",
       " 'Bangkok',\n",
       " 'Barcelona',\n",
       " 'Beijing',\n",
       " 'Beirut',\n",
       " 'Belfast',\n",
       " 'Belgrade',\n",
       " 'Belize City',\n",
       " 'Bengaluru',\n",
       " 'Bergen',\n",
       " 'Berlin',\n",
       " 'Bern',\n",
       " 'Bilbao',\n",
       " 'Birmingham',\n",
       " 'Bogota',\n",
       " 'Boise',\n",
       " 'Bologna',\n",
       " 'Bordeaux',\n",
       " 'Boston',\n",
       " 'Boulder',\n",
       " 'Bozeman',\n",
       " 'Bratislava',\n",
       " 'Brighton',\n",
       " 'Brisbane',\n",
       " 'Bristol',\n",
       " 'Brno',\n",
       " 'Brussels',\n",
       " 'Bucharest',\n",
       " 'Budapest',\n",
       " 'Buenos Aires',\n",
       " 'Buffalo',\n",
       " 'Cairo',\n",
       " 'Calgary',\n",
       " 'Cambridge',\n",
       " 'Cape Town',\n",
       " 'Caracas',\n",
       " 'Cardiff',\n",
       " 'Casablanca',\n",
       " 'Charleston',\n",
       " 'Charlotte',\n",
       " 'Chattanooga',\n",
       " 'Chennai',\n",
       " 'Chiang Mai',\n",
       " 'Chicago',\n",
       " 'Chisinau',\n",
       " 'Christchurch',\n",
       " 'Cincinnati',\n",
       " 'Cleveland',\n",
       " 'Cluj-Napoca',\n",
       " 'Cologne',\n",
       " 'Colorado Springs',\n",
       " 'Columbus',\n",
       " 'Copenhagen',\n",
       " 'Cork',\n",
       " 'Curitiba',\n",
       " 'Dallas',\n",
       " 'Dar es Salaam',\n",
       " 'Delhi',\n",
       " 'Denver',\n",
       " 'Des Moines',\n",
       " 'Detroit',\n",
       " 'Doha',\n",
       " 'Dresden',\n",
       " 'Dubai',\n",
       " 'Dublin',\n",
       " 'Dusseldorf',\n",
       " 'Edinburgh',\n",
       " 'Edmonton',\n",
       " 'Eindhoven',\n",
       " 'Eugene',\n",
       " 'Florence',\n",
       " 'Florianopolis',\n",
       " 'Fort Collins',\n",
       " 'Frankfurt',\n",
       " 'Fukuoka',\n",
       " 'Galway',\n",
       " 'Gdansk',\n",
       " 'Geneva',\n",
       " 'Gibraltar',\n",
       " 'Glasgow',\n",
       " 'Gothenburg',\n",
       " 'Grenoble',\n",
       " 'Guadalajara',\n",
       " 'Guatemala City',\n",
       " 'Halifax',\n",
       " 'Hamburg',\n",
       " 'Hannover',\n",
       " 'Havana',\n",
       " 'Helsinki',\n",
       " 'Ho Chi Minh City',\n",
       " 'Hong Kong',\n",
       " 'Honolulu',\n",
       " 'Houston',\n",
       " 'Hyderabad',\n",
       " 'Indianapolis',\n",
       " 'Innsbruck',\n",
       " 'Istanbul',\n",
       " 'Jacksonville',\n",
       " 'Jakarta',\n",
       " 'Johannesburg',\n",
       " 'Kansas City',\n",
       " 'Karlsruhe',\n",
       " 'Kathmandu',\n",
       " 'Kiev',\n",
       " 'Kingston',\n",
       " 'Knoxville',\n",
       " 'Krakow',\n",
       " 'Kuala Lumpur',\n",
       " 'Kyoto',\n",
       " 'Lagos',\n",
       " 'La Paz',\n",
       " 'Las Palmas de Gran Canaria',\n",
       " 'Las Vegas',\n",
       " 'Lausanne',\n",
       " 'Leeds',\n",
       " 'Leipzig',\n",
       " 'Lille',\n",
       " 'Lima',\n",
       " 'Lisbon',\n",
       " 'Liverpool',\n",
       " 'Ljubljana',\n",
       " 'London',\n",
       " 'Los Angeles',\n",
       " 'Louisville',\n",
       " 'Luxembourg',\n",
       " 'Lviv',\n",
       " 'Lyon',\n",
       " 'Madison',\n",
       " 'Madrid',\n",
       " 'Malaga',\n",
       " 'Malmo',\n",
       " 'Managua',\n",
       " 'Manchester',\n",
       " 'Manila',\n",
       " 'Marseille',\n",
       " 'Medellin',\n",
       " 'Melbourne',\n",
       " 'Memphis',\n",
       " 'Mexico City',\n",
       " 'Miami',\n",
       " 'Milan',\n",
       " 'Milwaukee',\n",
       " 'Minneapolis-Saint Paul',\n",
       " 'Minsk',\n",
       " 'Montevideo',\n",
       " 'Montreal',\n",
       " 'Moscow',\n",
       " 'Mumbai',\n",
       " 'Munich',\n",
       " 'Nairobi',\n",
       " 'Nantes',\n",
       " 'Naples',\n",
       " 'Nashville',\n",
       " 'New Orleans',\n",
       " 'New York',\n",
       " 'Nice',\n",
       " 'Nicosia',\n",
       " 'Oklahoma City',\n",
       " 'Omaha',\n",
       " 'Orlando',\n",
       " 'Osaka',\n",
       " 'Oslo',\n",
       " 'Ottawa',\n",
       " 'Oulu',\n",
       " 'Oxford',\n",
       " 'Palo Alto',\n",
       " 'Panama',\n",
       " 'Paris',\n",
       " 'Perth',\n",
       " 'Philadelphia',\n",
       " 'Phnom Penh',\n",
       " 'Phoenix',\n",
       " 'Phuket',\n",
       " 'Pittsburgh',\n",
       " 'Portland',\n",
       " 'Porto',\n",
       " 'Porto Alegre',\n",
       " 'Prague',\n",
       " 'Providence',\n",
       " 'Quebec',\n",
       " 'Quito',\n",
       " 'Raleigh',\n",
       " 'Reykjavik',\n",
       " 'Richmond',\n",
       " 'Riga',\n",
       " 'Rio De Janeiro',\n",
       " 'Riyadh',\n",
       " 'Rochester',\n",
       " 'Rome',\n",
       " 'Rotterdam',\n",
       " 'Saint Petersburg',\n",
       " 'Salt Lake City',\n",
       " 'San Antonio',\n",
       " 'San Diego',\n",
       " 'San Francisco Bay Area',\n",
       " 'San Jose',\n",
       " 'San Juan',\n",
       " 'San Luis Obispo',\n",
       " 'San Salvador',\n",
       " 'Santiago',\n",
       " 'Santo Domingo',\n",
       " 'Sao Paulo',\n",
       " 'Sarajevo',\n",
       " 'Saskatoon',\n",
       " 'Seattle',\n",
       " 'Seoul',\n",
       " 'Seville',\n",
       " 'Shanghai',\n",
       " 'Singapore',\n",
       " 'Skopje',\n",
       " 'Sofia',\n",
       " 'St. Louis',\n",
       " 'Stockholm',\n",
       " 'Stuttgart',\n",
       " 'Sydney',\n",
       " 'Taipei',\n",
       " 'Tallinn',\n",
       " 'Tampa Bay Area',\n",
       " 'Tampere',\n",
       " 'Tartu',\n",
       " 'Tashkent',\n",
       " 'Tbilisi',\n",
       " 'Tehran',\n",
       " 'Tel Aviv',\n",
       " 'The Hague',\n",
       " 'Thessaloniki',\n",
       " 'Tokyo',\n",
       " 'Toronto',\n",
       " 'Toulouse',\n",
       " 'Tunis',\n",
       " 'Turin',\n",
       " 'Turku',\n",
       " 'Uppsala',\n",
       " 'Utrecht',\n",
       " 'Valencia',\n",
       " 'Valletta',\n",
       " 'Vancouver',\n",
       " 'Victoria',\n",
       " 'Vienna',\n",
       " 'Vilnius',\n",
       " 'Warsaw',\n",
       " 'Washington',\n",
       " 'Wellington',\n",
       " 'Winnipeg',\n",
       " 'Wroclaw',\n",
       " 'Yerevan',\n",
       " 'Zagreb',\n",
       " 'Zurich']"
      ]
     },
     "execution_count": 31,
     "metadata": {},
     "output_type": "execute_result"
    }
   ],
   "source": [
    "ciudades"
   ]
  },
  {
   "cell_type": "code",
   "execution_count": 27,
   "id": "2475f811",
   "metadata": {},
   "outputs": [
    {
     "data": {
      "text/plain": [
       "264"
      ]
     },
     "execution_count": 27,
     "metadata": {},
     "output_type": "execute_result"
    }
   ],
   "source": [
    "len(ciudades)"
   ]
  },
  {
   "cell_type": "code",
   "execution_count": 28,
   "id": "fcefd06a",
   "metadata": {},
   "outputs": [],
   "source": [
    "paises=list(df.Country.unique())"
   ]
  },
  {
   "cell_type": "code",
   "execution_count": 29,
   "id": "f510e826",
   "metadata": {},
   "outputs": [
    {
     "data": {
      "text/plain": [
       "135"
      ]
     },
     "execution_count": 29,
     "metadata": {},
     "output_type": "execute_result"
    }
   ],
   "source": [
    "len(paises)"
   ]
  },
  {
   "cell_type": "markdown",
   "id": "0d8fcd73",
   "metadata": {},
   "source": [
    "### ENRICHING MY DF WITH AN API ABOUT AIR QUALITY:"
   ]
  },
  {
   "cell_type": "code",
   "execution_count": null,
   "id": "6c8ccece",
   "metadata": {},
   "outputs": [],
   "source": [
    "url=\"http://api.waqi.info/feed/seoul/?token=8d08c0b307aab938e8682c862b6183224bd72a33\""
   ]
  },
  {
   "cell_type": "code",
   "execution_count": null,
   "id": "4bbc3ba2",
   "metadata": {},
   "outputs": [],
   "source": [
    "#url=\"http://api.waqi.info/feed\""
   ]
  },
  {
   "cell_type": "code",
   "execution_count": null,
   "id": "6b1fa69d",
   "metadata": {},
   "outputs": [],
   "source": [
    "#parameters = {\"city\":\"Beijing\",\"token\": \"8d08c0b307aab938e8682c862b6183224bd72a33\"}"
   ]
  },
  {
   "cell_type": "code",
   "execution_count": null,
   "id": "377896fd",
   "metadata": {},
   "outputs": [],
   "source": [
    "#parameters = {\"token\": \"8d08c0b307aab938e8682c862b6183224bd72a33\"}"
   ]
  },
  {
   "cell_type": "code",
   "execution_count": null,
   "id": "0aa656c6",
   "metadata": {},
   "outputs": [],
   "source": [
    "#token = os.getenv(\"key\")"
   ]
  },
  {
   "cell_type": "code",
   "execution_count": null,
   "id": "68432a54",
   "metadata": {},
   "outputs": [],
   "source": [
    "re=requests.get(url, params=parameters)"
   ]
  },
  {
   "cell_type": "code",
   "execution_count": null,
   "id": "70621e2e",
   "metadata": {},
   "outputs": [],
   "source": [
    "#re=requests.get(url)"
   ]
  },
  {
   "cell_type": "code",
   "execution_count": null,
   "id": "84c21f38",
   "metadata": {},
   "outputs": [],
   "source": [
    "re.headers"
   ]
  },
  {
   "cell_type": "code",
   "execution_count": null,
   "id": "da86d3a2",
   "metadata": {},
   "outputs": [],
   "source": [
    "re_j=re.json()"
   ]
  },
  {
   "cell_type": "code",
   "execution_count": null,
   "id": "2ddcbd0c",
   "metadata": {},
   "outputs": [],
   "source": [
    "type(re_j)"
   ]
  },
  {
   "cell_type": "code",
   "execution_count": null,
   "id": "3352161c",
   "metadata": {},
   "outputs": [],
   "source": [
    "re_j.keys()"
   ]
  },
  {
   "cell_type": "code",
   "execution_count": null,
   "id": "4c68cd17",
   "metadata": {},
   "outputs": [],
   "source": [
    "data=re_j['data'] "
   ]
  },
  {
   "cell_type": "code",
   "execution_count": null,
   "id": "4c1de111",
   "metadata": {},
   "outputs": [],
   "source": [
    "data"
   ]
  },
  {
   "cell_type": "code",
   "execution_count": null,
   "id": "09a43f3a",
   "metadata": {},
   "outputs": [],
   "source": [
    "data.keys()"
   ]
  },
  {
   "cell_type": "code",
   "execution_count": null,
   "id": "7f624c38",
   "metadata": {},
   "outputs": [],
   "source": [
    "Beijing=data['aqi'] #Dentro de la key data, hay otro diccionario y, dentro de \"aqi\", tengo el valor que se refiere a lo contaminado que está el aire que es el que me ineteresa."
   ]
  },
  {
   "cell_type": "code",
   "execution_count": null,
   "id": "e199bbed",
   "metadata": {},
   "outputs": [],
   "source": [
    "# función sin terminar pendiente de parámetros(ciudad, key).\n",
    "# Mi idea es pasarle mi lista llamada \"ciudades\" con los valores únicos de mi df de todas las ciudades.\n",
    "\n",
    "def air_quality(ciudades):\n",
    "    for ciudad in ciudades:\n",
    "        parameters = {\"token\": \"8d08c0b307aab938e8682c862b6183224bd72a33\", \"keyword\":\"ciudad\"}\n",
    "        requests.get(url, params=parameters)"
   ]
  },
  {
   "cell_type": "code",
   "execution_count": null,
   "id": "f5c86823",
   "metadata": {},
   "outputs": [],
   "source": [
    "# función que me da el nivel de contaminación del aire que sería la columna nueva que crearía en mi df.\n",
    "# \"x\" sería el dato \"aqi\" dentro de \"data\", que es una de las keys del diccionario que me devuelve el .json:\n",
    "# Aquí muestro el ejemplo para Beijing:\n",
    "\n",
    "def quality_level (x):\n",
    "    if x<=50:\n",
    "        return \"Good\"\n",
    "    elif 51<=x<=100:\n",
    "        return \"Moderate\"\n",
    "    elif 101<=x<=150:\n",
    "        return \"Unhealthy for Sensitive Groups\"\n",
    "    elif 151<=x<=200:\n",
    "        return \"Unhealthy\"\n",
    "    elif 201<=x<=300:\n",
    "        return \"Very Unhealthy\"\n",
    "    else:\n",
    "        return \"Hazardous\""
   ]
  },
  {
   "cell_type": "code",
   "execution_count": null,
   "id": "165fb17d",
   "metadata": {},
   "outputs": [],
   "source": [
    "quality_level(Beijing)"
   ]
  },
  {
   "cell_type": "code",
   "execution_count": 33,
   "id": "587d9d98",
   "metadata": {},
   "outputs": [
    {
     "ename": "NameError",
     "evalue": "name 'watchCitiesWeather' is not defined",
     "output_type": "error",
     "traceback": [
      "\u001b[0;31m---------------------------------------------------------------------------\u001b[0m",
      "\u001b[0;31mNameError\u001b[0m                                 Traceback (most recent call last)",
      "\u001b[0;32m<ipython-input-33-b0bc8816a456>\u001b[0m in \u001b[0;36m<module>\u001b[0;34m\u001b[0m\n\u001b[0;32m----> 1\u001b[0;31m \u001b[0mwatchCitiesWeather\u001b[0m\u001b[0;34m(\u001b[0m\u001b[0mgetCities\u001b[0m\u001b[0;34m(\u001b[0m\u001b[0;34m)\u001b[0m\u001b[0;34m)\u001b[0m\u001b[0;34m\u001b[0m\u001b[0;34m\u001b[0m\u001b[0m\n\u001b[0m",
      "\u001b[0;31mNameError\u001b[0m: name 'watchCitiesWeather' is not defined"
     ]
    }
   ],
   "source": [
    "watchCitiesWeather(getCities())"
   ]
  },
  {
   "cell_type": "code",
   "execution_count": null,
   "id": "1ae0f494",
   "metadata": {},
   "outputs": [],
   "source": []
  }
 ],
 "metadata": {
  "kernelspec": {
   "display_name": "ironhack",
   "language": "python",
   "name": "ironhack"
  },
  "language_info": {
   "codemirror_mode": {
    "name": "ipython",
    "version": 3
   },
   "file_extension": ".py",
   "mimetype": "text/x-python",
   "name": "python",
   "nbconvert_exporter": "python",
   "pygments_lexer": "ipython3",
   "version": "3.8.5"
  }
 },
 "nbformat": 4,
 "nbformat_minor": 5
}
