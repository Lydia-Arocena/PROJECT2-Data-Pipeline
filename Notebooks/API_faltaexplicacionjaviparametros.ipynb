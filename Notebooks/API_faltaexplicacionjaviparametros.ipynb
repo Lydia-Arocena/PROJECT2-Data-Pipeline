{
 "cells": [
  {
   "cell_type": "code",
   "execution_count": 2,
   "id": "f05edd41",
   "metadata": {},
   "outputs": [],
   "source": [
    "import pandas as pd\n",
    "import requests \n",
    "import os\n",
    "from dotenv import load_dotenv"
   ]
  },
  {
   "cell_type": "code",
   "execution_count": 3,
   "id": "935da8a9",
   "metadata": {},
   "outputs": [
    {
     "name": "stdout",
     "output_type": "stream",
     "text": [
      "Requirement already satisfied: python-dotenv in /home/lydia/anaconda3/lib/python3.8/site-packages (0.19.1)\r\n"
     ]
    }
   ],
   "source": [
    "!pip3 install python-dotenv"
   ]
  },
  {
   "cell_type": "code",
   "execution_count": 7,
   "id": "fbb1cd9f",
   "metadata": {},
   "outputs": [],
   "source": [
    "df = pd.read_csv(\"../data/City_Quality_of_Life_Dataset.csv\")"
   ]
  },
  {
   "cell_type": "code",
   "execution_count": 8,
   "id": "d7da6575",
   "metadata": {},
   "outputs": [
    {
     "data": {
      "text/html": [
       "<div>\n",
       "<style scoped>\n",
       "    .dataframe tbody tr th:only-of-type {\n",
       "        vertical-align: middle;\n",
       "    }\n",
       "\n",
       "    .dataframe tbody tr th {\n",
       "        vertical-align: top;\n",
       "    }\n",
       "\n",
       "    .dataframe thead th {\n",
       "        text-align: right;\n",
       "    }\n",
       "</style>\n",
       "<table border=\"1\" class=\"dataframe\">\n",
       "  <thead>\n",
       "    <tr style=\"text-align: right;\">\n",
       "      <th></th>\n",
       "      <th>Unnamed: 0</th>\n",
       "      <th>UA_Name</th>\n",
       "      <th>UA_Country</th>\n",
       "      <th>UA_Continent</th>\n",
       "      <th>Housing</th>\n",
       "      <th>Cost of Living</th>\n",
       "      <th>Startups</th>\n",
       "      <th>Venture Capital</th>\n",
       "      <th>Travel Connectivity</th>\n",
       "      <th>Commute</th>\n",
       "      <th>...</th>\n",
       "      <th>Safety</th>\n",
       "      <th>Healthcare</th>\n",
       "      <th>Education</th>\n",
       "      <th>Environmental Quality</th>\n",
       "      <th>Economy</th>\n",
       "      <th>Taxation</th>\n",
       "      <th>Internet Access</th>\n",
       "      <th>Leisure &amp; Culture</th>\n",
       "      <th>Tolerance</th>\n",
       "      <th>Outdoors</th>\n",
       "    </tr>\n",
       "  </thead>\n",
       "  <tbody>\n",
       "    <tr>\n",
       "      <th>0</th>\n",
       "      <td>0</td>\n",
       "      <td>Aarhus</td>\n",
       "      <td>Denmark</td>\n",
       "      <td>Europe</td>\n",
       "      <td>6.1315</td>\n",
       "      <td>4.015</td>\n",
       "      <td>2.8270</td>\n",
       "      <td>2.512</td>\n",
       "      <td>3.5360</td>\n",
       "      <td>6.31175</td>\n",
       "      <td>...</td>\n",
       "      <td>9.6165</td>\n",
       "      <td>8.704333</td>\n",
       "      <td>5.3665</td>\n",
       "      <td>7.63300</td>\n",
       "      <td>4.8865</td>\n",
       "      <td>5.0680</td>\n",
       "      <td>8.373</td>\n",
       "      <td>3.1870</td>\n",
       "      <td>9.7385</td>\n",
       "      <td>4.1300</td>\n",
       "    </tr>\n",
       "    <tr>\n",
       "      <th>1</th>\n",
       "      <td>1</td>\n",
       "      <td>Adelaide</td>\n",
       "      <td>Australia</td>\n",
       "      <td>Oceania</td>\n",
       "      <td>6.3095</td>\n",
       "      <td>4.692</td>\n",
       "      <td>3.1365</td>\n",
       "      <td>2.640</td>\n",
       "      <td>1.7765</td>\n",
       "      <td>5.33625</td>\n",
       "      <td>...</td>\n",
       "      <td>7.9260</td>\n",
       "      <td>7.936667</td>\n",
       "      <td>5.1420</td>\n",
       "      <td>8.33075</td>\n",
       "      <td>6.0695</td>\n",
       "      <td>4.5885</td>\n",
       "      <td>4.341</td>\n",
       "      <td>4.3285</td>\n",
       "      <td>7.8220</td>\n",
       "      <td>5.5310</td>\n",
       "    </tr>\n",
       "    <tr>\n",
       "      <th>2</th>\n",
       "      <td>2</td>\n",
       "      <td>Albuquerque</td>\n",
       "      <td>New Mexico</td>\n",
       "      <td>North America</td>\n",
       "      <td>7.2620</td>\n",
       "      <td>6.059</td>\n",
       "      <td>3.7720</td>\n",
       "      <td>1.493</td>\n",
       "      <td>1.4555</td>\n",
       "      <td>5.05575</td>\n",
       "      <td>...</td>\n",
       "      <td>1.3435</td>\n",
       "      <td>6.430000</td>\n",
       "      <td>4.1520</td>\n",
       "      <td>7.31950</td>\n",
       "      <td>6.5145</td>\n",
       "      <td>4.3460</td>\n",
       "      <td>5.396</td>\n",
       "      <td>4.8900</td>\n",
       "      <td>7.0285</td>\n",
       "      <td>3.5155</td>\n",
       "    </tr>\n",
       "    <tr>\n",
       "      <th>3</th>\n",
       "      <td>3</td>\n",
       "      <td>Almaty</td>\n",
       "      <td>Kazakhstan</td>\n",
       "      <td>Asia</td>\n",
       "      <td>9.2820</td>\n",
       "      <td>9.333</td>\n",
       "      <td>2.4585</td>\n",
       "      <td>0.000</td>\n",
       "      <td>4.5920</td>\n",
       "      <td>5.87125</td>\n",
       "      <td>...</td>\n",
       "      <td>7.3090</td>\n",
       "      <td>4.545667</td>\n",
       "      <td>2.2830</td>\n",
       "      <td>3.85675</td>\n",
       "      <td>5.2690</td>\n",
       "      <td>8.5220</td>\n",
       "      <td>2.886</td>\n",
       "      <td>2.9370</td>\n",
       "      <td>6.5395</td>\n",
       "      <td>5.5000</td>\n",
       "    </tr>\n",
       "    <tr>\n",
       "      <th>4</th>\n",
       "      <td>4</td>\n",
       "      <td>Amsterdam</td>\n",
       "      <td>Netherlands</td>\n",
       "      <td>Europe</td>\n",
       "      <td>3.0530</td>\n",
       "      <td>3.824</td>\n",
       "      <td>7.9715</td>\n",
       "      <td>6.107</td>\n",
       "      <td>8.3245</td>\n",
       "      <td>6.11850</td>\n",
       "      <td>...</td>\n",
       "      <td>8.5035</td>\n",
       "      <td>7.907333</td>\n",
       "      <td>6.1800</td>\n",
       "      <td>7.59725</td>\n",
       "      <td>5.0530</td>\n",
       "      <td>4.9550</td>\n",
       "      <td>4.523</td>\n",
       "      <td>8.8740</td>\n",
       "      <td>8.3680</td>\n",
       "      <td>5.3070</td>\n",
       "    </tr>\n",
       "  </tbody>\n",
       "</table>\n",
       "<p>5 rows × 21 columns</p>\n",
       "</div>"
      ],
      "text/plain": [
       "   Unnamed: 0      UA_Name    UA_Country   UA_Continent  Housing  \\\n",
       "0           0       Aarhus       Denmark         Europe   6.1315   \n",
       "1           1     Adelaide     Australia        Oceania   6.3095   \n",
       "2           2  Albuquerque    New Mexico  North America   7.2620   \n",
       "3           3       Almaty    Kazakhstan           Asia   9.2820   \n",
       "4           4    Amsterdam   Netherlands         Europe   3.0530   \n",
       "\n",
       "   Cost of Living  Startups  Venture Capital  Travel Connectivity  Commute  \\\n",
       "0           4.015    2.8270            2.512               3.5360  6.31175   \n",
       "1           4.692    3.1365            2.640               1.7765  5.33625   \n",
       "2           6.059    3.7720            1.493               1.4555  5.05575   \n",
       "3           9.333    2.4585            0.000               4.5920  5.87125   \n",
       "4           3.824    7.9715            6.107               8.3245  6.11850   \n",
       "\n",
       "   ...  Safety  Healthcare  Education  Environmental Quality  Economy  \\\n",
       "0  ...  9.6165    8.704333     5.3665                7.63300   4.8865   \n",
       "1  ...  7.9260    7.936667     5.1420                8.33075   6.0695   \n",
       "2  ...  1.3435    6.430000     4.1520                7.31950   6.5145   \n",
       "3  ...  7.3090    4.545667     2.2830                3.85675   5.2690   \n",
       "4  ...  8.5035    7.907333     6.1800                7.59725   5.0530   \n",
       "\n",
       "   Taxation  Internet Access  Leisure & Culture  Tolerance  Outdoors  \n",
       "0    5.0680            8.373             3.1870     9.7385    4.1300  \n",
       "1    4.5885            4.341             4.3285     7.8220    5.5310  \n",
       "2    4.3460            5.396             4.8900     7.0285    3.5155  \n",
       "3    8.5220            2.886             2.9370     6.5395    5.5000  \n",
       "4    4.9550            4.523             8.8740     8.3680    5.3070  \n",
       "\n",
       "[5 rows x 21 columns]"
      ]
     },
     "execution_count": 8,
     "metadata": {},
     "output_type": "execute_result"
    }
   ],
   "source": [
    "df.head()"
   ]
  },
  {
   "cell_type": "code",
   "execution_count": 9,
   "id": "22050371",
   "metadata": {},
   "outputs": [
    {
     "data": {
      "text/plain": [
       "Index(['Unnamed: 0', 'UA_Name', 'UA_Country', 'UA_Continent', 'Housing',\n",
       "       'Cost of Living', 'Startups', 'Venture Capital', 'Travel Connectivity',\n",
       "       'Commute', 'Business Freedom', 'Safety', 'Healthcare', 'Education',\n",
       "       'Environmental Quality', 'Economy', 'Taxation', 'Internet Access',\n",
       "       'Leisure & Culture', 'Tolerance', 'Outdoors'],\n",
       "      dtype='object')"
      ]
     },
     "execution_count": 9,
     "metadata": {},
     "output_type": "execute_result"
    }
   ],
   "source": [
    "df.columns"
   ]
  },
  {
   "cell_type": "markdown",
   "id": "658a3003",
   "metadata": {},
   "source": [
    "### Borro columnas que no me interesan de mi df:"
   ]
  },
  {
   "cell_type": "code",
   "execution_count": 10,
   "id": "854a7dc3",
   "metadata": {},
   "outputs": [],
   "source": [
    "df.drop([\"Unnamed: 0\", \"Startups\", \"Venture Capital\", \"Travel Connectivity\", \"Business Freedom\", \"Tolerance\"], axis=1, inplace=True)"
   ]
  },
  {
   "cell_type": "code",
   "execution_count": 12,
   "id": "3efcced4",
   "metadata": {},
   "outputs": [
    {
     "data": {
      "text/html": [
       "<div>\n",
       "<style scoped>\n",
       "    .dataframe tbody tr th:only-of-type {\n",
       "        vertical-align: middle;\n",
       "    }\n",
       "\n",
       "    .dataframe tbody tr th {\n",
       "        vertical-align: top;\n",
       "    }\n",
       "\n",
       "    .dataframe thead th {\n",
       "        text-align: right;\n",
       "    }\n",
       "</style>\n",
       "<table border=\"1\" class=\"dataframe\">\n",
       "  <thead>\n",
       "    <tr style=\"text-align: right;\">\n",
       "      <th></th>\n",
       "      <th>UA_Name</th>\n",
       "      <th>UA_Country</th>\n",
       "      <th>UA_Continent</th>\n",
       "      <th>Housing</th>\n",
       "      <th>Cost of Living</th>\n",
       "      <th>Commute</th>\n",
       "      <th>Safety</th>\n",
       "      <th>Healthcare</th>\n",
       "      <th>Education</th>\n",
       "      <th>Environmental Quality</th>\n",
       "      <th>Economy</th>\n",
       "      <th>Taxation</th>\n",
       "      <th>Internet Access</th>\n",
       "      <th>Leisure &amp; Culture</th>\n",
       "      <th>Outdoors</th>\n",
       "    </tr>\n",
       "  </thead>\n",
       "  <tbody>\n",
       "    <tr>\n",
       "      <th>9</th>\n",
       "      <td>Asuncion</td>\n",
       "      <td>Paraguay</td>\n",
       "      <td>South America</td>\n",
       "      <td>9.2265</td>\n",
       "      <td>9.295</td>\n",
       "      <td>4.96875</td>\n",
       "      <td>6.9345</td>\n",
       "      <td>5.485333</td>\n",
       "      <td>0.0</td>\n",
       "      <td>3.969</td>\n",
       "      <td>4.109</td>\n",
       "      <td>8.4235</td>\n",
       "      <td>1.479</td>\n",
       "      <td>5.992</td>\n",
       "      <td>3.4845</td>\n",
       "    </tr>\n",
       "  </tbody>\n",
       "</table>\n",
       "</div>"
      ],
      "text/plain": [
       "    UA_Name UA_Country   UA_Continent  Housing  Cost of Living  Commute  \\\n",
       "9  Asuncion   Paraguay  South America   9.2265           9.295  4.96875   \n",
       "\n",
       "   Safety  Healthcare  Education  Environmental Quality  Economy  Taxation  \\\n",
       "9  6.9345    5.485333        0.0                  3.969    4.109    8.4235   \n",
       "\n",
       "   Internet Access  Leisure & Culture  Outdoors  \n",
       "9            1.479              5.992    3.4845  "
      ]
     },
     "execution_count": 12,
     "metadata": {},
     "output_type": "execute_result"
    }
   ],
   "source": [
    "df.sample()"
   ]
  },
  {
   "cell_type": "code",
   "execution_count": 13,
   "id": "cfa4e065",
   "metadata": {},
   "outputs": [
    {
     "data": {
      "text/plain": [
       "(266, 15)"
      ]
     },
     "execution_count": 13,
     "metadata": {},
     "output_type": "execute_result"
    }
   ],
   "source": [
    "df.shape"
   ]
  },
  {
   "cell_type": "markdown",
   "id": "0689676c",
   "metadata": {},
   "source": [
    "### Cambio nombres de las columnas."
   ]
  },
  {
   "cell_type": "code",
   "execution_count": 14,
   "id": "6a161c53",
   "metadata": {},
   "outputs": [],
   "source": [
    "for_city = {'UA_Name': 'City'}"
   ]
  },
  {
   "cell_type": "code",
   "execution_count": 15,
   "id": "c12045bd",
   "metadata": {},
   "outputs": [],
   "source": [
    "df.rename(columns=for_city,inplace=True)"
   ]
  },
  {
   "cell_type": "code",
   "execution_count": 16,
   "id": "2f1cc3e9",
   "metadata": {},
   "outputs": [],
   "source": [
    "for_country= {'UA_Country': 'Country'}"
   ]
  },
  {
   "cell_type": "code",
   "execution_count": 17,
   "id": "0c8dc9d3",
   "metadata": {},
   "outputs": [],
   "source": [
    "df.rename(columns=for_country,inplace=True)"
   ]
  },
  {
   "cell_type": "code",
   "execution_count": 18,
   "id": "1e5358c5",
   "metadata": {},
   "outputs": [],
   "source": [
    "for_continent= {'UA_Continent': 'Continent'}"
   ]
  },
  {
   "cell_type": "code",
   "execution_count": 19,
   "id": "ee3f5d51",
   "metadata": {},
   "outputs": [],
   "source": [
    "df.rename(columns=for_continent,inplace=True)"
   ]
  },
  {
   "cell_type": "code",
   "execution_count": 20,
   "id": "dfeb56a5",
   "metadata": {
    "scrolled": true
   },
   "outputs": [
    {
     "data": {
      "text/html": [
       "<div>\n",
       "<style scoped>\n",
       "    .dataframe tbody tr th:only-of-type {\n",
       "        vertical-align: middle;\n",
       "    }\n",
       "\n",
       "    .dataframe tbody tr th {\n",
       "        vertical-align: top;\n",
       "    }\n",
       "\n",
       "    .dataframe thead th {\n",
       "        text-align: right;\n",
       "    }\n",
       "</style>\n",
       "<table border=\"1\" class=\"dataframe\">\n",
       "  <thead>\n",
       "    <tr style=\"text-align: right;\">\n",
       "      <th></th>\n",
       "      <th>City</th>\n",
       "      <th>Country</th>\n",
       "      <th>Continent</th>\n",
       "      <th>Housing</th>\n",
       "      <th>Cost of Living</th>\n",
       "      <th>Commute</th>\n",
       "      <th>Safety</th>\n",
       "      <th>Healthcare</th>\n",
       "      <th>Education</th>\n",
       "      <th>Environmental Quality</th>\n",
       "      <th>Economy</th>\n",
       "      <th>Taxation</th>\n",
       "      <th>Internet Access</th>\n",
       "      <th>Leisure &amp; Culture</th>\n",
       "      <th>Outdoors</th>\n",
       "    </tr>\n",
       "  </thead>\n",
       "  <tbody>\n",
       "    <tr>\n",
       "      <th>0</th>\n",
       "      <td>Aarhus</td>\n",
       "      <td>Denmark</td>\n",
       "      <td>Europe</td>\n",
       "      <td>6.1315</td>\n",
       "      <td>4.015</td>\n",
       "      <td>6.31175</td>\n",
       "      <td>9.6165</td>\n",
       "      <td>8.704333</td>\n",
       "      <td>5.3665</td>\n",
       "      <td>7.63300</td>\n",
       "      <td>4.8865</td>\n",
       "      <td>5.0680</td>\n",
       "      <td>8.373</td>\n",
       "      <td>3.1870</td>\n",
       "      <td>4.1300</td>\n",
       "    </tr>\n",
       "    <tr>\n",
       "      <th>1</th>\n",
       "      <td>Adelaide</td>\n",
       "      <td>Australia</td>\n",
       "      <td>Oceania</td>\n",
       "      <td>6.3095</td>\n",
       "      <td>4.692</td>\n",
       "      <td>5.33625</td>\n",
       "      <td>7.9260</td>\n",
       "      <td>7.936667</td>\n",
       "      <td>5.1420</td>\n",
       "      <td>8.33075</td>\n",
       "      <td>6.0695</td>\n",
       "      <td>4.5885</td>\n",
       "      <td>4.341</td>\n",
       "      <td>4.3285</td>\n",
       "      <td>5.5310</td>\n",
       "    </tr>\n",
       "    <tr>\n",
       "      <th>2</th>\n",
       "      <td>Albuquerque</td>\n",
       "      <td>New Mexico</td>\n",
       "      <td>North America</td>\n",
       "      <td>7.2620</td>\n",
       "      <td>6.059</td>\n",
       "      <td>5.05575</td>\n",
       "      <td>1.3435</td>\n",
       "      <td>6.430000</td>\n",
       "      <td>4.1520</td>\n",
       "      <td>7.31950</td>\n",
       "      <td>6.5145</td>\n",
       "      <td>4.3460</td>\n",
       "      <td>5.396</td>\n",
       "      <td>4.8900</td>\n",
       "      <td>3.5155</td>\n",
       "    </tr>\n",
       "    <tr>\n",
       "      <th>3</th>\n",
       "      <td>Almaty</td>\n",
       "      <td>Kazakhstan</td>\n",
       "      <td>Asia</td>\n",
       "      <td>9.2820</td>\n",
       "      <td>9.333</td>\n",
       "      <td>5.87125</td>\n",
       "      <td>7.3090</td>\n",
       "      <td>4.545667</td>\n",
       "      <td>2.2830</td>\n",
       "      <td>3.85675</td>\n",
       "      <td>5.2690</td>\n",
       "      <td>8.5220</td>\n",
       "      <td>2.886</td>\n",
       "      <td>2.9370</td>\n",
       "      <td>5.5000</td>\n",
       "    </tr>\n",
       "    <tr>\n",
       "      <th>4</th>\n",
       "      <td>Amsterdam</td>\n",
       "      <td>Netherlands</td>\n",
       "      <td>Europe</td>\n",
       "      <td>3.0530</td>\n",
       "      <td>3.824</td>\n",
       "      <td>6.11850</td>\n",
       "      <td>8.5035</td>\n",
       "      <td>7.907333</td>\n",
       "      <td>6.1800</td>\n",
       "      <td>7.59725</td>\n",
       "      <td>5.0530</td>\n",
       "      <td>4.9550</td>\n",
       "      <td>4.523</td>\n",
       "      <td>8.8740</td>\n",
       "      <td>5.3070</td>\n",
       "    </tr>\n",
       "  </tbody>\n",
       "</table>\n",
       "</div>"
      ],
      "text/plain": [
       "          City       Country      Continent  Housing  Cost of Living  Commute  \\\n",
       "0       Aarhus       Denmark         Europe   6.1315           4.015  6.31175   \n",
       "1     Adelaide     Australia        Oceania   6.3095           4.692  5.33625   \n",
       "2  Albuquerque    New Mexico  North America   7.2620           6.059  5.05575   \n",
       "3       Almaty    Kazakhstan           Asia   9.2820           9.333  5.87125   \n",
       "4    Amsterdam   Netherlands         Europe   3.0530           3.824  6.11850   \n",
       "\n",
       "   Safety  Healthcare  Education  Environmental Quality  Economy  Taxation  \\\n",
       "0  9.6165    8.704333     5.3665                7.63300   4.8865    5.0680   \n",
       "1  7.9260    7.936667     5.1420                8.33075   6.0695    4.5885   \n",
       "2  1.3435    6.430000     4.1520                7.31950   6.5145    4.3460   \n",
       "3  7.3090    4.545667     2.2830                3.85675   5.2690    8.5220   \n",
       "4  8.5035    7.907333     6.1800                7.59725   5.0530    4.9550   \n",
       "\n",
       "   Internet Access  Leisure & Culture  Outdoors  \n",
       "0            8.373             3.1870    4.1300  \n",
       "1            4.341             4.3285    5.5310  \n",
       "2            5.396             4.8900    3.5155  \n",
       "3            2.886             2.9370    5.5000  \n",
       "4            4.523             8.8740    5.3070  "
      ]
     },
     "execution_count": 20,
     "metadata": {},
     "output_type": "execute_result"
    }
   ],
   "source": [
    "df.head()"
   ]
  },
  {
   "cell_type": "code",
   "execution_count": 137,
   "id": "382645bd",
   "metadata": {},
   "outputs": [],
   "source": [
    "ciudades=list(df.City.unique())"
   ]
  },
  {
   "cell_type": "code",
   "execution_count": 254,
   "id": "2475f811",
   "metadata": {},
   "outputs": [
    {
     "data": {
      "text/plain": [
       "264"
      ]
     },
     "execution_count": 254,
     "metadata": {},
     "output_type": "execute_result"
    }
   ],
   "source": [
    "len(ciudades)"
   ]
  },
  {
   "cell_type": "code",
   "execution_count": 21,
   "id": "fcefd06a",
   "metadata": {},
   "outputs": [],
   "source": [
    "paises=list(df.Country.unique())"
   ]
  },
  {
   "cell_type": "code",
   "execution_count": 22,
   "id": "f510e826",
   "metadata": {},
   "outputs": [
    {
     "data": {
      "text/plain": [
       "135"
      ]
     },
     "execution_count": 22,
     "metadata": {},
     "output_type": "execute_result"
    }
   ],
   "source": [
    "len(paises)"
   ]
  },
  {
   "cell_type": "markdown",
   "id": "0d8fcd73",
   "metadata": {},
   "source": [
    "### ENRICHING MY DF WITH AN API ABOUT AIR QUALITY:"
   ]
  },
  {
   "cell_type": "code",
   "execution_count": 238,
   "id": "6c8ccece",
   "metadata": {},
   "outputs": [],
   "source": [
    "url=\"http://api.waqi.info/feed/seoul/?token=8d08c0b307aab938e8682c862b6183224bd72a33\""
   ]
  },
  {
   "cell_type": "code",
   "execution_count": 235,
   "id": "4bbc3ba2",
   "metadata": {},
   "outputs": [],
   "source": [
    "#url=\"http://api.waqi.info/feed\""
   ]
  },
  {
   "cell_type": "code",
   "execution_count": 236,
   "id": "6b1fa69d",
   "metadata": {},
   "outputs": [],
   "source": [
    "#parameters = {\"city\":\"Beijing\",\"token\": \"8d08c0b307aab938e8682c862b6183224bd72a33\"}"
   ]
  },
  {
   "cell_type": "code",
   "execution_count": 217,
   "id": "377896fd",
   "metadata": {},
   "outputs": [],
   "source": [
    "#parameters = {\"token\": \"8d08c0b307aab938e8682c862b6183224bd72a33\"}"
   ]
  },
  {
   "cell_type": "code",
   "execution_count": 199,
   "id": "0aa656c6",
   "metadata": {},
   "outputs": [],
   "source": [
    "#token = os.getenv(\"key\")"
   ]
  },
  {
   "cell_type": "code",
   "execution_count": 239,
   "id": "68432a54",
   "metadata": {},
   "outputs": [],
   "source": [
    "re=requests.get(url, params=parameters)"
   ]
  },
  {
   "cell_type": "code",
   "execution_count": 226,
   "id": "70621e2e",
   "metadata": {},
   "outputs": [],
   "source": [
    "#re=requests.get(url)"
   ]
  },
  {
   "cell_type": "code",
   "execution_count": 240,
   "id": "84c21f38",
   "metadata": {},
   "outputs": [
    {
     "data": {
      "text/plain": [
       "{'Server': 'nginx', 'Date': 'Sat, 06 Nov 2021 14:04:07 GMT', 'Content-Type': 'application/json; charset=UTF-8', 'Transfer-Encoding': 'chunked', 'Connection': 'keep-alive', 'Vary': 'Accept-Encoding', 'Access-Control-Allow-Origin': '*', 'X-Gen-Time': '225.623Âµs', 'X-Powered-By': 'rxstreamer-waqi/1.3', 'Content-Encoding': 'gzip'}"
      ]
     },
     "execution_count": 240,
     "metadata": {},
     "output_type": "execute_result"
    }
   ],
   "source": [
    "re.headers"
   ]
  },
  {
   "cell_type": "code",
   "execution_count": 241,
   "id": "da86d3a2",
   "metadata": {},
   "outputs": [],
   "source": [
    "re_j=re.json()"
   ]
  },
  {
   "cell_type": "code",
   "execution_count": 242,
   "id": "2ddcbd0c",
   "metadata": {},
   "outputs": [
    {
     "data": {
      "text/plain": [
       "dict"
      ]
     },
     "execution_count": 242,
     "metadata": {},
     "output_type": "execute_result"
    }
   ],
   "source": [
    "type(re_j)"
   ]
  },
  {
   "cell_type": "code",
   "execution_count": 243,
   "id": "3352161c",
   "metadata": {},
   "outputs": [
    {
     "data": {
      "text/plain": [
       "dict_keys(['status', 'data'])"
      ]
     },
     "execution_count": 243,
     "metadata": {},
     "output_type": "execute_result"
    }
   ],
   "source": [
    "re_j.keys()"
   ]
  },
  {
   "cell_type": "code",
   "execution_count": 246,
   "id": "4c68cd17",
   "metadata": {},
   "outputs": [],
   "source": [
    "data=re_j['data'] "
   ]
  },
  {
   "cell_type": "code",
   "execution_count": 247,
   "id": "4c1de111",
   "metadata": {},
   "outputs": [
    {
     "data": {
      "text/plain": [
       "{'aqi': 124,\n",
       " 'idx': 5508,\n",
       " 'attributions': [{'url': 'https://www.airkorea.or.kr/',\n",
       "   'name': 'South Air Korea Environment Corporation (대기오염실시간공개시스템)',\n",
       "   'logo': 'SouthKorea-AirKorea.png'},\n",
       "  {'url': 'http://cleanair.seoul.go.kr/',\n",
       "   'name': 'Seoul Clean Air Pollution Information (서울특별시 기후대기환경정보)',\n",
       "   'logo': 'SouthKorea-Seoul.png'},\n",
       "  {'url': 'http://www.airkorea.or.kr/',\n",
       "   'name': 'South Air Korea Environment Corporation (대기오염실시간공개시스템)',\n",
       "   'logo': 'SouthKorea-AirKorea.png'},\n",
       "  {'url': 'https://waqi.info/', 'name': 'World Air Quality Index Project'}],\n",
       " 'city': {'geo': [37.566535, 126.9779692],\n",
       "  'name': 'Seoul (서울)',\n",
       "  'url': 'https://aqicn.org/city/seoul'},\n",
       " 'dominentpol': 'pm25',\n",
       " 'iaqi': {'co': {'v': 10},\n",
       "  'h': {'v': 61},\n",
       "  'no2': {'v': 70.7},\n",
       "  'o3': {'v': 1.6},\n",
       "  'p': {'v': 1006},\n",
       "  'pm10': {'v': 65},\n",
       "  'pm25': {'v': 124},\n",
       "  'r': {'v': 0.2},\n",
       "  'so2': {'v': 4.3},\n",
       "  't': {'v': 29.3},\n",
       "  'w': {'v': 3.2},\n",
       "  'wd': {'v': 292.5}},\n",
       " 'time': {'s': '2021-11-06 22:00:00',\n",
       "  'tz': '+09:00',\n",
       "  'v': 1636236000,\n",
       "  'iso': '2021-11-06T22:00:00+09:00'},\n",
       " 'forecast': {'daily': {'o3': [{'avg': 1,\n",
       "     'day': '2021-11-04',\n",
       "     'max': 5,\n",
       "     'min': 1},\n",
       "    {'avg': 1, 'day': '2021-11-05', 'max': 7, 'min': 1},\n",
       "    {'avg': 1, 'day': '2021-11-06', 'max': 17, 'min': 1},\n",
       "    {'avg': 5, 'day': '2021-11-07', 'max': 15, 'min': 1},\n",
       "    {'avg': 9, 'day': '2021-11-08', 'max': 15, 'min': 4},\n",
       "    {'avg': 10, 'day': '2021-11-09', 'max': 13, 'min': 7},\n",
       "    {'avg': 10, 'day': '2021-11-10', 'max': 14, 'min': 3},\n",
       "    {'avg': 2, 'day': '2021-11-11', 'max': 7, 'min': 1}],\n",
       "   'pm10': [{'avg': 61, 'day': '2021-11-05', 'max': 73, 'min': 54},\n",
       "    {'avg': 53, 'day': '2021-11-06', 'max': 58, 'min': 46},\n",
       "    {'avg': 34, 'day': '2021-11-07', 'max': 46, 'min': 19},\n",
       "    {'avg': 22, 'day': '2021-11-08', 'max': 28, 'min': 19},\n",
       "    {'avg': 18, 'day': '2021-11-09', 'max': 22, 'min': 14},\n",
       "    {'avg': 18, 'day': '2021-11-10', 'max': 19, 'min': 9},\n",
       "    {'avg': 16, 'day': '2021-11-11', 'max': 22, 'min': 10},\n",
       "    {'avg': 17, 'day': '2021-11-12', 'max': 19, 'min': 7}],\n",
       "   'pm25': [{'avg': 142, 'day': '2021-11-05', 'max': 151, 'min': 138},\n",
       "    {'avg': 123, 'day': '2021-11-06', 'max': 138, 'min': 89},\n",
       "    {'avg': 70, 'day': '2021-11-07', 'max': 121, 'min': 39},\n",
       "    {'avg': 46, 'day': '2021-11-08', 'max': 65, 'min': 38},\n",
       "    {'avg': 50, 'day': '2021-11-09', 'max': 68, 'min': 30},\n",
       "    {'avg': 53, 'day': '2021-11-10', 'max': 68, 'min': 30},\n",
       "    {'avg': 53, 'day': '2021-11-11', 'max': 68, 'min': 30},\n",
       "    {'avg': 50, 'day': '2021-11-12', 'max': 68, 'min': 21}],\n",
       "   'uvi': [{'avg': 1, 'day': '2021-11-06', 'max': 2, 'min': 0},\n",
       "    {'avg': 1, 'day': '2021-11-07', 'max': 3, 'min': 0},\n",
       "    {'avg': 0, 'day': '2021-11-08', 'max': 1, 'min': 0},\n",
       "    {'avg': 0, 'day': '2021-11-09', 'max': 1, 'min': 0},\n",
       "    {'avg': 0, 'day': '2021-11-10', 'max': 1, 'min': 0},\n",
       "    {'avg': 0, 'day': '2021-11-11', 'max': 1, 'min': 0}]}},\n",
       " 'debug': {'sync': '2021-11-06T22:22:35+09:00'}}"
      ]
     },
     "execution_count": 247,
     "metadata": {},
     "output_type": "execute_result"
    }
   ],
   "source": [
    "data"
   ]
  },
  {
   "cell_type": "code",
   "execution_count": 248,
   "id": "09a43f3a",
   "metadata": {},
   "outputs": [
    {
     "data": {
      "text/plain": [
       "dict_keys(['aqi', 'idx', 'attributions', 'city', 'dominentpol', 'iaqi', 'time', 'forecast', 'debug'])"
      ]
     },
     "execution_count": 248,
     "metadata": {},
     "output_type": "execute_result"
    }
   ],
   "source": [
    "data.keys()"
   ]
  },
  {
   "cell_type": "code",
   "execution_count": 251,
   "id": "7f624c38",
   "metadata": {},
   "outputs": [],
   "source": [
    "Beijing=data['aqi'] #Dentro de la key data, hay otro diccionario y, dentro de \"aqi\", tengo el valor que se refiere a lo contaminado que está el aire que es el que me ineteresa."
   ]
  },
  {
   "cell_type": "code",
   "execution_count": 253,
   "id": "e199bbed",
   "metadata": {},
   "outputs": [],
   "source": [
    "# función sin terminar pendiente de parámetros(ciudad, key).\n",
    "# Mi idea es pasarle mi lista llamada \"ciudades\" con los valores únicos de mi df de todas las ciudades.\n",
    "\n",
    "def air_quality(ciudades):\n",
    "    for ciudad in ciudades:\n",
    "        parameters = {\"token\": \"8d08c0b307aab938e8682c862b6183224bd72a33\", \"keyword\":\"ciudad\"}\n",
    "        requests.get(url, params=parameters)"
   ]
  },
  {
   "cell_type": "code",
   "execution_count": 250,
   "id": "f5c86823",
   "metadata": {},
   "outputs": [],
   "source": [
    "# función que me da el nivel de contaminación del aire que sería la columna nueva que crearía en mi df.\n",
    "# \"x\" sería el dato \"aqi\" dentro de \"data\", que es una de las keys del diccionario que me devuelve el .json:\n",
    "# Aquí muestro el ejemplo para Beijing:\n",
    "\n",
    "def quality_level (x):\n",
    "    if x<=50:\n",
    "        return \"Good\"\n",
    "    elif 51<=x<=100:\n",
    "        return \"Moderate\"\n",
    "    elif 101<=x<=150:\n",
    "        return \"Unhealthy for Sensitive Groups\"\n",
    "    elif 151<=x<=200:\n",
    "        return \"Unhealthy\"\n",
    "    elif 201<=x<=300:\n",
    "        return \"Very Unhealthy\"\n",
    "    else:\n",
    "        return \"Hazardous\""
   ]
  },
  {
   "cell_type": "code",
   "execution_count": 252,
   "id": "165fb17d",
   "metadata": {},
   "outputs": [
    {
     "data": {
      "text/plain": [
       "'Unhealthy for Sensitive Groups'"
      ]
     },
     "execution_count": 252,
     "metadata": {},
     "output_type": "execute_result"
    }
   ],
   "source": [
    "quality_level(Beijing)"
   ]
  },
  {
   "cell_type": "code",
   "execution_count": null,
   "id": "587d9d98",
   "metadata": {},
   "outputs": [],
   "source": []
  }
 ],
 "metadata": {
  "kernelspec": {
   "display_name": "ironhack",
   "language": "python",
   "name": "ironhack"
  },
  "language_info": {
   "codemirror_mode": {
    "name": "ipython",
    "version": 3
   },
   "file_extension": ".py",
   "mimetype": "text/x-python",
   "name": "python",
   "nbconvert_exporter": "python",
   "pygments_lexer": "ipython3",
   "version": "3.8.5"
  }
 },
 "nbformat": 4,
 "nbformat_minor": 5
}
