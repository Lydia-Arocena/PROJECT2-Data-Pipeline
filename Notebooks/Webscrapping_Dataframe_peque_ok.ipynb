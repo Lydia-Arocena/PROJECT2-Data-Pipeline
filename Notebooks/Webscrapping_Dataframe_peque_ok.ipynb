{
 "cells": [
  {
   "cell_type": "code",
   "execution_count": 1,
   "id": "743df33e",
   "metadata": {},
   "outputs": [],
   "source": [
    "import requests\n",
    "from bs4 import BeautifulSoup\n",
    "import pandas as pd"
   ]
  },
  {
   "cell_type": "code",
   "execution_count": 2,
   "id": "fa7724ab",
   "metadata": {},
   "outputs": [],
   "source": [
    "url=\"https://www.iqair.com/es/world-air-quality-ranking\"\n",
    "html = requests.get(url)\n",
    "soup = BeautifulSoup(html.content,\"html.parser\")"
   ]
  },
  {
   "cell_type": "code",
   "execution_count": 3,
   "id": "635d6c74",
   "metadata": {},
   "outputs": [],
   "source": [
    "paises = soup.find_all(\"a\", {\"class\": \"link-primary\"})"
   ]
  },
  {
   "cell_type": "code",
   "execution_count": 4,
   "id": "d1fcb91f",
   "metadata": {},
   "outputs": [
    {
     "data": {
      "text/plain": [
       "[<a _ngcontent-sc348=\"\" class=\"link-primary\" href=\"/es/india/delhi\"> Delhi, India </a>,\n",
       " <a _ngcontent-sc348=\"\" class=\"link-primary\" href=\"/es/pakistan/punjab/lahore\"> Lahore, Pakistán </a>,\n",
       " <a _ngcontent-sc348=\"\" class=\"link-primary\" href=\"/es/kyrgyzstan/bishkek\"> Biskek, Kirguistán </a>,\n",
       " <a _ngcontent-sc348=\"\" class=\"link-primary\" href=\"/es/india/west-bengal/kolkata\"> Calcuta, India </a>,\n",
       " <a _ngcontent-sc348=\"\" class=\"link-primary\" href=\"/es/bangladesh/dhaka\"> Daca, Bangladesh </a>,\n",
       " <a _ngcontent-sc348=\"\" class=\"link-primary\" href=\"/es/poland/lesser-poland-voivodeship/krakow\"> Cracovia, Polonia </a>,\n",
       " <a _ngcontent-sc348=\"\" class=\"link-primary\" href=\"/es/pakistan/sindh/karachi\"> Karachi, Pakistán </a>,\n",
       " <a _ngcontent-sc348=\"\" class=\"link-primary\" href=\"/es/serbia/central-serbia/belgrade\"> Belgrado, Serbia </a>,\n",
       " <a _ngcontent-sc348=\"\" class=\"link-primary\" href=\"/es/mongolia/ulaanbaatar\"> Ulaanbaatar, Mongolia </a>,\n",
       " <a _ngcontent-sc348=\"\" class=\"link-primary\" href=\"/es/poland/lower-silesia/wroclaw\"> Breslavia, Polonia </a>,\n",
       " <a _ngcontent-sc348=\"\" class=\"link-primary\" href=\"/es/croatia/zagreb\"> Zagreb, Croacia </a>,\n",
       " <a _ngcontent-sc348=\"\" class=\"link-primary\" href=\"/es/india/maharashtra/mumbai\"> Bombay, India </a>,\n",
       " <a _ngcontent-sc348=\"\" class=\"link-primary\" href=\"/es/peru/lima\"> Lima, Perú </a>,\n",
       " <a _ngcontent-sc348=\"\" class=\"link-primary\" href=\"/es/usa/california/los-angeles\"> Los Angeles, Estados Unidos </a>,\n",
       " <a _ngcontent-sc348=\"\" class=\"link-primary\" href=\"/es/bulgaria/sofia\"> Sofía, Bulgaria </a>,\n",
       " <a _ngcontent-sc348=\"\" class=\"link-primary\" href=\"/es/indonesia/jakarta\"> Yakarta, Indonesia </a>,\n",
       " <a _ngcontent-sc348=\"\" class=\"link-primary\" href=\"/es/china/guangdong/guangzhou\"> Cantón, República Popular China </a>,\n",
       " <a _ngcontent-sc348=\"\" class=\"link-primary\" href=\"/es/nepal/central-region/kathmandu\"> Katmandú, Nepal </a>,\n",
       " <a _ngcontent-sc348=\"\" class=\"link-primary\" href=\"/es/singapore\"> Singapur, Singapur </a>,\n",
       " <a _ngcontent-sc348=\"\" class=\"link-primary\" href=\"/es/taiwan/kaohsiung\"> Kaohsiung, Taiwán </a>,\n",
       " <a _ngcontent-sc348=\"\" class=\"link-primary\" href=\"/es/south-korea/gyeonggi-do/incheon\"> Inchon, República de Corea </a>,\n",
       " <a _ngcontent-sc348=\"\" class=\"link-primary\" href=\"/es/united-arab-emirates/dubai\"> Dubái, Emiratos Árabes Unidos </a>,\n",
       " <a _ngcontent-sc348=\"\" class=\"link-primary\" href=\"/es/vietnam/ho-chi-minh-city\"> Ciudad Ho Chi Minh, Vietnam </a>,\n",
       " <a _ngcontent-sc348=\"\" class=\"link-primary\" href=\"/es/myanmar/yangon\"> Rangún, Myanmar [Birmania] </a>,\n",
       " <a _ngcontent-sc348=\"\" class=\"link-primary\" href=\"/es/afghanistan/kabul\"> Kabul, Afganistán </a>,\n",
       " <a _ngcontent-sc348=\"\" class=\"link-primary\" href=\"/es/south-korea/seoul\"> Seúl, República de Corea </a>,\n",
       " <a _ngcontent-sc348=\"\" class=\"link-primary\" href=\"/es/cambodia/phnom-penh\"> Nom Pen, Camboya </a>,\n",
       " <a _ngcontent-sc348=\"\" class=\"link-primary\" href=\"/es/hungary/central-hungary/budapest\"> Budapest, Hungría </a>,\n",
       " <a _ngcontent-sc348=\"\" class=\"link-primary\" href=\"/es/vietnam/hanoi\"> Hanói, Vietnam </a>,\n",
       " <a _ngcontent-sc348=\"\" class=\"link-primary\" href=\"/es/japan/aichi/nagoya\"> Nagoya, Japón </a>,\n",
       " <a _ngcontent-sc348=\"\" class=\"link-primary\" href=\"/es/thailand/bangkok\"> Bangkok, Tailandia </a>,\n",
       " <a _ngcontent-sc348=\"\" class=\"link-primary\" href=\"/es/north-macedonia/skopje\"> Skopje, Macedonia, Antigua República Yugoslava </a>,\n",
       " <a _ngcontent-sc348=\"\" class=\"link-primary\" href=\"/es/china/hubei/wuhan\"> Wuhan, República Popular China </a>,\n",
       " <a _ngcontent-sc348=\"\" class=\"link-primary\" href=\"/es/kosovo/pristina\"> Priština, Kosovo </a>,\n",
       " <a _ngcontent-sc348=\"\" class=\"link-primary\" href=\"/es/usa/michigan/detroit\"> Detroit, Estados Unidos </a>,\n",
       " <a _ngcontent-sc348=\"\" class=\"link-primary\" href=\"/es/israel/tel-aviv/tel-aviv-yafo\"> Tel Aviv-Yafo, Israel </a>,\n",
       " <a _ngcontent-sc348=\"\" class=\"link-primary\" href=\"/es/iran/tehran\"> Teherán, Irán  </a>,\n",
       " <a _ngcontent-sc348=\"\" class=\"link-primary\" href=\"/es/france/ile-de-france/paris\"> París, Francia </a>,\n",
       " <a _ngcontent-sc348=\"\" class=\"link-primary\" href=\"/es/hong-kong\"> Hong Kong, Hong Kong </a>,\n",
       " <a _ngcontent-sc348=\"\" class=\"link-primary\" href=\"/es/china/guangdong/shenzhen\"> Shenzhen, República Popular China </a>,\n",
       " <a _ngcontent-sc348=\"\" class=\"link-primary\" href=\"/es/china/chongqing\"> Chongqing, República Popular China </a>,\n",
       " <a _ngcontent-sc348=\"\" class=\"link-primary\" href=\"/es/slovakia/bratislava\"> Bratislava, República Eslovaca </a>,\n",
       " <a _ngcontent-sc348=\"\" class=\"link-primary\" href=\"/es/saudi-arabia/ar-riyad/riyadh\"> Riad, Arabia Saudita </a>,\n",
       " <a _ngcontent-sc348=\"\" class=\"link-primary\" href=\"/es/china/zhejiang/hangzhou\"> Hangzhou, República Popular China </a>,\n",
       " <a _ngcontent-sc348=\"\" class=\"link-primary\" href=\"/es/czech-republic/praha/prague\"> Praga, República Checa </a>,\n",
       " <a _ngcontent-sc348=\"\" class=\"link-primary\" href=\"/es/bosnia-herzegovina/federation-of-b-h/sarajevo\"> Sarajevo, Bosnia y Herzegovina </a>,\n",
       " <a _ngcontent-sc348=\"\" class=\"link-primary\" href=\"/es/malaysia/kuala-lumpur\"> Kuala Lumpur, Malasia </a>,\n",
       " <a _ngcontent-sc348=\"\" class=\"link-primary\" href=\"/es/austria/vienna\"> Viena, Austria </a>,\n",
       " <a _ngcontent-sc348=\"\" class=\"link-primary\" href=\"/es/poland/greater-poland/poznan\"> Posnania, Polonia </a>,\n",
       " <a _ngcontent-sc348=\"\" class=\"link-primary\" href=\"/es/brazil/sao-paulo\"> São Paulo, Brasil </a>]"
      ]
     },
     "execution_count": 4,
     "metadata": {},
     "output_type": "execute_result"
    }
   ],
   "source": [
    "paises"
   ]
  },
  {
   "cell_type": "code",
   "execution_count": 12,
   "id": "3c9bf58d",
   "metadata": {},
   "outputs": [],
   "source": [
    "p=paises[0].getText()"
   ]
  },
  {
   "cell_type": "code",
   "execution_count": 13,
   "id": "5dd90018",
   "metadata": {},
   "outputs": [],
   "source": [
    "pclean=p.strip()"
   ]
  },
  {
   "cell_type": "code",
   "execution_count": 14,
   "id": "07a159a3",
   "metadata": {},
   "outputs": [
    {
     "data": {
      "text/plain": [
       "'Delhi, India'"
      ]
     },
     "execution_count": 14,
     "metadata": {},
     "output_type": "execute_result"
    }
   ],
   "source": [
    "pclean"
   ]
  },
  {
   "cell_type": "code",
   "execution_count": 15,
   "id": "3fb7fcac",
   "metadata": {},
   "outputs": [],
   "source": [
    "paises_clean = [pais.getText().strip() for pais in paises]"
   ]
  },
  {
   "cell_type": "code",
   "execution_count": 16,
   "id": "3ffbb378",
   "metadata": {},
   "outputs": [
    {
     "data": {
      "text/plain": [
       "['Delhi, India',\n",
       " 'Lahore, Pakistán',\n",
       " 'Biskek, Kirguistán',\n",
       " 'Calcuta, India',\n",
       " 'Daca, Bangladesh',\n",
       " 'Cracovia, Polonia',\n",
       " 'Karachi, Pakistán',\n",
       " 'Belgrado, Serbia',\n",
       " 'Ulaanbaatar, Mongolia',\n",
       " 'Breslavia, Polonia',\n",
       " 'Zagreb, Croacia',\n",
       " 'Bombay, India',\n",
       " 'Lima, Perú',\n",
       " 'Los Angeles, Estados Unidos',\n",
       " 'Sofía, Bulgaria',\n",
       " 'Yakarta, Indonesia',\n",
       " 'Cantón, República Popular China',\n",
       " 'Katmandú, Nepal',\n",
       " 'Singapur, Singapur',\n",
       " 'Kaohsiung, Taiwán',\n",
       " 'Inchon, República de Corea',\n",
       " 'Dubái, Emiratos Árabes Unidos',\n",
       " 'Ciudad Ho Chi Minh, Vietnam',\n",
       " 'Rangún, Myanmar [Birmania]',\n",
       " 'Kabul, Afganistán',\n",
       " 'Seúl, República de Corea',\n",
       " 'Nom Pen, Camboya',\n",
       " 'Budapest, Hungría',\n",
       " 'Hanói, Vietnam',\n",
       " 'Nagoya, Japón',\n",
       " 'Bangkok, Tailandia',\n",
       " 'Skopje, Macedonia, Antigua República Yugoslava',\n",
       " 'Wuhan, República Popular China',\n",
       " 'Priština, Kosovo',\n",
       " 'Detroit, Estados Unidos',\n",
       " 'Tel Aviv-Yafo, Israel',\n",
       " 'Teherán, Irán',\n",
       " 'París, Francia',\n",
       " 'Hong Kong, Hong Kong',\n",
       " 'Shenzhen, República Popular China',\n",
       " 'Chongqing, República Popular China',\n",
       " 'Bratislava, República Eslovaca',\n",
       " 'Riad, Arabia Saudita',\n",
       " 'Hangzhou, República Popular China',\n",
       " 'Praga, República Checa',\n",
       " 'Sarajevo, Bosnia y Herzegovina',\n",
       " 'Kuala Lumpur, Malasia',\n",
       " 'Viena, Austria',\n",
       " 'Posnania, Polonia',\n",
       " 'São Paulo, Brasil']"
      ]
     },
     "execution_count": 16,
     "metadata": {},
     "output_type": "execute_result"
    }
   ],
   "source": [
    "paises_clean"
   ]
  },
  {
   "cell_type": "code",
   "execution_count": 43,
   "id": "38654700",
   "metadata": {},
   "outputs": [
    {
     "data": {
      "text/plain": [
       "50"
      ]
     },
     "execution_count": 43,
     "metadata": {},
     "output_type": "execute_result"
    }
   ],
   "source": [
    "len(paises_clean)"
   ]
  },
  {
   "cell_type": "code",
   "execution_count": 17,
   "id": "70aabe75",
   "metadata": {},
   "outputs": [],
   "source": [
    "aire = soup.find_all(\"span\")"
   ]
  },
  {
   "cell_type": "code",
   "execution_count": 49,
   "id": "77e54294",
   "metadata": {},
   "outputs": [
    {
     "data": {
      "text/plain": [
       "bs4.element.ResultSet"
      ]
     },
     "execution_count": 49,
     "metadata": {},
     "output_type": "execute_result"
    }
   ],
   "source": [
    "type(aire)"
   ]
  },
  {
   "cell_type": "code",
   "execution_count": 24,
   "id": "39acf784",
   "metadata": {},
   "outputs": [
    {
     "data": {
      "text/plain": [
       "<span _ngcontent-sc348=\"\" class=\"aqi-number bd-radius bg-maroon d-inline-block p5-20 text-center text-white2 text12\"> 343 </span>"
      ]
     },
     "execution_count": 24,
     "metadata": {},
     "output_type": "execute_result"
    }
   ],
   "source": [
    "aire[2]"
   ]
  },
  {
   "cell_type": "code",
   "execution_count": 26,
   "id": "4ddd8cf2",
   "metadata": {},
   "outputs": [
    {
     "data": {
      "text/plain": [
       "' 343 '"
      ]
     },
     "execution_count": 26,
     "metadata": {},
     "output_type": "execute_result"
    }
   ],
   "source": [
    "aire[2].getText()"
   ]
  },
  {
   "cell_type": "code",
   "execution_count": 39,
   "id": "71970297",
   "metadata": {},
   "outputs": [],
   "source": [
    "aire_clean = [elemento.getText().strip() for elemento in aire]"
   ]
  },
  {
   "cell_type": "code",
   "execution_count": 40,
   "id": "87508d08",
   "metadata": {},
   "outputs": [
    {
     "data": {
      "text/plain": [
       "['Iniciar sesión',\n",
       " '',\n",
       " '343',\n",
       " '270',\n",
       " '256',\n",
       " '185',\n",
       " '176',\n",
       " '159',\n",
       " '154',\n",
       " '134',\n",
       " '134',\n",
       " '132',\n",
       " '127',\n",
       " '124',\n",
       " '116',\n",
       " '112',\n",
       " '108',\n",
       " '108',\n",
       " '99',\n",
       " '97',\n",
       " '91',\n",
       " '91',\n",
       " '91',\n",
       " '90',\n",
       " '89',\n",
       " '85',\n",
       " '84',\n",
       " '82',\n",
       " '76',\n",
       " '76',\n",
       " '76',\n",
       " '74',\n",
       " '73',\n",
       " '72',\n",
       " '72',\n",
       " '70',\n",
       " '69',\n",
       " '68',\n",
       " '67',\n",
       " '65',\n",
       " '64',\n",
       " '61',\n",
       " '61',\n",
       " '59',\n",
       " '59',\n",
       " '59',\n",
       " '59',\n",
       " '57',\n",
       " '57',\n",
       " '57',\n",
       " '55',\n",
       " '55',\n",
       " 'Más',\n",
       " 'Compartir',\n",
       " 'Valoración 4.8',\n",
       " '© 2021 IQAir. Todos los derechos reservados']"
      ]
     },
     "execution_count": 40,
     "metadata": {},
     "output_type": "execute_result"
    }
   ],
   "source": [
    "aire_clean"
   ]
  },
  {
   "cell_type": "code",
   "execution_count": 44,
   "id": "9fdf85f1",
   "metadata": {},
   "outputs": [],
   "source": [
    "import numpy as np\n",
    "aire_clean\n",
    "I = [0,1,-1,-2,-3,-4]\n",
    "aire_clean2=np.delete(aire_clean, I).tolist()"
   ]
  },
  {
   "cell_type": "code",
   "execution_count": 45,
   "id": "f62d4407",
   "metadata": {},
   "outputs": [
    {
     "data": {
      "text/plain": [
       "50"
      ]
     },
     "execution_count": 45,
     "metadata": {},
     "output_type": "execute_result"
    }
   ],
   "source": [
    "len(aire_clean2)"
   ]
  },
  {
   "cell_type": "code",
   "execution_count": 46,
   "id": "1456b039",
   "metadata": {},
   "outputs": [],
   "source": [
    "diccionario = {\"ciudad,país\": paises_clean, \"Calidad Aire\":aire_clean2}\n"
   ]
  },
  {
   "cell_type": "code",
   "execution_count": 47,
   "id": "e6c5cfc0",
   "metadata": {},
   "outputs": [],
   "source": [
    "data = pd.DataFrame(diccionario)"
   ]
  },
  {
   "cell_type": "code",
   "execution_count": 48,
   "id": "fee0bc98",
   "metadata": {},
   "outputs": [
    {
     "data": {
      "text/html": [
       "<div>\n",
       "<style scoped>\n",
       "    .dataframe tbody tr th:only-of-type {\n",
       "        vertical-align: middle;\n",
       "    }\n",
       "\n",
       "    .dataframe tbody tr th {\n",
       "        vertical-align: top;\n",
       "    }\n",
       "\n",
       "    .dataframe thead th {\n",
       "        text-align: right;\n",
       "    }\n",
       "</style>\n",
       "<table border=\"1\" class=\"dataframe\">\n",
       "  <thead>\n",
       "    <tr style=\"text-align: right;\">\n",
       "      <th></th>\n",
       "      <th>ciudad,país</th>\n",
       "      <th>Calidad Aire</th>\n",
       "    </tr>\n",
       "  </thead>\n",
       "  <tbody>\n",
       "    <tr>\n",
       "      <th>0</th>\n",
       "      <td>Delhi, India</td>\n",
       "      <td>343</td>\n",
       "    </tr>\n",
       "    <tr>\n",
       "      <th>1</th>\n",
       "      <td>Lahore, Pakistán</td>\n",
       "      <td>270</td>\n",
       "    </tr>\n",
       "    <tr>\n",
       "      <th>2</th>\n",
       "      <td>Biskek, Kirguistán</td>\n",
       "      <td>256</td>\n",
       "    </tr>\n",
       "    <tr>\n",
       "      <th>3</th>\n",
       "      <td>Calcuta, India</td>\n",
       "      <td>185</td>\n",
       "    </tr>\n",
       "    <tr>\n",
       "      <th>4</th>\n",
       "      <td>Daca, Bangladesh</td>\n",
       "      <td>176</td>\n",
       "    </tr>\n",
       "    <tr>\n",
       "      <th>5</th>\n",
       "      <td>Cracovia, Polonia</td>\n",
       "      <td>159</td>\n",
       "    </tr>\n",
       "    <tr>\n",
       "      <th>6</th>\n",
       "      <td>Karachi, Pakistán</td>\n",
       "      <td>154</td>\n",
       "    </tr>\n",
       "    <tr>\n",
       "      <th>7</th>\n",
       "      <td>Belgrado, Serbia</td>\n",
       "      <td>134</td>\n",
       "    </tr>\n",
       "    <tr>\n",
       "      <th>8</th>\n",
       "      <td>Ulaanbaatar, Mongolia</td>\n",
       "      <td>134</td>\n",
       "    </tr>\n",
       "    <tr>\n",
       "      <th>9</th>\n",
       "      <td>Breslavia, Polonia</td>\n",
       "      <td>132</td>\n",
       "    </tr>\n",
       "    <tr>\n",
       "      <th>10</th>\n",
       "      <td>Zagreb, Croacia</td>\n",
       "      <td>127</td>\n",
       "    </tr>\n",
       "    <tr>\n",
       "      <th>11</th>\n",
       "      <td>Bombay, India</td>\n",
       "      <td>124</td>\n",
       "    </tr>\n",
       "    <tr>\n",
       "      <th>12</th>\n",
       "      <td>Lima, Perú</td>\n",
       "      <td>116</td>\n",
       "    </tr>\n",
       "    <tr>\n",
       "      <th>13</th>\n",
       "      <td>Los Angeles, Estados Unidos</td>\n",
       "      <td>112</td>\n",
       "    </tr>\n",
       "    <tr>\n",
       "      <th>14</th>\n",
       "      <td>Sofía, Bulgaria</td>\n",
       "      <td>108</td>\n",
       "    </tr>\n",
       "    <tr>\n",
       "      <th>15</th>\n",
       "      <td>Yakarta, Indonesia</td>\n",
       "      <td>108</td>\n",
       "    </tr>\n",
       "    <tr>\n",
       "      <th>16</th>\n",
       "      <td>Cantón, República Popular China</td>\n",
       "      <td>99</td>\n",
       "    </tr>\n",
       "    <tr>\n",
       "      <th>17</th>\n",
       "      <td>Katmandú, Nepal</td>\n",
       "      <td>97</td>\n",
       "    </tr>\n",
       "    <tr>\n",
       "      <th>18</th>\n",
       "      <td>Singapur, Singapur</td>\n",
       "      <td>91</td>\n",
       "    </tr>\n",
       "    <tr>\n",
       "      <th>19</th>\n",
       "      <td>Kaohsiung, Taiwán</td>\n",
       "      <td>91</td>\n",
       "    </tr>\n",
       "    <tr>\n",
       "      <th>20</th>\n",
       "      <td>Inchon, República de Corea</td>\n",
       "      <td>91</td>\n",
       "    </tr>\n",
       "    <tr>\n",
       "      <th>21</th>\n",
       "      <td>Dubái, Emiratos Árabes Unidos</td>\n",
       "      <td>90</td>\n",
       "    </tr>\n",
       "    <tr>\n",
       "      <th>22</th>\n",
       "      <td>Ciudad Ho Chi Minh, Vietnam</td>\n",
       "      <td>89</td>\n",
       "    </tr>\n",
       "    <tr>\n",
       "      <th>23</th>\n",
       "      <td>Rangún, Myanmar [Birmania]</td>\n",
       "      <td>85</td>\n",
       "    </tr>\n",
       "    <tr>\n",
       "      <th>24</th>\n",
       "      <td>Kabul, Afganistán</td>\n",
       "      <td>84</td>\n",
       "    </tr>\n",
       "    <tr>\n",
       "      <th>25</th>\n",
       "      <td>Seúl, República de Corea</td>\n",
       "      <td>82</td>\n",
       "    </tr>\n",
       "    <tr>\n",
       "      <th>26</th>\n",
       "      <td>Nom Pen, Camboya</td>\n",
       "      <td>76</td>\n",
       "    </tr>\n",
       "    <tr>\n",
       "      <th>27</th>\n",
       "      <td>Budapest, Hungría</td>\n",
       "      <td>76</td>\n",
       "    </tr>\n",
       "    <tr>\n",
       "      <th>28</th>\n",
       "      <td>Hanói, Vietnam</td>\n",
       "      <td>76</td>\n",
       "    </tr>\n",
       "    <tr>\n",
       "      <th>29</th>\n",
       "      <td>Nagoya, Japón</td>\n",
       "      <td>74</td>\n",
       "    </tr>\n",
       "    <tr>\n",
       "      <th>30</th>\n",
       "      <td>Bangkok, Tailandia</td>\n",
       "      <td>73</td>\n",
       "    </tr>\n",
       "    <tr>\n",
       "      <th>31</th>\n",
       "      <td>Skopje, Macedonia, Antigua República Yugoslava</td>\n",
       "      <td>72</td>\n",
       "    </tr>\n",
       "    <tr>\n",
       "      <th>32</th>\n",
       "      <td>Wuhan, República Popular China</td>\n",
       "      <td>72</td>\n",
       "    </tr>\n",
       "    <tr>\n",
       "      <th>33</th>\n",
       "      <td>Priština, Kosovo</td>\n",
       "      <td>70</td>\n",
       "    </tr>\n",
       "    <tr>\n",
       "      <th>34</th>\n",
       "      <td>Detroit, Estados Unidos</td>\n",
       "      <td>69</td>\n",
       "    </tr>\n",
       "    <tr>\n",
       "      <th>35</th>\n",
       "      <td>Tel Aviv-Yafo, Israel</td>\n",
       "      <td>68</td>\n",
       "    </tr>\n",
       "    <tr>\n",
       "      <th>36</th>\n",
       "      <td>Teherán, Irán</td>\n",
       "      <td>67</td>\n",
       "    </tr>\n",
       "    <tr>\n",
       "      <th>37</th>\n",
       "      <td>París, Francia</td>\n",
       "      <td>65</td>\n",
       "    </tr>\n",
       "    <tr>\n",
       "      <th>38</th>\n",
       "      <td>Hong Kong, Hong Kong</td>\n",
       "      <td>64</td>\n",
       "    </tr>\n",
       "    <tr>\n",
       "      <th>39</th>\n",
       "      <td>Shenzhen, República Popular China</td>\n",
       "      <td>61</td>\n",
       "    </tr>\n",
       "    <tr>\n",
       "      <th>40</th>\n",
       "      <td>Chongqing, República Popular China</td>\n",
       "      <td>61</td>\n",
       "    </tr>\n",
       "    <tr>\n",
       "      <th>41</th>\n",
       "      <td>Bratislava, República Eslovaca</td>\n",
       "      <td>59</td>\n",
       "    </tr>\n",
       "    <tr>\n",
       "      <th>42</th>\n",
       "      <td>Riad, Arabia Saudita</td>\n",
       "      <td>59</td>\n",
       "    </tr>\n",
       "    <tr>\n",
       "      <th>43</th>\n",
       "      <td>Hangzhou, República Popular China</td>\n",
       "      <td>59</td>\n",
       "    </tr>\n",
       "    <tr>\n",
       "      <th>44</th>\n",
       "      <td>Praga, República Checa</td>\n",
       "      <td>59</td>\n",
       "    </tr>\n",
       "    <tr>\n",
       "      <th>45</th>\n",
       "      <td>Sarajevo, Bosnia y Herzegovina</td>\n",
       "      <td>57</td>\n",
       "    </tr>\n",
       "    <tr>\n",
       "      <th>46</th>\n",
       "      <td>Kuala Lumpur, Malasia</td>\n",
       "      <td>57</td>\n",
       "    </tr>\n",
       "    <tr>\n",
       "      <th>47</th>\n",
       "      <td>Viena, Austria</td>\n",
       "      <td>57</td>\n",
       "    </tr>\n",
       "    <tr>\n",
       "      <th>48</th>\n",
       "      <td>Posnania, Polonia</td>\n",
       "      <td>55</td>\n",
       "    </tr>\n",
       "    <tr>\n",
       "      <th>49</th>\n",
       "      <td>São Paulo, Brasil</td>\n",
       "      <td>55</td>\n",
       "    </tr>\n",
       "  </tbody>\n",
       "</table>\n",
       "</div>"
      ],
      "text/plain": [
       "                                       ciudad,país Calidad Aire\n",
       "0                                     Delhi, India          343\n",
       "1                                 Lahore, Pakistán          270\n",
       "2                               Biskek, Kirguistán          256\n",
       "3                                   Calcuta, India          185\n",
       "4                                 Daca, Bangladesh          176\n",
       "5                                Cracovia, Polonia          159\n",
       "6                                Karachi, Pakistán          154\n",
       "7                                 Belgrado, Serbia          134\n",
       "8                            Ulaanbaatar, Mongolia          134\n",
       "9                               Breslavia, Polonia          132\n",
       "10                                 Zagreb, Croacia          127\n",
       "11                                   Bombay, India          124\n",
       "12                                      Lima, Perú          116\n",
       "13                     Los Angeles, Estados Unidos          112\n",
       "14                                 Sofía, Bulgaria          108\n",
       "15                              Yakarta, Indonesia          108\n",
       "16                 Cantón, República Popular China           99\n",
       "17                                 Katmandú, Nepal           97\n",
       "18                              Singapur, Singapur           91\n",
       "19                               Kaohsiung, Taiwán           91\n",
       "20                      Inchon, República de Corea           91\n",
       "21                   Dubái, Emiratos Árabes Unidos           90\n",
       "22                     Ciudad Ho Chi Minh, Vietnam           89\n",
       "23                      Rangún, Myanmar [Birmania]           85\n",
       "24                               Kabul, Afganistán           84\n",
       "25                        Seúl, República de Corea           82\n",
       "26                                Nom Pen, Camboya           76\n",
       "27                               Budapest, Hungría           76\n",
       "28                                  Hanói, Vietnam           76\n",
       "29                                   Nagoya, Japón           74\n",
       "30                              Bangkok, Tailandia           73\n",
       "31  Skopje, Macedonia, Antigua República Yugoslava           72\n",
       "32                  Wuhan, República Popular China           72\n",
       "33                                Priština, Kosovo           70\n",
       "34                         Detroit, Estados Unidos           69\n",
       "35                           Tel Aviv-Yafo, Israel           68\n",
       "36                                   Teherán, Irán           67\n",
       "37                                  París, Francia           65\n",
       "38                            Hong Kong, Hong Kong           64\n",
       "39               Shenzhen, República Popular China           61\n",
       "40              Chongqing, República Popular China           61\n",
       "41                  Bratislava, República Eslovaca           59\n",
       "42                            Riad, Arabia Saudita           59\n",
       "43               Hangzhou, República Popular China           59\n",
       "44                          Praga, República Checa           59\n",
       "45                  Sarajevo, Bosnia y Herzegovina           57\n",
       "46                           Kuala Lumpur, Malasia           57\n",
       "47                                  Viena, Austria           57\n",
       "48                               Posnania, Polonia           55\n",
       "49                               São Paulo, Brasil           55"
      ]
     },
     "execution_count": 48,
     "metadata": {},
     "output_type": "execute_result"
    }
   ],
   "source": [
    "data"
   ]
  },
  {
   "cell_type": "code",
   "execution_count": null,
   "id": "8bc1283f",
   "metadata": {},
   "outputs": [],
   "source": []
  }
 ],
 "metadata": {
  "kernelspec": {
   "display_name": "ironhack",
   "language": "python",
   "name": "ironhack"
  },
  "language_info": {
   "codemirror_mode": {
    "name": "ipython",
    "version": 3
   },
   "file_extension": ".py",
   "mimetype": "text/x-python",
   "name": "python",
   "nbconvert_exporter": "python",
   "pygments_lexer": "ipython3",
   "version": "3.8.5"
  }
 },
 "nbformat": 4,
 "nbformat_minor": 5
}
