{
 "cells": [
  {
   "cell_type": "markdown",
   "id": "1a706993",
   "metadata": {},
   "source": [
    "### HIPÓTESIS:"
   ]
  },
  {
   "cell_type": "markdown",
   "id": "7c6fb263",
   "metadata": {},
   "source": [
    "1. En las ciudades europeas hay mejor calidad de vida que en las ciudades australianas.\n",
    "2. La calidad del aire influye en la puntuación de la calidad de vida en base a las actividades outdoors.\n",
    "3."
   ]
  },
  {
   "cell_type": "code",
   "execution_count": 2,
   "id": "589e152c",
   "metadata": {},
   "outputs": [],
   "source": [
    "import seaborn as sns\n",
    "import matplotlib.pyplot as plt\n",
    "import pandas as pd\n",
    "%matplotlib inline\n",
    "%config Inlinebackend.figure_format= 'retina'\n",
    "sns.set_context(\"poster\")\n",
    "sns.set(rc={\"figure.figsize\": (12.,6.)})\n",
    "sns.set_style(\"whitegrid\")"
   ]
  },
  {
   "cell_type": "markdown",
   "id": "b20b724c",
   "metadata": {},
   "source": [
    "### Cargo los datos:"
   ]
  },
  {
   "cell_type": "code",
   "execution_count": null,
   "id": "f8e2170c",
   "metadata": {},
   "outputs": [],
   "source": [
    "penguins = sns.load_dataset(\"penguins\")\n",
    "tips = sns.load_dataset(\"tips\")\n",
    "titanic = pd.read_csv('../datasets/titanic.csv')\n",
    "titanic2=sns.load_dataset(\"titanic\")\n",
    "vuelos = sns.load_dataset(\"flights\")"
   ]
  },
  {
   "cell_type": "markdown",
   "id": "914eefac",
   "metadata": {},
   "source": [
    "1. En las ciudades europeas hay mejor calidad de vida que en las ciudades australianas."
   ]
  },
  {
   "cell_type": "code",
   "execution_count": null,
   "id": "e285037f",
   "metadata": {},
   "outputs": [],
   "source": []
  }
 ],
 "metadata": {
  "kernelspec": {
   "display_name": "ironhack",
   "language": "python",
   "name": "ironhack"
  },
  "language_info": {
   "codemirror_mode": {
    "name": "ipython",
    "version": 3
   },
   "file_extension": ".py",
   "mimetype": "text/x-python",
   "name": "python",
   "nbconvert_exporter": "python",
   "pygments_lexer": "ipython3",
   "version": "3.8.5"
  }
 },
 "nbformat": 4,
 "nbformat_minor": 5
}
