{
 "cells": [
  {
   "cell_type": "code",
   "execution_count": 181,
   "id": "34dcf291",
   "metadata": {},
   "outputs": [],
   "source": [
    "import requests\n",
    "from bs4 import BeautifulSoup\n",
    "import pandas as pd\n",
    "import numpy as np"
   ]
  },
  {
   "cell_type": "code",
   "execution_count": 182,
   "id": "134949c5",
   "metadata": {},
   "outputs": [],
   "source": [
    "df = pd.read_csv(\"../data/City_Quality_of_Life_Dataset.csv\")"
   ]
  },
  {
   "cell_type": "code",
   "execution_count": 183,
   "id": "e32ebfc2",
   "metadata": {},
   "outputs": [
    {
     "data": {
      "text/html": [
       "<div>\n",
       "<style scoped>\n",
       "    .dataframe tbody tr th:only-of-type {\n",
       "        vertical-align: middle;\n",
       "    }\n",
       "\n",
       "    .dataframe tbody tr th {\n",
       "        vertical-align: top;\n",
       "    }\n",
       "\n",
       "    .dataframe thead th {\n",
       "        text-align: right;\n",
       "    }\n",
       "</style>\n",
       "<table border=\"1\" class=\"dataframe\">\n",
       "  <thead>\n",
       "    <tr style=\"text-align: right;\">\n",
       "      <th></th>\n",
       "      <th>Unnamed: 0</th>\n",
       "      <th>UA_Name</th>\n",
       "      <th>UA_Country</th>\n",
       "      <th>UA_Continent</th>\n",
       "      <th>Housing</th>\n",
       "      <th>Cost of Living</th>\n",
       "      <th>Startups</th>\n",
       "      <th>Venture Capital</th>\n",
       "      <th>Travel Connectivity</th>\n",
       "      <th>Commute</th>\n",
       "      <th>...</th>\n",
       "      <th>Safety</th>\n",
       "      <th>Healthcare</th>\n",
       "      <th>Education</th>\n",
       "      <th>Environmental Quality</th>\n",
       "      <th>Economy</th>\n",
       "      <th>Taxation</th>\n",
       "      <th>Internet Access</th>\n",
       "      <th>Leisure &amp; Culture</th>\n",
       "      <th>Tolerance</th>\n",
       "      <th>Outdoors</th>\n",
       "    </tr>\n",
       "  </thead>\n",
       "  <tbody>\n",
       "    <tr>\n",
       "      <th>18</th>\n",
       "      <td>18</td>\n",
       "      <td>Barcelona</td>\n",
       "      <td>Spain</td>\n",
       "      <td>Europe</td>\n",
       "      <td>6.323</td>\n",
       "      <td>6.074</td>\n",
       "      <td>7.7585</td>\n",
       "      <td>5.655</td>\n",
       "      <td>5.806</td>\n",
       "      <td>5.69925</td>\n",
       "      <td>...</td>\n",
       "      <td>7.4075</td>\n",
       "      <td>8.403333</td>\n",
       "      <td>5.029</td>\n",
       "      <td>3.6655</td>\n",
       "      <td>4.296</td>\n",
       "      <td>3.894</td>\n",
       "      <td>6.468</td>\n",
       "      <td>8.5915</td>\n",
       "      <td>7.4715</td>\n",
       "      <td>5.828</td>\n",
       "    </tr>\n",
       "  </tbody>\n",
       "</table>\n",
       "<p>1 rows × 21 columns</p>\n",
       "</div>"
      ],
      "text/plain": [
       "    Unnamed: 0    UA_Name UA_Country UA_Continent  Housing  Cost of Living  \\\n",
       "18          18  Barcelona      Spain       Europe    6.323           6.074   \n",
       "\n",
       "    Startups  Venture Capital  Travel Connectivity  Commute  ...  Safety  \\\n",
       "18    7.7585            5.655                5.806  5.69925  ...  7.4075   \n",
       "\n",
       "    Healthcare  Education  Environmental Quality  Economy  Taxation  \\\n",
       "18    8.403333      5.029                 3.6655    4.296     3.894   \n",
       "\n",
       "    Internet Access  Leisure & Culture  Tolerance  Outdoors  \n",
       "18            6.468             8.5915     7.4715     5.828  \n",
       "\n",
       "[1 rows x 21 columns]"
      ]
     },
     "execution_count": 183,
     "metadata": {},
     "output_type": "execute_result"
    }
   ],
   "source": [
    "df.sample()"
   ]
  },
  {
   "cell_type": "code",
   "execution_count": 184,
   "id": "d256d487",
   "metadata": {},
   "outputs": [
    {
     "data": {
      "text/plain": [
       "Index(['Unnamed: 0', 'UA_Name', 'UA_Country', 'UA_Continent', 'Housing',\n",
       "       'Cost of Living', 'Startups', 'Venture Capital', 'Travel Connectivity',\n",
       "       'Commute', 'Business Freedom', 'Safety', 'Healthcare', 'Education',\n",
       "       'Environmental Quality', 'Economy', 'Taxation', 'Internet Access',\n",
       "       'Leisure & Culture', 'Tolerance', 'Outdoors'],\n",
       "      dtype='object')"
      ]
     },
     "execution_count": 184,
     "metadata": {},
     "output_type": "execute_result"
    }
   ],
   "source": [
    "df.columns"
   ]
  },
  {
   "cell_type": "markdown",
   "id": "688224b9",
   "metadata": {},
   "source": [
    "### 1. Unuseful columns are deleted :"
   ]
  },
  {
   "cell_type": "code",
   "execution_count": 185,
   "id": "13c5e5b4",
   "metadata": {},
   "outputs": [],
   "source": [
    "df.drop([\"Unnamed: 0\", \"Startups\", \"Venture Capital\", \"Travel Connectivity\", \"Business Freedom\", \"Tolerance\"], axis=1, inplace=True)"
   ]
  },
  {
   "cell_type": "code",
   "execution_count": 186,
   "id": "395093e0",
   "metadata": {},
   "outputs": [
    {
     "data": {
      "text/html": [
       "<div>\n",
       "<style scoped>\n",
       "    .dataframe tbody tr th:only-of-type {\n",
       "        vertical-align: middle;\n",
       "    }\n",
       "\n",
       "    .dataframe tbody tr th {\n",
       "        vertical-align: top;\n",
       "    }\n",
       "\n",
       "    .dataframe thead th {\n",
       "        text-align: right;\n",
       "    }\n",
       "</style>\n",
       "<table border=\"1\" class=\"dataframe\">\n",
       "  <thead>\n",
       "    <tr style=\"text-align: right;\">\n",
       "      <th></th>\n",
       "      <th>UA_Name</th>\n",
       "      <th>UA_Country</th>\n",
       "      <th>UA_Continent</th>\n",
       "      <th>Housing</th>\n",
       "      <th>Cost of Living</th>\n",
       "      <th>Commute</th>\n",
       "      <th>Safety</th>\n",
       "      <th>Healthcare</th>\n",
       "      <th>Education</th>\n",
       "      <th>Environmental Quality</th>\n",
       "      <th>Economy</th>\n",
       "      <th>Taxation</th>\n",
       "      <th>Internet Access</th>\n",
       "      <th>Leisure &amp; Culture</th>\n",
       "      <th>Outdoors</th>\n",
       "    </tr>\n",
       "  </thead>\n",
       "  <tbody>\n",
       "    <tr>\n",
       "      <th>61</th>\n",
       "      <td>Chisinau</td>\n",
       "      <td>Moldova</td>\n",
       "      <td>Europe</td>\n",
       "      <td>9.6765</td>\n",
       "      <td>9.343</td>\n",
       "      <td>5.495</td>\n",
       "      <td>7.628</td>\n",
       "      <td>5.066</td>\n",
       "      <td>1.3995</td>\n",
       "      <td>4.33825</td>\n",
       "      <td>3.9765</td>\n",
       "      <td>6.2325</td>\n",
       "      <td>5.3615</td>\n",
       "      <td>2.712</td>\n",
       "      <td>3.121</td>\n",
       "    </tr>\n",
       "  </tbody>\n",
       "</table>\n",
       "</div>"
      ],
      "text/plain": [
       "     UA_Name UA_Country UA_Continent  Housing  Cost of Living  Commute  \\\n",
       "61  Chisinau    Moldova       Europe   9.6765           9.343    5.495   \n",
       "\n",
       "    Safety  Healthcare  Education  Environmental Quality  Economy  Taxation  \\\n",
       "61   7.628       5.066     1.3995                4.33825   3.9765    6.2325   \n",
       "\n",
       "    Internet Access  Leisure & Culture  Outdoors  \n",
       "61           5.3615              2.712     3.121  "
      ]
     },
     "execution_count": 186,
     "metadata": {},
     "output_type": "execute_result"
    }
   ],
   "source": [
    "df.sample()"
   ]
  },
  {
   "cell_type": "code",
   "execution_count": 187,
   "id": "5739c733",
   "metadata": {},
   "outputs": [
    {
     "data": {
      "text/plain": [
       "(266, 15)"
      ]
     },
     "execution_count": 187,
     "metadata": {},
     "output_type": "execute_result"
    }
   ],
   "source": [
    "df.shape"
   ]
  },
  {
   "cell_type": "markdown",
   "id": "8bbd1587",
   "metadata": {},
   "source": [
    "### 2. Renaming some columns:"
   ]
  },
  {
   "cell_type": "code",
   "execution_count": 188,
   "id": "5d2d585f",
   "metadata": {},
   "outputs": [],
   "source": [
    "for_city = {'UA_Name': 'City'}"
   ]
  },
  {
   "cell_type": "code",
   "execution_count": 189,
   "id": "7c87dc5c",
   "metadata": {},
   "outputs": [],
   "source": [
    "df.rename(columns=for_city,inplace=True)"
   ]
  },
  {
   "cell_type": "code",
   "execution_count": 190,
   "id": "21478dc1",
   "metadata": {},
   "outputs": [],
   "source": [
    "for_country= {'UA_Country': 'Country'}"
   ]
  },
  {
   "cell_type": "code",
   "execution_count": 191,
   "id": "d0d62bc5",
   "metadata": {},
   "outputs": [],
   "source": [
    "df.rename(columns=for_country,inplace=True)"
   ]
  },
  {
   "cell_type": "code",
   "execution_count": 192,
   "id": "bc327e2d",
   "metadata": {},
   "outputs": [],
   "source": [
    "for_continent= {'UA_Continent': 'Continent'}"
   ]
  },
  {
   "cell_type": "code",
   "execution_count": 193,
   "id": "79481276",
   "metadata": {},
   "outputs": [],
   "source": [
    "df.rename(columns=for_continent,inplace=True)"
   ]
  },
  {
   "cell_type": "code",
   "execution_count": 194,
   "id": "08e1064b",
   "metadata": {},
   "outputs": [
    {
     "data": {
      "text/html": [
       "<div>\n",
       "<style scoped>\n",
       "    .dataframe tbody tr th:only-of-type {\n",
       "        vertical-align: middle;\n",
       "    }\n",
       "\n",
       "    .dataframe tbody tr th {\n",
       "        vertical-align: top;\n",
       "    }\n",
       "\n",
       "    .dataframe thead th {\n",
       "        text-align: right;\n",
       "    }\n",
       "</style>\n",
       "<table border=\"1\" class=\"dataframe\">\n",
       "  <thead>\n",
       "    <tr style=\"text-align: right;\">\n",
       "      <th></th>\n",
       "      <th>City</th>\n",
       "      <th>Country</th>\n",
       "      <th>Continent</th>\n",
       "      <th>Housing</th>\n",
       "      <th>Cost of Living</th>\n",
       "      <th>Commute</th>\n",
       "      <th>Safety</th>\n",
       "      <th>Healthcare</th>\n",
       "      <th>Education</th>\n",
       "      <th>Environmental Quality</th>\n",
       "      <th>Economy</th>\n",
       "      <th>Taxation</th>\n",
       "      <th>Internet Access</th>\n",
       "      <th>Leisure &amp; Culture</th>\n",
       "      <th>Outdoors</th>\n",
       "    </tr>\n",
       "  </thead>\n",
       "  <tbody>\n",
       "    <tr>\n",
       "      <th>0</th>\n",
       "      <td>Aarhus</td>\n",
       "      <td>Denmark</td>\n",
       "      <td>Europe</td>\n",
       "      <td>6.1315</td>\n",
       "      <td>4.015</td>\n",
       "      <td>6.31175</td>\n",
       "      <td>9.6165</td>\n",
       "      <td>8.704333</td>\n",
       "      <td>5.3665</td>\n",
       "      <td>7.63300</td>\n",
       "      <td>4.8865</td>\n",
       "      <td>5.0680</td>\n",
       "      <td>8.3730</td>\n",
       "      <td>3.1870</td>\n",
       "      <td>4.1300</td>\n",
       "    </tr>\n",
       "    <tr>\n",
       "      <th>1</th>\n",
       "      <td>Adelaide</td>\n",
       "      <td>Australia</td>\n",
       "      <td>Oceania</td>\n",
       "      <td>6.3095</td>\n",
       "      <td>4.692</td>\n",
       "      <td>5.33625</td>\n",
       "      <td>7.9260</td>\n",
       "      <td>7.936667</td>\n",
       "      <td>5.1420</td>\n",
       "      <td>8.33075</td>\n",
       "      <td>6.0695</td>\n",
       "      <td>4.5885</td>\n",
       "      <td>4.3410</td>\n",
       "      <td>4.3285</td>\n",
       "      <td>5.5310</td>\n",
       "    </tr>\n",
       "    <tr>\n",
       "      <th>2</th>\n",
       "      <td>Albuquerque</td>\n",
       "      <td>New Mexico</td>\n",
       "      <td>North America</td>\n",
       "      <td>7.2620</td>\n",
       "      <td>6.059</td>\n",
       "      <td>5.05575</td>\n",
       "      <td>1.3435</td>\n",
       "      <td>6.430000</td>\n",
       "      <td>4.1520</td>\n",
       "      <td>7.31950</td>\n",
       "      <td>6.5145</td>\n",
       "      <td>4.3460</td>\n",
       "      <td>5.3960</td>\n",
       "      <td>4.8900</td>\n",
       "      <td>3.5155</td>\n",
       "    </tr>\n",
       "    <tr>\n",
       "      <th>3</th>\n",
       "      <td>Almaty</td>\n",
       "      <td>Kazakhstan</td>\n",
       "      <td>Asia</td>\n",
       "      <td>9.2820</td>\n",
       "      <td>9.333</td>\n",
       "      <td>5.87125</td>\n",
       "      <td>7.3090</td>\n",
       "      <td>4.545667</td>\n",
       "      <td>2.2830</td>\n",
       "      <td>3.85675</td>\n",
       "      <td>5.2690</td>\n",
       "      <td>8.5220</td>\n",
       "      <td>2.8860</td>\n",
       "      <td>2.9370</td>\n",
       "      <td>5.5000</td>\n",
       "    </tr>\n",
       "    <tr>\n",
       "      <th>4</th>\n",
       "      <td>Amsterdam</td>\n",
       "      <td>Netherlands</td>\n",
       "      <td>Europe</td>\n",
       "      <td>3.0530</td>\n",
       "      <td>3.824</td>\n",
       "      <td>6.11850</td>\n",
       "      <td>8.5035</td>\n",
       "      <td>7.907333</td>\n",
       "      <td>6.1800</td>\n",
       "      <td>7.59725</td>\n",
       "      <td>5.0530</td>\n",
       "      <td>4.9550</td>\n",
       "      <td>4.5230</td>\n",
       "      <td>8.8740</td>\n",
       "      <td>5.3070</td>\n",
       "    </tr>\n",
       "    <tr>\n",
       "      <th>...</th>\n",
       "      <td>...</td>\n",
       "      <td>...</td>\n",
       "      <td>...</td>\n",
       "      <td>...</td>\n",
       "      <td>...</td>\n",
       "      <td>...</td>\n",
       "      <td>...</td>\n",
       "      <td>...</td>\n",
       "      <td>...</td>\n",
       "      <td>...</td>\n",
       "      <td>...</td>\n",
       "      <td>...</td>\n",
       "      <td>...</td>\n",
       "      <td>...</td>\n",
       "      <td>...</td>\n",
       "    </tr>\n",
       "    <tr>\n",
       "      <th>261</th>\n",
       "      <td>Winnipeg</td>\n",
       "      <td>Canada</td>\n",
       "      <td>North America</td>\n",
       "      <td>7.5525</td>\n",
       "      <td>5.882</td>\n",
       "      <td>5.10450</td>\n",
       "      <td>6.0155</td>\n",
       "      <td>7.755667</td>\n",
       "      <td>5.3440</td>\n",
       "      <td>5.67475</td>\n",
       "      <td>5.8405</td>\n",
       "      <td>7.2745</td>\n",
       "      <td>4.9025</td>\n",
       "      <td>4.6880</td>\n",
       "      <td>4.2430</td>\n",
       "    </tr>\n",
       "    <tr>\n",
       "      <th>262</th>\n",
       "      <td>Wroclaw</td>\n",
       "      <td>Poland</td>\n",
       "      <td>Europe</td>\n",
       "      <td>8.4520</td>\n",
       "      <td>8.434</td>\n",
       "      <td>4.95475</td>\n",
       "      <td>8.1655</td>\n",
       "      <td>6.781333</td>\n",
       "      <td>4.1615</td>\n",
       "      <td>4.96475</td>\n",
       "      <td>4.7615</td>\n",
       "      <td>5.0970</td>\n",
       "      <td>5.7615</td>\n",
       "      <td>4.7495</td>\n",
       "      <td>4.0850</td>\n",
       "    </tr>\n",
       "    <tr>\n",
       "      <th>263</th>\n",
       "      <td>Yerevan</td>\n",
       "      <td>Armenia</td>\n",
       "      <td>Asia</td>\n",
       "      <td>9.6945</td>\n",
       "      <td>9.431</td>\n",
       "      <td>5.64925</td>\n",
       "      <td>8.8730</td>\n",
       "      <td>5.102000</td>\n",
       "      <td>0.0000</td>\n",
       "      <td>4.43950</td>\n",
       "      <td>3.4580</td>\n",
       "      <td>8.0550</td>\n",
       "      <td>3.9000</td>\n",
       "      <td>4.7370</td>\n",
       "      <td>7.7765</td>\n",
       "    </tr>\n",
       "    <tr>\n",
       "      <th>264</th>\n",
       "      <td>Zagreb</td>\n",
       "      <td>Croatia</td>\n",
       "      <td>Europe</td>\n",
       "      <td>8.9100</td>\n",
       "      <td>7.194</td>\n",
       "      <td>4.83000</td>\n",
       "      <td>8.6575</td>\n",
       "      <td>7.266000</td>\n",
       "      <td>3.2110</td>\n",
       "      <td>7.33150</td>\n",
       "      <td>2.2365</td>\n",
       "      <td>7.9935</td>\n",
       "      <td>5.0335</td>\n",
       "      <td>4.9945</td>\n",
       "      <td>4.8090</td>\n",
       "    </tr>\n",
       "    <tr>\n",
       "      <th>265</th>\n",
       "      <td>Zurich</td>\n",
       "      <td>Switzerland</td>\n",
       "      <td>Europe</td>\n",
       "      <td>1.4730</td>\n",
       "      <td>1.000</td>\n",
       "      <td>5.83950</td>\n",
       "      <td>9.0665</td>\n",
       "      <td>7.670333</td>\n",
       "      <td>7.2875</td>\n",
       "      <td>8.64300</td>\n",
       "      <td>6.5520</td>\n",
       "      <td>6.4285</td>\n",
       "      <td>7.2675</td>\n",
       "      <td>4.9655</td>\n",
       "      <td>5.4010</td>\n",
       "    </tr>\n",
       "  </tbody>\n",
       "</table>\n",
       "<p>266 rows × 15 columns</p>\n",
       "</div>"
      ],
      "text/plain": [
       "            City       Country      Continent  Housing  Cost of Living  \\\n",
       "0         Aarhus       Denmark         Europe   6.1315           4.015   \n",
       "1       Adelaide     Australia        Oceania   6.3095           4.692   \n",
       "2    Albuquerque    New Mexico  North America   7.2620           6.059   \n",
       "3         Almaty    Kazakhstan           Asia   9.2820           9.333   \n",
       "4      Amsterdam   Netherlands         Europe   3.0530           3.824   \n",
       "..           ...           ...            ...      ...             ...   \n",
       "261     Winnipeg        Canada  North America   7.5525           5.882   \n",
       "262      Wroclaw        Poland         Europe   8.4520           8.434   \n",
       "263      Yerevan       Armenia           Asia   9.6945           9.431   \n",
       "264       Zagreb       Croatia         Europe   8.9100           7.194   \n",
       "265       Zurich   Switzerland         Europe   1.4730           1.000   \n",
       "\n",
       "     Commute  Safety  Healthcare  Education  Environmental Quality  Economy  \\\n",
       "0    6.31175  9.6165    8.704333     5.3665                7.63300   4.8865   \n",
       "1    5.33625  7.9260    7.936667     5.1420                8.33075   6.0695   \n",
       "2    5.05575  1.3435    6.430000     4.1520                7.31950   6.5145   \n",
       "3    5.87125  7.3090    4.545667     2.2830                3.85675   5.2690   \n",
       "4    6.11850  8.5035    7.907333     6.1800                7.59725   5.0530   \n",
       "..       ...     ...         ...        ...                    ...      ...   \n",
       "261  5.10450  6.0155    7.755667     5.3440                5.67475   5.8405   \n",
       "262  4.95475  8.1655    6.781333     4.1615                4.96475   4.7615   \n",
       "263  5.64925  8.8730    5.102000     0.0000                4.43950   3.4580   \n",
       "264  4.83000  8.6575    7.266000     3.2110                7.33150   2.2365   \n",
       "265  5.83950  9.0665    7.670333     7.2875                8.64300   6.5520   \n",
       "\n",
       "     Taxation  Internet Access  Leisure & Culture  Outdoors  \n",
       "0      5.0680           8.3730             3.1870    4.1300  \n",
       "1      4.5885           4.3410             4.3285    5.5310  \n",
       "2      4.3460           5.3960             4.8900    3.5155  \n",
       "3      8.5220           2.8860             2.9370    5.5000  \n",
       "4      4.9550           4.5230             8.8740    5.3070  \n",
       "..        ...              ...                ...       ...  \n",
       "261    7.2745           4.9025             4.6880    4.2430  \n",
       "262    5.0970           5.7615             4.7495    4.0850  \n",
       "263    8.0550           3.9000             4.7370    7.7765  \n",
       "264    7.9935           5.0335             4.9945    4.8090  \n",
       "265    6.4285           7.2675             4.9655    5.4010  \n",
       "\n",
       "[266 rows x 15 columns]"
      ]
     },
     "execution_count": 194,
     "metadata": {},
     "output_type": "execute_result"
    }
   ],
   "source": [
    "df"
   ]
  },
  {
   "cell_type": "code",
   "execution_count": 195,
   "id": "09a17fc6",
   "metadata": {},
   "outputs": [],
   "source": [
    "paises=list(df.Country.unique())"
   ]
  },
  {
   "cell_type": "code",
   "execution_count": 196,
   "id": "6ce5b795",
   "metadata": {},
   "outputs": [
    {
     "data": {
      "text/plain": [
       "135"
      ]
     },
     "execution_count": 196,
     "metadata": {},
     "output_type": "execute_result"
    }
   ],
   "source": [
    "len(paises)"
   ]
  },
  {
   "cell_type": "markdown",
   "id": "455e8a28",
   "metadata": {},
   "source": [
    "### 3. Creating a new column \"Average Score\" which is the mean of all the columns."
   ]
  },
  {
   "cell_type": "code",
   "execution_count": 197,
   "id": "c94835b0",
   "metadata": {},
   "outputs": [
    {
     "name": "stderr",
     "output_type": "stream",
     "text": [
      "<ipython-input-197-083e61cc0b4b>:1: FutureWarning: Dropping of nuisance columns in DataFrame reductions (with 'numeric_only=None') is deprecated; in a future version this will raise TypeError.  Select only valid columns before calling the reduction.\n",
      "  df[\"Average Score\"]=df.mean(axis=1)\n"
     ]
    }
   ],
   "source": [
    "df[\"Average Score\"]=df.mean(axis=1)\n"
   ]
  },
  {
   "cell_type": "code",
   "execution_count": 198,
   "id": "9b8051f1",
   "metadata": {},
   "outputs": [
    {
     "data": {
      "text/html": [
       "<div>\n",
       "<style scoped>\n",
       "    .dataframe tbody tr th:only-of-type {\n",
       "        vertical-align: middle;\n",
       "    }\n",
       "\n",
       "    .dataframe tbody tr th {\n",
       "        vertical-align: top;\n",
       "    }\n",
       "\n",
       "    .dataframe thead th {\n",
       "        text-align: right;\n",
       "    }\n",
       "</style>\n",
       "<table border=\"1\" class=\"dataframe\">\n",
       "  <thead>\n",
       "    <tr style=\"text-align: right;\">\n",
       "      <th></th>\n",
       "      <th>City</th>\n",
       "      <th>Country</th>\n",
       "      <th>Continent</th>\n",
       "      <th>Housing</th>\n",
       "      <th>Cost of Living</th>\n",
       "      <th>Commute</th>\n",
       "      <th>Safety</th>\n",
       "      <th>Healthcare</th>\n",
       "      <th>Education</th>\n",
       "      <th>Environmental Quality</th>\n",
       "      <th>Economy</th>\n",
       "      <th>Taxation</th>\n",
       "      <th>Internet Access</th>\n",
       "      <th>Leisure &amp; Culture</th>\n",
       "      <th>Outdoors</th>\n",
       "      <th>Average Score</th>\n",
       "    </tr>\n",
       "  </thead>\n",
       "  <tbody>\n",
       "    <tr>\n",
       "      <th>0</th>\n",
       "      <td>Aarhus</td>\n",
       "      <td>Denmark</td>\n",
       "      <td>Europe</td>\n",
       "      <td>6.1315</td>\n",
       "      <td>4.015</td>\n",
       "      <td>6.31175</td>\n",
       "      <td>9.6165</td>\n",
       "      <td>8.704333</td>\n",
       "      <td>5.3665</td>\n",
       "      <td>7.63300</td>\n",
       "      <td>4.8865</td>\n",
       "      <td>5.0680</td>\n",
       "      <td>8.373</td>\n",
       "      <td>3.1870</td>\n",
       "      <td>4.1300</td>\n",
       "      <td>6.118590</td>\n",
       "    </tr>\n",
       "    <tr>\n",
       "      <th>1</th>\n",
       "      <td>Adelaide</td>\n",
       "      <td>Australia</td>\n",
       "      <td>Oceania</td>\n",
       "      <td>6.3095</td>\n",
       "      <td>4.692</td>\n",
       "      <td>5.33625</td>\n",
       "      <td>7.9260</td>\n",
       "      <td>7.936667</td>\n",
       "      <td>5.1420</td>\n",
       "      <td>8.33075</td>\n",
       "      <td>6.0695</td>\n",
       "      <td>4.5885</td>\n",
       "      <td>4.341</td>\n",
       "      <td>4.3285</td>\n",
       "      <td>5.5310</td>\n",
       "      <td>5.877639</td>\n",
       "    </tr>\n",
       "    <tr>\n",
       "      <th>2</th>\n",
       "      <td>Albuquerque</td>\n",
       "      <td>New Mexico</td>\n",
       "      <td>North America</td>\n",
       "      <td>7.2620</td>\n",
       "      <td>6.059</td>\n",
       "      <td>5.05575</td>\n",
       "      <td>1.3435</td>\n",
       "      <td>6.430000</td>\n",
       "      <td>4.1520</td>\n",
       "      <td>7.31950</td>\n",
       "      <td>6.5145</td>\n",
       "      <td>4.3460</td>\n",
       "      <td>5.396</td>\n",
       "      <td>4.8900</td>\n",
       "      <td>3.5155</td>\n",
       "      <td>5.190313</td>\n",
       "    </tr>\n",
       "    <tr>\n",
       "      <th>3</th>\n",
       "      <td>Almaty</td>\n",
       "      <td>Kazakhstan</td>\n",
       "      <td>Asia</td>\n",
       "      <td>9.2820</td>\n",
       "      <td>9.333</td>\n",
       "      <td>5.87125</td>\n",
       "      <td>7.3090</td>\n",
       "      <td>4.545667</td>\n",
       "      <td>2.2830</td>\n",
       "      <td>3.85675</td>\n",
       "      <td>5.2690</td>\n",
       "      <td>8.5220</td>\n",
       "      <td>2.886</td>\n",
       "      <td>2.9370</td>\n",
       "      <td>5.5000</td>\n",
       "      <td>5.632889</td>\n",
       "    </tr>\n",
       "    <tr>\n",
       "      <th>4</th>\n",
       "      <td>Amsterdam</td>\n",
       "      <td>Netherlands</td>\n",
       "      <td>Europe</td>\n",
       "      <td>3.0530</td>\n",
       "      <td>3.824</td>\n",
       "      <td>6.11850</td>\n",
       "      <td>8.5035</td>\n",
       "      <td>7.907333</td>\n",
       "      <td>6.1800</td>\n",
       "      <td>7.59725</td>\n",
       "      <td>5.0530</td>\n",
       "      <td>4.9550</td>\n",
       "      <td>4.523</td>\n",
       "      <td>8.8740</td>\n",
       "      <td>5.3070</td>\n",
       "      <td>5.991299</td>\n",
       "    </tr>\n",
       "  </tbody>\n",
       "</table>\n",
       "</div>"
      ],
      "text/plain": [
       "          City       Country      Continent  Housing  Cost of Living  Commute  \\\n",
       "0       Aarhus       Denmark         Europe   6.1315           4.015  6.31175   \n",
       "1     Adelaide     Australia        Oceania   6.3095           4.692  5.33625   \n",
       "2  Albuquerque    New Mexico  North America   7.2620           6.059  5.05575   \n",
       "3       Almaty    Kazakhstan           Asia   9.2820           9.333  5.87125   \n",
       "4    Amsterdam   Netherlands         Europe   3.0530           3.824  6.11850   \n",
       "\n",
       "   Safety  Healthcare  Education  Environmental Quality  Economy  Taxation  \\\n",
       "0  9.6165    8.704333     5.3665                7.63300   4.8865    5.0680   \n",
       "1  7.9260    7.936667     5.1420                8.33075   6.0695    4.5885   \n",
       "2  1.3435    6.430000     4.1520                7.31950   6.5145    4.3460   \n",
       "3  7.3090    4.545667     2.2830                3.85675   5.2690    8.5220   \n",
       "4  8.5035    7.907333     6.1800                7.59725   5.0530    4.9550   \n",
       "\n",
       "   Internet Access  Leisure & Culture  Outdoors  Average Score  \n",
       "0            8.373             3.1870    4.1300       6.118590  \n",
       "1            4.341             4.3285    5.5310       5.877639  \n",
       "2            5.396             4.8900    3.5155       5.190313  \n",
       "3            2.886             2.9370    5.5000       5.632889  \n",
       "4            4.523             8.8740    5.3070       5.991299  "
      ]
     },
     "execution_count": 198,
     "metadata": {},
     "output_type": "execute_result"
    }
   ],
   "source": [
    "df.head()"
   ]
  },
  {
   "cell_type": "markdown",
   "id": "7dfa0002",
   "metadata": {},
   "source": [
    "### 4. Leaving \"Country\" column just with its unique values (just one city per country)."
   ]
  },
  {
   "cell_type": "code",
   "execution_count": 199,
   "id": "38126a21",
   "metadata": {},
   "outputs": [],
   "source": [
    "frecuencia_country=df.Country.value_counts()"
   ]
  },
  {
   "cell_type": "code",
   "execution_count": 200,
   "id": "b9086d9d",
   "metadata": {},
   "outputs": [],
   "source": [
    "columna_Country=list(df.Country)"
   ]
  },
  {
   "cell_type": "code",
   "execution_count": 201,
   "id": "b445dc3b",
   "metadata": {},
   "outputs": [],
   "source": [
    "df2=(df.drop_duplicates(subset = \"Country\")) # He intentado dejar cada país una única vez pensando que ese era el problema por el cuál no podía hacer el \"merge\""
   ]
  },
  {
   "cell_type": "code",
   "execution_count": 234,
   "id": "596d9e8a",
   "metadata": {},
   "outputs": [
    {
     "data": {
      "text/plain": [
       " Denmark      1\n",
       " Slovenia     1\n",
       " Oklahoma     1\n",
       " Cyprus       1\n",
       " Louisiana    1\n",
       "             ..\n",
       " Romania      1\n",
       " Belgium      1\n",
       " Czechia      1\n",
       " Slovakia     1\n",
       " Croatia      1\n",
       "Name: Country, Length: 135, dtype: int64"
      ]
     },
     "execution_count": 234,
     "metadata": {},
     "output_type": "execute_result"
    }
   ],
   "source": [
    "df2.Country.value_counts()"
   ]
  },
  {
   "cell_type": "code",
   "execution_count": 233,
   "id": "85d46735",
   "metadata": {},
   "outputs": [
    {
     "data": {
      "text/plain": [
       " United Kingdom    13\n",
       " Canada            11\n",
       " Germany           11\n",
       " France             9\n",
       " Spain              7\n",
       "                   ..\n",
       " Qatar              1\n",
       " Michigan           1\n",
       " Iowa               1\n",
       " Tanzania           1\n",
       " Croatia            1\n",
       "Name: Country, Length: 135, dtype: int64"
      ]
     },
     "execution_count": 233,
     "metadata": {},
     "output_type": "execute_result"
    }
   ],
   "source": [
    "df[\"Country\"].value_counts()"
   ]
  },
  {
   "cell_type": "markdown",
   "id": "7adf4c3c",
   "metadata": {},
   "source": [
    "### 5 Enriching my dataframe by Web Scrapping:"
   ]
  },
  {
   "cell_type": "code",
   "execution_count": 205,
   "id": "a0cbea70",
   "metadata": {},
   "outputs": [],
   "source": [
    "url = \"https://www.iqair.com/world-most-polluted-countries\"\n",
    "html = requests.get(url)\n",
    "soup = BeautifulSoup(html.content,\"html.parser\")"
   ]
  },
  {
   "cell_type": "code",
   "execution_count": 206,
   "id": "54861173",
   "metadata": {
    "scrolled": false
   },
   "outputs": [],
   "source": [
    "#soup"
   ]
  },
  {
   "cell_type": "code",
   "execution_count": 207,
   "id": "aa1e4c97",
   "metadata": {},
   "outputs": [],
   "source": [
    "paises = soup.find_all(\"div\", {\"class\": \"country-name\"})"
   ]
  },
  {
   "cell_type": "code",
   "execution_count": 208,
   "id": "b91daeca",
   "metadata": {},
   "outputs": [],
   "source": [
    "#paises"
   ]
  },
  {
   "cell_type": "code",
   "execution_count": 209,
   "id": "a78ddca3",
   "metadata": {},
   "outputs": [],
   "source": [
    "#paises[0].getText().strip()"
   ]
  },
  {
   "cell_type": "code",
   "execution_count": 210,
   "id": "9a6e5f43",
   "metadata": {},
   "outputs": [],
   "source": [
    "paises_clean = [pais.getText().strip() for pais in paises]"
   ]
  },
  {
   "cell_type": "code",
   "execution_count": 211,
   "id": "5d91b095",
   "metadata": {},
   "outputs": [
    {
     "data": {
      "text/plain": [
       "['Bangladesh',\n",
       " 'Pakistan',\n",
       " 'India',\n",
       " 'Mongolia',\n",
       " 'Afghanistan',\n",
       " 'Oman',\n",
       " 'Qatar',\n",
       " 'Kyrgyzstan',\n",
       " 'Indonesia',\n",
       " 'Bosnia Herzegovina',\n",
       " 'Bahrain',\n",
       " 'Nepal',\n",
       " 'Mali',\n",
       " 'China',\n",
       " 'Kuwait',\n",
       " 'Tajikistan',\n",
       " 'North Macedonia',\n",
       " 'Uzbekistan',\n",
       " 'Myanmar',\n",
       " 'United Arab Emirates',\n",
       " 'Vietnam',\n",
       " 'Bulgaria',\n",
       " 'Iran',\n",
       " 'Ghana',\n",
       " 'Montenegro',\n",
       " 'Uganda',\n",
       " 'Armenia',\n",
       " 'Serbia',\n",
       " 'Saudi Arabia',\n",
       " 'Laos',\n",
       " 'Sri Lanka',\n",
       " 'Ivory Coast',\n",
       " 'Kazakhstan',\n",
       " 'Thailand',\n",
       " 'Croatia',\n",
       " 'Cambodia',\n",
       " 'Georgia',\n",
       " 'Algeria',\n",
       " 'Madagascar',\n",
       " 'Kosovo',\n",
       " 'South Korea',\n",
       " 'Chile',\n",
       " 'Guatemala',\n",
       " 'Ukraine',\n",
       " 'Mexico',\n",
       " 'Turkey',\n",
       " 'Italy',\n",
       " 'Greece',\n",
       " 'South Africa',\n",
       " 'Peru',\n",
       " 'Macao SAR',\n",
       " 'Turkmenistan',\n",
       " 'Poland',\n",
       " 'Israel',\n",
       " 'Albania',\n",
       " 'Cyprus',\n",
       " 'Romania',\n",
       " 'Malaysia',\n",
       " 'Colombia',\n",
       " 'Hong Kong SAR',\n",
       " 'Slovakia',\n",
       " 'Taiwan',\n",
       " 'Jordan',\n",
       " 'Ethiopia',\n",
       " 'Hungary',\n",
       " 'Argentina',\n",
       " 'Kenya',\n",
       " 'Brazil',\n",
       " 'Angola',\n",
       " 'Philippines',\n",
       " 'Czech Republic',\n",
       " 'Malta',\n",
       " 'Singapore',\n",
       " 'Lithuania',\n",
       " 'Latvia',\n",
       " 'Senegal',\n",
       " 'France',\n",
       " 'Austria',\n",
       " 'Curacao',\n",
       " 'Spain',\n",
       " 'Germany',\n",
       " 'Japan',\n",
       " 'Netherlands',\n",
       " 'USA',\n",
       " 'Denmark',\n",
       " 'Russia',\n",
       " 'Portugal',\n",
       " 'Luxembourg',\n",
       " 'Switzerland',\n",
       " 'Belgium',\n",
       " 'Ireland',\n",
       " 'United Kingdom',\n",
       " 'Costa Rica',\n",
       " 'Ecuador',\n",
       " 'Australia',\n",
       " 'Andorra',\n",
       " 'Canada',\n",
       " 'Iceland',\n",
       " 'New Zealand',\n",
       " 'Estonia',\n",
       " 'Norway',\n",
       " 'Finland',\n",
       " 'Sweden',\n",
       " 'U.S. Virgin Islands',\n",
       " 'New Caledonia',\n",
       " 'Puerto Rico']"
      ]
     },
     "execution_count": 211,
     "metadata": {},
     "output_type": "execute_result"
    }
   ],
   "source": [
    "paises_clean"
   ]
  },
  {
   "cell_type": "code",
   "execution_count": 212,
   "id": "9c4c057a",
   "metadata": {},
   "outputs": [],
   "source": [
    "#type(paises_clean)"
   ]
  },
  {
   "cell_type": "code",
   "execution_count": 213,
   "id": "4f90259a",
   "metadata": {},
   "outputs": [],
   "source": [
    "aire = soup.find_all(\"span\")"
   ]
  },
  {
   "cell_type": "code",
   "execution_count": 214,
   "id": "aac9a9b4",
   "metadata": {},
   "outputs": [],
   "source": [
    "#aire"
   ]
  },
  {
   "cell_type": "code",
   "execution_count": 215,
   "id": "dd96bc91",
   "metadata": {},
   "outputs": [
    {
     "data": {
      "text/plain": [
       "' 77.10 '"
      ]
     },
     "execution_count": 215,
     "metadata": {},
     "output_type": "execute_result"
    }
   ],
   "source": [
    "aire[15].getText()"
   ]
  },
  {
   "cell_type": "code",
   "execution_count": 216,
   "id": "972eeb2a",
   "metadata": {},
   "outputs": [],
   "source": [
    "aire_clean = [elemento.getText().strip() for elemento in aire]"
   ]
  },
  {
   "cell_type": "code",
   "execution_count": 217,
   "id": "90c026d9",
   "metadata": {},
   "outputs": [],
   "source": [
    "#aire_clean"
   ]
  },
  {
   "cell_type": "code",
   "execution_count": 218,
   "id": "d9c84b51",
   "metadata": {},
   "outputs": [],
   "source": [
    "import numpy as np\n",
    "aire_clean\n",
    "I = [0,1,2,3,4,5,6,7,8,9,10,11,12,13,14,-1,-2]\n",
    "aire_clean2=np.delete(aire_clean, I).tolist()"
   ]
  },
  {
   "cell_type": "code",
   "execution_count": 219,
   "id": "e5efa32b",
   "metadata": {},
   "outputs": [],
   "source": [
    "#aire_clean2"
   ]
  },
  {
   "cell_type": "code",
   "execution_count": 220,
   "id": "9027b38c",
   "metadata": {},
   "outputs": [
    {
     "name": "stdout",
     "output_type": "stream",
     "text": [
      "['77.10', '59.00', '51.90', '46.60', '46.50', '44.40', '44.30', '43.50', '40.70', '40.60', '39.70', '39.20', '37.90', '34.70', '34.00', '30.90', '30.60', '29.90', '29.40', '29.20', '28.00', '27.50', '27.20', '26.90', '26.10', '26.10', '24.90', '24.30', '23.30', '22.40', '22.40', '21.90', '21.90', '21.40', '21.20', '21.10', '20.40', '20.20', '20.00', '20.00', '19.50', '19.30', '19.20', '19.20', '18.90', '18.70', '18.50', '18.40', '18.00', '17.90', '17.80', '17.00', '16.90', '16.90', '16.00', '15.80', '15.80', '15.60', '15.60', '15.40', '15.30', '15.00', '14.90', '14.70', '14.30', '14.20', '14.20', '14.20', '13.00', '12.80', '12.30', '11.80', '11.80', '11.70', '11.30', '11.20', '11.10', '10.90', '10.50', '10.40', '10.10', '9.80', '9.70', '9.60', '9.40', '9.30', '9.10', '9.00', '9.00', '8.90', '8.60', '8.30', '8.20', '7.60', '7.60', '7.40', '7.30', '7.20', '7.00', '5.90', '5.70', '5.00', '5.00', '3.70', '3.70', '3.70']\n"
     ]
    }
   ],
   "source": [
    "aire_clean3= []\n",
    "indexes=[0, 4, 8, 12, 16, 20, 24, 28, 32, 36, 40, 44, 48, 52, 56, 60, 64, 68, 72, 76, 80, 84, 88, 92, 96, 100, 104, 108, 112, 116, 120, 124, 128, 132, 136, 140, 144, 148, 152, 156, 160, 164, 168, 172, 176, 180, 184, 188, 192, 196, 200, 204, 208, 212, 216, 220, 224, 228, 232, 236, 240, 244, 248, 252, 256, 260, 264, 268, 272, 276, 280, 284, 288, 292, 296, 300, 304, 308, 312, 316, 320, 324, 328, 332, 336, 340, 344, 348, 352, 356, 360, 364, 368, 372, 376, 380, 384, 388, 392, 396, 400, 404, 408, 412, 416, 420]\n",
    "for i in indexes:\n",
    "    aire_clean3.append(aire_clean2[i])\n",
    "print(aire_clean3)"
   ]
  },
  {
   "cell_type": "code",
   "execution_count": 221,
   "id": "6c3becc9",
   "metadata": {},
   "outputs": [
    {
     "data": {
      "text/plain": [
       "106"
      ]
     },
     "execution_count": 221,
     "metadata": {},
     "output_type": "execute_result"
    }
   ],
   "source": [
    "len(aire_clean3)"
   ]
  },
  {
   "cell_type": "code",
   "execution_count": 222,
   "id": "b7e55fc6",
   "metadata": {},
   "outputs": [],
   "source": [
    "diccionario = {\"Country\": paises_clean, \"Air Quality\":aire_clean3}"
   ]
  },
  {
   "cell_type": "code",
   "execution_count": 223,
   "id": "b78650c7",
   "metadata": {},
   "outputs": [],
   "source": [
    "air_quality = pd.DataFrame(diccionario)"
   ]
  },
  {
   "cell_type": "code",
   "execution_count": 224,
   "id": "86c6f41f",
   "metadata": {},
   "outputs": [
    {
     "data": {
      "text/html": [
       "<div>\n",
       "<style scoped>\n",
       "    .dataframe tbody tr th:only-of-type {\n",
       "        vertical-align: middle;\n",
       "    }\n",
       "\n",
       "    .dataframe tbody tr th {\n",
       "        vertical-align: top;\n",
       "    }\n",
       "\n",
       "    .dataframe thead th {\n",
       "        text-align: right;\n",
       "    }\n",
       "</style>\n",
       "<table border=\"1\" class=\"dataframe\">\n",
       "  <thead>\n",
       "    <tr style=\"text-align: right;\">\n",
       "      <th></th>\n",
       "      <th>Country</th>\n",
       "      <th>Air Quality</th>\n",
       "    </tr>\n",
       "  </thead>\n",
       "  <tbody>\n",
       "    <tr>\n",
       "      <th>28</th>\n",
       "      <td>Saudi Arabia</td>\n",
       "      <td>23.30</td>\n",
       "    </tr>\n",
       "    <tr>\n",
       "      <th>82</th>\n",
       "      <td>Netherlands</td>\n",
       "      <td>9.70</td>\n",
       "    </tr>\n",
       "    <tr>\n",
       "      <th>27</th>\n",
       "      <td>Serbia</td>\n",
       "      <td>24.30</td>\n",
       "    </tr>\n",
       "    <tr>\n",
       "      <th>91</th>\n",
       "      <td>United Kingdom</td>\n",
       "      <td>8.30</td>\n",
       "    </tr>\n",
       "    <tr>\n",
       "      <th>11</th>\n",
       "      <td>Nepal</td>\n",
       "      <td>39.20</td>\n",
       "    </tr>\n",
       "    <tr>\n",
       "      <th>76</th>\n",
       "      <td>France</td>\n",
       "      <td>11.10</td>\n",
       "    </tr>\n",
       "    <tr>\n",
       "      <th>46</th>\n",
       "      <td>Italy</td>\n",
       "      <td>18.50</td>\n",
       "    </tr>\n",
       "    <tr>\n",
       "      <th>17</th>\n",
       "      <td>Uzbekistan</td>\n",
       "      <td>29.90</td>\n",
       "    </tr>\n",
       "    <tr>\n",
       "      <th>36</th>\n",
       "      <td>Georgia</td>\n",
       "      <td>20.40</td>\n",
       "    </tr>\n",
       "    <tr>\n",
       "      <th>103</th>\n",
       "      <td>U.S. Virgin Islands</td>\n",
       "      <td>3.70</td>\n",
       "    </tr>\n",
       "    <tr>\n",
       "      <th>43</th>\n",
       "      <td>Ukraine</td>\n",
       "      <td>19.20</td>\n",
       "    </tr>\n",
       "    <tr>\n",
       "      <th>75</th>\n",
       "      <td>Senegal</td>\n",
       "      <td>11.20</td>\n",
       "    </tr>\n",
       "    <tr>\n",
       "      <th>78</th>\n",
       "      <td>Curacao</td>\n",
       "      <td>10.50</td>\n",
       "    </tr>\n",
       "    <tr>\n",
       "      <th>65</th>\n",
       "      <td>Argentina</td>\n",
       "      <td>14.20</td>\n",
       "    </tr>\n",
       "    <tr>\n",
       "      <th>100</th>\n",
       "      <td>Norway</td>\n",
       "      <td>5.70</td>\n",
       "    </tr>\n",
       "    <tr>\n",
       "      <th>48</th>\n",
       "      <td>South Africa</td>\n",
       "      <td>18.00</td>\n",
       "    </tr>\n",
       "    <tr>\n",
       "      <th>77</th>\n",
       "      <td>Austria</td>\n",
       "      <td>10.90</td>\n",
       "    </tr>\n",
       "    <tr>\n",
       "      <th>72</th>\n",
       "      <td>Singapore</td>\n",
       "      <td>11.80</td>\n",
       "    </tr>\n",
       "    <tr>\n",
       "      <th>41</th>\n",
       "      <td>Chile</td>\n",
       "      <td>19.30</td>\n",
       "    </tr>\n",
       "    <tr>\n",
       "      <th>97</th>\n",
       "      <td>Iceland</td>\n",
       "      <td>7.20</td>\n",
       "    </tr>\n",
       "  </tbody>\n",
       "</table>\n",
       "</div>"
      ],
      "text/plain": [
       "                 Country Air Quality\n",
       "28          Saudi Arabia       23.30\n",
       "82           Netherlands        9.70\n",
       "27                Serbia       24.30\n",
       "91        United Kingdom        8.30\n",
       "11                 Nepal       39.20\n",
       "76                France       11.10\n",
       "46                 Italy       18.50\n",
       "17            Uzbekistan       29.90\n",
       "36               Georgia       20.40\n",
       "103  U.S. Virgin Islands        3.70\n",
       "43               Ukraine       19.20\n",
       "75               Senegal       11.20\n",
       "78               Curacao       10.50\n",
       "65             Argentina       14.20\n",
       "100               Norway        5.70\n",
       "48          South Africa       18.00\n",
       "77               Austria       10.90\n",
       "72             Singapore       11.80\n",
       "41                 Chile       19.30\n",
       "97               Iceland        7.20"
      ]
     },
     "execution_count": 224,
     "metadata": {},
     "output_type": "execute_result"
    }
   ],
   "source": [
    "air_quality.sample(20)"
   ]
  },
  {
   "cell_type": "code",
   "execution_count": 225,
   "id": "ee1a2e3f",
   "metadata": {},
   "outputs": [
    {
     "data": {
      "text/plain": [
       "(106, 2)"
      ]
     },
     "execution_count": 225,
     "metadata": {},
     "output_type": "execute_result"
    }
   ],
   "source": [
    "air_quality.shape"
   ]
  },
  {
   "cell_type": "markdown",
   "id": "62066274",
   "metadata": {},
   "source": [
    "### 6. Merging both dataframes (df & data):"
   ]
  },
  {
   "cell_type": "code",
   "execution_count": 239,
   "id": "4e393272",
   "metadata": {},
   "outputs": [],
   "source": [
    "merger1=pd.merge(df2,air_quality,left_on=\"Country\", right_on=\"Country\")"
   ]
  },
  {
   "cell_type": "code",
   "execution_count": 240,
   "id": "30b8bdfb",
   "metadata": {},
   "outputs": [],
   "source": [
    "#merger1"
   ]
  },
  {
   "cell_type": "code",
   "execution_count": 241,
   "id": "6d3a764f",
   "metadata": {},
   "outputs": [],
   "source": [
    "merger=df2.merge(air_quality, how=\"left\", left_on = \"Country\", right_on=\"Country\")"
   ]
  },
  {
   "cell_type": "code",
   "execution_count": 242,
   "id": "43bbbd20",
   "metadata": {},
   "outputs": [],
   "source": [
    "#merger"
   ]
  }
 ],
 "metadata": {
  "kernelspec": {
   "display_name": "ironhack",
   "language": "python",
   "name": "ironhack"
  },
  "language_info": {
   "codemirror_mode": {
    "name": "ipython",
    "version": 3
   },
   "file_extension": ".py",
   "mimetype": "text/x-python",
   "name": "python",
   "nbconvert_exporter": "python",
   "pygments_lexer": "ipython3",
   "version": "3.8.5"
  }
 },
 "nbformat": 4,
 "nbformat_minor": 5
}
