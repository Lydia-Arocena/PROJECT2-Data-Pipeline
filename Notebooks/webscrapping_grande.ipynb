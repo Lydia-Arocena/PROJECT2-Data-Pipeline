{
 "cells": [
  {
   "cell_type": "code",
   "execution_count": 25,
   "id": "ff6ce04f",
   "metadata": {},
   "outputs": [],
   "source": [
    "import requests\n",
    "from bs4 import BeautifulSoup\n",
    "import pandas as pd"
   ]
  },
  {
   "cell_type": "code",
   "execution_count": 26,
   "id": "1775834d",
   "metadata": {},
   "outputs": [],
   "source": [
    "df = pd.read_csv(\"../data/City_Quality_of_Life_Dataset.csv\")"
   ]
  },
  {
   "cell_type": "code",
   "execution_count": 27,
   "id": "f95b3ea8",
   "metadata": {},
   "outputs": [
    {
     "data": {
      "text/html": [
       "<div>\n",
       "<style scoped>\n",
       "    .dataframe tbody tr th:only-of-type {\n",
       "        vertical-align: middle;\n",
       "    }\n",
       "\n",
       "    .dataframe tbody tr th {\n",
       "        vertical-align: top;\n",
       "    }\n",
       "\n",
       "    .dataframe thead th {\n",
       "        text-align: right;\n",
       "    }\n",
       "</style>\n",
       "<table border=\"1\" class=\"dataframe\">\n",
       "  <thead>\n",
       "    <tr style=\"text-align: right;\">\n",
       "      <th></th>\n",
       "      <th>Unnamed: 0</th>\n",
       "      <th>UA_Name</th>\n",
       "      <th>UA_Country</th>\n",
       "      <th>UA_Continent</th>\n",
       "      <th>Housing</th>\n",
       "      <th>Cost of Living</th>\n",
       "      <th>Startups</th>\n",
       "      <th>Venture Capital</th>\n",
       "      <th>Travel Connectivity</th>\n",
       "      <th>Commute</th>\n",
       "      <th>...</th>\n",
       "      <th>Safety</th>\n",
       "      <th>Healthcare</th>\n",
       "      <th>Education</th>\n",
       "      <th>Environmental Quality</th>\n",
       "      <th>Economy</th>\n",
       "      <th>Taxation</th>\n",
       "      <th>Internet Access</th>\n",
       "      <th>Leisure &amp; Culture</th>\n",
       "      <th>Tolerance</th>\n",
       "      <th>Outdoors</th>\n",
       "    </tr>\n",
       "  </thead>\n",
       "  <tbody>\n",
       "    <tr>\n",
       "      <th>77</th>\n",
       "      <td>77</td>\n",
       "      <td>Detroit</td>\n",
       "      <td>Michigan</td>\n",
       "      <td>North America</td>\n",
       "      <td>6.223</td>\n",
       "      <td>6.032</td>\n",
       "      <td>5.4015</td>\n",
       "      <td>5.184</td>\n",
       "      <td>3.6405</td>\n",
       "      <td>0.933</td>\n",
       "      <td>...</td>\n",
       "      <td>4.4615</td>\n",
       "      <td>5.786333</td>\n",
       "      <td>5.8185</td>\n",
       "      <td>4.04675</td>\n",
       "      <td>6.5145</td>\n",
       "      <td>3.7785</td>\n",
       "      <td>6.167</td>\n",
       "      <td>7.478</td>\n",
       "      <td>3.678</td>\n",
       "      <td>5.3875</td>\n",
       "    </tr>\n",
       "  </tbody>\n",
       "</table>\n",
       "<p>1 rows × 21 columns</p>\n",
       "</div>"
      ],
      "text/plain": [
       "    Unnamed: 0  UA_Name UA_Country   UA_Continent  Housing  Cost of Living  \\\n",
       "77          77  Detroit   Michigan  North America    6.223           6.032   \n",
       "\n",
       "    Startups  Venture Capital  Travel Connectivity  Commute  ...  Safety  \\\n",
       "77    5.4015            5.184               3.6405    0.933  ...  4.4615   \n",
       "\n",
       "    Healthcare  Education  Environmental Quality  Economy  Taxation  \\\n",
       "77    5.786333     5.8185                4.04675   6.5145    3.7785   \n",
       "\n",
       "    Internet Access  Leisure & Culture  Tolerance  Outdoors  \n",
       "77            6.167              7.478      3.678    5.3875  \n",
       "\n",
       "[1 rows x 21 columns]"
      ]
     },
     "execution_count": 27,
     "metadata": {},
     "output_type": "execute_result"
    }
   ],
   "source": [
    "df.sample()"
   ]
  },
  {
   "cell_type": "code",
   "execution_count": 28,
   "id": "1b35326a",
   "metadata": {},
   "outputs": [
    {
     "data": {
      "text/plain": [
       "Index(['Unnamed: 0', 'UA_Name', 'UA_Country', 'UA_Continent', 'Housing',\n",
       "       'Cost of Living', 'Startups', 'Venture Capital', 'Travel Connectivity',\n",
       "       'Commute', 'Business Freedom', 'Safety', 'Healthcare', 'Education',\n",
       "       'Environmental Quality', 'Economy', 'Taxation', 'Internet Access',\n",
       "       'Leisure & Culture', 'Tolerance', 'Outdoors'],\n",
       "      dtype='object')"
      ]
     },
     "execution_count": 28,
     "metadata": {},
     "output_type": "execute_result"
    }
   ],
   "source": [
    "df.columns"
   ]
  },
  {
   "cell_type": "markdown",
   "id": "69574d08",
   "metadata": {},
   "source": [
    "### 1. Unuseful columns are deleted :"
   ]
  },
  {
   "cell_type": "code",
   "execution_count": 29,
   "id": "204965f7",
   "metadata": {},
   "outputs": [],
   "source": [
    "df.drop([\"Unnamed: 0\", \"Startups\", \"Venture Capital\", \"Travel Connectivity\", \"Business Freedom\", \"Tolerance\"], axis=1, inplace=True)"
   ]
  },
  {
   "cell_type": "code",
   "execution_count": 30,
   "id": "8fb8f942",
   "metadata": {},
   "outputs": [
    {
     "data": {
      "text/html": [
       "<div>\n",
       "<style scoped>\n",
       "    .dataframe tbody tr th:only-of-type {\n",
       "        vertical-align: middle;\n",
       "    }\n",
       "\n",
       "    .dataframe tbody tr th {\n",
       "        vertical-align: top;\n",
       "    }\n",
       "\n",
       "    .dataframe thead th {\n",
       "        text-align: right;\n",
       "    }\n",
       "</style>\n",
       "<table border=\"1\" class=\"dataframe\">\n",
       "  <thead>\n",
       "    <tr style=\"text-align: right;\">\n",
       "      <th></th>\n",
       "      <th>UA_Name</th>\n",
       "      <th>UA_Country</th>\n",
       "      <th>UA_Continent</th>\n",
       "      <th>Housing</th>\n",
       "      <th>Cost of Living</th>\n",
       "      <th>Commute</th>\n",
       "      <th>Safety</th>\n",
       "      <th>Healthcare</th>\n",
       "      <th>Education</th>\n",
       "      <th>Environmental Quality</th>\n",
       "      <th>Economy</th>\n",
       "      <th>Taxation</th>\n",
       "      <th>Internet Access</th>\n",
       "      <th>Leisure &amp; Culture</th>\n",
       "      <th>Outdoors</th>\n",
       "    </tr>\n",
       "  </thead>\n",
       "  <tbody>\n",
       "    <tr>\n",
       "      <th>14</th>\n",
       "      <td>Baku</td>\n",
       "      <td>Azerbaijan</td>\n",
       "      <td>Asia</td>\n",
       "      <td>9.745</td>\n",
       "      <td>9.806</td>\n",
       "      <td>5.492</td>\n",
       "      <td>8.772</td>\n",
       "      <td>3.702</td>\n",
       "      <td>0.0</td>\n",
       "      <td>2.62125</td>\n",
       "      <td>3.8765</td>\n",
       "      <td>5.861</td>\n",
       "      <td>1.442</td>\n",
       "      <td>6.2195</td>\n",
       "      <td>4.503</td>\n",
       "    </tr>\n",
       "  </tbody>\n",
       "</table>\n",
       "</div>"
      ],
      "text/plain": [
       "   UA_Name   UA_Country UA_Continent  Housing  Cost of Living  Commute  \\\n",
       "14    Baku   Azerbaijan         Asia    9.745           9.806    5.492   \n",
       "\n",
       "    Safety  Healthcare  Education  Environmental Quality  Economy  Taxation  \\\n",
       "14   8.772       3.702        0.0                2.62125   3.8765     5.861   \n",
       "\n",
       "    Internet Access  Leisure & Culture  Outdoors  \n",
       "14            1.442             6.2195     4.503  "
      ]
     },
     "execution_count": 30,
     "metadata": {},
     "output_type": "execute_result"
    }
   ],
   "source": [
    "df.sample()"
   ]
  },
  {
   "cell_type": "code",
   "execution_count": 31,
   "id": "da17a007",
   "metadata": {},
   "outputs": [
    {
     "data": {
      "text/plain": [
       "(266, 15)"
      ]
     },
     "execution_count": 31,
     "metadata": {},
     "output_type": "execute_result"
    }
   ],
   "source": [
    "df.shape"
   ]
  },
  {
   "cell_type": "markdown",
   "id": "07006ec9",
   "metadata": {},
   "source": [
    "### 2. Rename some columns:"
   ]
  },
  {
   "cell_type": "code",
   "execution_count": 32,
   "id": "71300ae7",
   "metadata": {},
   "outputs": [],
   "source": [
    "for_city = {'UA_Name': 'City'}"
   ]
  },
  {
   "cell_type": "code",
   "execution_count": 33,
   "id": "3a476d93",
   "metadata": {},
   "outputs": [],
   "source": [
    "df.rename(columns=for_city,inplace=True)"
   ]
  },
  {
   "cell_type": "code",
   "execution_count": 34,
   "id": "0aceb7ff",
   "metadata": {},
   "outputs": [],
   "source": [
    "for_country= {'UA_Country': 'Country'}"
   ]
  },
  {
   "cell_type": "code",
   "execution_count": 35,
   "id": "07a37a26",
   "metadata": {},
   "outputs": [],
   "source": [
    "df.rename(columns=for_country,inplace=True)"
   ]
  },
  {
   "cell_type": "code",
   "execution_count": 36,
   "id": "e2288756",
   "metadata": {},
   "outputs": [],
   "source": [
    "for_continent= {'UA_Continent': 'Continent'}"
   ]
  },
  {
   "cell_type": "code",
   "execution_count": 37,
   "id": "dedecb7e",
   "metadata": {},
   "outputs": [],
   "source": [
    "df.rename(columns=for_continent,inplace=True)"
   ]
  },
  {
   "cell_type": "code",
   "execution_count": 38,
   "id": "911b8fb2",
   "metadata": {},
   "outputs": [
    {
     "data": {
      "text/html": [
       "<div>\n",
       "<style scoped>\n",
       "    .dataframe tbody tr th:only-of-type {\n",
       "        vertical-align: middle;\n",
       "    }\n",
       "\n",
       "    .dataframe tbody tr th {\n",
       "        vertical-align: top;\n",
       "    }\n",
       "\n",
       "    .dataframe thead th {\n",
       "        text-align: right;\n",
       "    }\n",
       "</style>\n",
       "<table border=\"1\" class=\"dataframe\">\n",
       "  <thead>\n",
       "    <tr style=\"text-align: right;\">\n",
       "      <th></th>\n",
       "      <th>City</th>\n",
       "      <th>Country</th>\n",
       "      <th>Continent</th>\n",
       "      <th>Housing</th>\n",
       "      <th>Cost of Living</th>\n",
       "      <th>Commute</th>\n",
       "      <th>Safety</th>\n",
       "      <th>Healthcare</th>\n",
       "      <th>Education</th>\n",
       "      <th>Environmental Quality</th>\n",
       "      <th>Economy</th>\n",
       "      <th>Taxation</th>\n",
       "      <th>Internet Access</th>\n",
       "      <th>Leisure &amp; Culture</th>\n",
       "      <th>Outdoors</th>\n",
       "    </tr>\n",
       "  </thead>\n",
       "  <tbody>\n",
       "    <tr>\n",
       "      <th>227</th>\n",
       "      <td>Skopje</td>\n",
       "      <td>Macedonia</td>\n",
       "      <td>Europe</td>\n",
       "      <td>9.7405</td>\n",
       "      <td>9.11</td>\n",
       "      <td>5.7365</td>\n",
       "      <td>7.2795</td>\n",
       "      <td>6.628667</td>\n",
       "      <td>0.5</td>\n",
       "      <td>2.64925</td>\n",
       "      <td>4.1225</td>\n",
       "      <td>9.475</td>\n",
       "      <td>4.5205</td>\n",
       "      <td>6.208</td>\n",
       "      <td>3.302</td>\n",
       "    </tr>\n",
       "  </tbody>\n",
       "</table>\n",
       "</div>"
      ],
      "text/plain": [
       "       City     Country Continent  Housing  Cost of Living  Commute  Safety  \\\n",
       "227  Skopje   Macedonia    Europe   9.7405            9.11   5.7365  7.2795   \n",
       "\n",
       "     Healthcare  Education  Environmental Quality  Economy  Taxation  \\\n",
       "227    6.628667        0.5                2.64925   4.1225     9.475   \n",
       "\n",
       "     Internet Access  Leisure & Culture  Outdoors  \n",
       "227           4.5205              6.208     3.302  "
      ]
     },
     "execution_count": 38,
     "metadata": {},
     "output_type": "execute_result"
    }
   ],
   "source": [
    "df.sample()"
   ]
  },
  {
   "cell_type": "code",
   "execution_count": 39,
   "id": "e190bad3",
   "metadata": {},
   "outputs": [],
   "source": [
    "paises=list(df.Country.unique())"
   ]
  },
  {
   "cell_type": "code",
   "execution_count": 40,
   "id": "96856143",
   "metadata": {},
   "outputs": [
    {
     "data": {
      "text/plain": [
       "135"
      ]
     },
     "execution_count": 40,
     "metadata": {},
     "output_type": "execute_result"
    }
   ],
   "source": [
    "len(paises)"
   ]
  },
  {
   "cell_type": "markdown",
   "id": "42dec27e",
   "metadata": {},
   "source": [
    "### 3. Creating a new column \"Average Score\" which is the mean of all the columns."
   ]
  },
  {
   "cell_type": "code",
   "execution_count": 44,
   "id": "7b3d0b09",
   "metadata": {},
   "outputs": [
    {
     "name": "stderr",
     "output_type": "stream",
     "text": [
      "<ipython-input-44-083e61cc0b4b>:1: FutureWarning: Dropping of nuisance columns in DataFrame reductions (with 'numeric_only=None') is deprecated; in a future version this will raise TypeError.  Select only valid columns before calling the reduction.\n",
      "  df[\"Average Score\"]=df.mean(axis=1)\n"
     ]
    }
   ],
   "source": [
    "df[\"Average Score\"]=df.mean(axis=1)\n"
   ]
  },
  {
   "cell_type": "code",
   "execution_count": 73,
   "id": "31620034",
   "metadata": {},
   "outputs": [
    {
     "data": {
      "text/html": [
       "<div>\n",
       "<style scoped>\n",
       "    .dataframe tbody tr th:only-of-type {\n",
       "        vertical-align: middle;\n",
       "    }\n",
       "\n",
       "    .dataframe tbody tr th {\n",
       "        vertical-align: top;\n",
       "    }\n",
       "\n",
       "    .dataframe thead th {\n",
       "        text-align: right;\n",
       "    }\n",
       "</style>\n",
       "<table border=\"1\" class=\"dataframe\">\n",
       "  <thead>\n",
       "    <tr style=\"text-align: right;\">\n",
       "      <th></th>\n",
       "      <th>City</th>\n",
       "      <th>Country</th>\n",
       "      <th>Continent</th>\n",
       "      <th>Housing</th>\n",
       "      <th>Cost of Living</th>\n",
       "      <th>Commute</th>\n",
       "      <th>Safety</th>\n",
       "      <th>Healthcare</th>\n",
       "      <th>Education</th>\n",
       "      <th>Environmental Quality</th>\n",
       "      <th>Economy</th>\n",
       "      <th>Taxation</th>\n",
       "      <th>Internet Access</th>\n",
       "      <th>Leisure &amp; Culture</th>\n",
       "      <th>Outdoors</th>\n",
       "      <th>Average Score</th>\n",
       "    </tr>\n",
       "  </thead>\n",
       "  <tbody>\n",
       "    <tr>\n",
       "      <th>0</th>\n",
       "      <td>Aarhus</td>\n",
       "      <td>Denmark</td>\n",
       "      <td>Europe</td>\n",
       "      <td>6.1315</td>\n",
       "      <td>4.015</td>\n",
       "      <td>6.31175</td>\n",
       "      <td>9.6165</td>\n",
       "      <td>8.704333</td>\n",
       "      <td>5.3665</td>\n",
       "      <td>7.63300</td>\n",
       "      <td>4.8865</td>\n",
       "      <td>5.0680</td>\n",
       "      <td>8.373</td>\n",
       "      <td>3.1870</td>\n",
       "      <td>4.1300</td>\n",
       "      <td>6.118590</td>\n",
       "    </tr>\n",
       "    <tr>\n",
       "      <th>1</th>\n",
       "      <td>Adelaide</td>\n",
       "      <td>Australia</td>\n",
       "      <td>Oceania</td>\n",
       "      <td>6.3095</td>\n",
       "      <td>4.692</td>\n",
       "      <td>5.33625</td>\n",
       "      <td>7.9260</td>\n",
       "      <td>7.936667</td>\n",
       "      <td>5.1420</td>\n",
       "      <td>8.33075</td>\n",
       "      <td>6.0695</td>\n",
       "      <td>4.5885</td>\n",
       "      <td>4.341</td>\n",
       "      <td>4.3285</td>\n",
       "      <td>5.5310</td>\n",
       "      <td>5.877639</td>\n",
       "    </tr>\n",
       "    <tr>\n",
       "      <th>2</th>\n",
       "      <td>Albuquerque</td>\n",
       "      <td>New Mexico</td>\n",
       "      <td>North America</td>\n",
       "      <td>7.2620</td>\n",
       "      <td>6.059</td>\n",
       "      <td>5.05575</td>\n",
       "      <td>1.3435</td>\n",
       "      <td>6.430000</td>\n",
       "      <td>4.1520</td>\n",
       "      <td>7.31950</td>\n",
       "      <td>6.5145</td>\n",
       "      <td>4.3460</td>\n",
       "      <td>5.396</td>\n",
       "      <td>4.8900</td>\n",
       "      <td>3.5155</td>\n",
       "      <td>5.190313</td>\n",
       "    </tr>\n",
       "    <tr>\n",
       "      <th>3</th>\n",
       "      <td>Almaty</td>\n",
       "      <td>Kazakhstan</td>\n",
       "      <td>Asia</td>\n",
       "      <td>9.2820</td>\n",
       "      <td>9.333</td>\n",
       "      <td>5.87125</td>\n",
       "      <td>7.3090</td>\n",
       "      <td>4.545667</td>\n",
       "      <td>2.2830</td>\n",
       "      <td>3.85675</td>\n",
       "      <td>5.2690</td>\n",
       "      <td>8.5220</td>\n",
       "      <td>2.886</td>\n",
       "      <td>2.9370</td>\n",
       "      <td>5.5000</td>\n",
       "      <td>5.632889</td>\n",
       "    </tr>\n",
       "    <tr>\n",
       "      <th>4</th>\n",
       "      <td>Amsterdam</td>\n",
       "      <td>Netherlands</td>\n",
       "      <td>Europe</td>\n",
       "      <td>3.0530</td>\n",
       "      <td>3.824</td>\n",
       "      <td>6.11850</td>\n",
       "      <td>8.5035</td>\n",
       "      <td>7.907333</td>\n",
       "      <td>6.1800</td>\n",
       "      <td>7.59725</td>\n",
       "      <td>5.0530</td>\n",
       "      <td>4.9550</td>\n",
       "      <td>4.523</td>\n",
       "      <td>8.8740</td>\n",
       "      <td>5.3070</td>\n",
       "      <td>5.991299</td>\n",
       "    </tr>\n",
       "  </tbody>\n",
       "</table>\n",
       "</div>"
      ],
      "text/plain": [
       "          City       Country      Continent  Housing  Cost of Living  Commute  \\\n",
       "0       Aarhus       Denmark         Europe   6.1315           4.015  6.31175   \n",
       "1     Adelaide     Australia        Oceania   6.3095           4.692  5.33625   \n",
       "2  Albuquerque    New Mexico  North America   7.2620           6.059  5.05575   \n",
       "3       Almaty    Kazakhstan           Asia   9.2820           9.333  5.87125   \n",
       "4    Amsterdam   Netherlands         Europe   3.0530           3.824  6.11850   \n",
       "\n",
       "   Safety  Healthcare  Education  Environmental Quality  Economy  Taxation  \\\n",
       "0  9.6165    8.704333     5.3665                7.63300   4.8865    5.0680   \n",
       "1  7.9260    7.936667     5.1420                8.33075   6.0695    4.5885   \n",
       "2  1.3435    6.430000     4.1520                7.31950   6.5145    4.3460   \n",
       "3  7.3090    4.545667     2.2830                3.85675   5.2690    8.5220   \n",
       "4  8.5035    7.907333     6.1800                7.59725   5.0530    4.9550   \n",
       "\n",
       "   Internet Access  Leisure & Culture  Outdoors  Average Score  \n",
       "0            8.373             3.1870    4.1300       6.118590  \n",
       "1            4.341             4.3285    5.5310       5.877639  \n",
       "2            5.396             4.8900    3.5155       5.190313  \n",
       "3            2.886             2.9370    5.5000       5.632889  \n",
       "4            4.523             8.8740    5.3070       5.991299  "
      ]
     },
     "execution_count": 73,
     "metadata": {},
     "output_type": "execute_result"
    }
   ],
   "source": [
    "df.head()"
   ]
  },
  {
   "cell_type": "markdown",
   "id": "7adf4c3c",
   "metadata": {},
   "source": [
    "### 4. Enriching my dataframe by Web Scrapping:"
   ]
  },
  {
   "cell_type": "code",
   "execution_count": 49,
   "id": "a0cbea70",
   "metadata": {},
   "outputs": [],
   "source": [
    "url = \"https://www.iqair.com/world-most-polluted-countries\"\n",
    "html = requests.get(url)\n",
    "soup = BeautifulSoup(html.content,\"html.parser\")"
   ]
  },
  {
   "cell_type": "code",
   "execution_count": 50,
   "id": "54861173",
   "metadata": {
    "scrolled": false
   },
   "outputs": [],
   "source": [
    "#soup"
   ]
  },
  {
   "cell_type": "code",
   "execution_count": 51,
   "id": "aa1e4c97",
   "metadata": {},
   "outputs": [],
   "source": [
    "paises = soup.find_all(\"div\", {\"class\": \"country-name\"})"
   ]
  },
  {
   "cell_type": "code",
   "execution_count": 52,
   "id": "b91daeca",
   "metadata": {},
   "outputs": [],
   "source": [
    "#paises"
   ]
  },
  {
   "cell_type": "code",
   "execution_count": 53,
   "id": "a78ddca3",
   "metadata": {},
   "outputs": [],
   "source": [
    "#paises[0].getText().strip()"
   ]
  },
  {
   "cell_type": "code",
   "execution_count": 54,
   "id": "9a6e5f43",
   "metadata": {},
   "outputs": [],
   "source": [
    "paises_clean = [pais.getText().strip() for pais in paises]"
   ]
  },
  {
   "cell_type": "code",
   "execution_count": 65,
   "id": "5d91b095",
   "metadata": {},
   "outputs": [
    {
     "data": {
      "text/plain": [
       "['Bangladesh',\n",
       " 'Pakistan',\n",
       " 'India',\n",
       " 'Mongolia',\n",
       " 'Afghanistan',\n",
       " 'Oman',\n",
       " 'Qatar',\n",
       " 'Kyrgyzstan',\n",
       " 'Indonesia',\n",
       " 'Bosnia Herzegovina',\n",
       " 'Bahrain',\n",
       " 'Nepal',\n",
       " 'Mali',\n",
       " 'China',\n",
       " 'Kuwait',\n",
       " 'Tajikistan',\n",
       " 'North Macedonia',\n",
       " 'Uzbekistan',\n",
       " 'Myanmar',\n",
       " 'United Arab Emirates',\n",
       " 'Vietnam',\n",
       " 'Bulgaria',\n",
       " 'Iran',\n",
       " 'Ghana',\n",
       " 'Montenegro',\n",
       " 'Uganda',\n",
       " 'Armenia',\n",
       " 'Serbia',\n",
       " 'Saudi Arabia',\n",
       " 'Laos',\n",
       " 'Sri Lanka',\n",
       " 'Ivory Coast',\n",
       " 'Kazakhstan',\n",
       " 'Thailand',\n",
       " 'Croatia',\n",
       " 'Cambodia',\n",
       " 'Georgia',\n",
       " 'Algeria',\n",
       " 'Madagascar',\n",
       " 'Kosovo',\n",
       " 'South Korea',\n",
       " 'Chile',\n",
       " 'Guatemala',\n",
       " 'Ukraine',\n",
       " 'Mexico',\n",
       " 'Turkey',\n",
       " 'Italy',\n",
       " 'Greece',\n",
       " 'South Africa',\n",
       " 'Peru',\n",
       " 'Macao SAR',\n",
       " 'Turkmenistan',\n",
       " 'Poland',\n",
       " 'Israel',\n",
       " 'Albania',\n",
       " 'Cyprus',\n",
       " 'Romania',\n",
       " 'Malaysia',\n",
       " 'Colombia',\n",
       " 'Hong Kong SAR',\n",
       " 'Slovakia',\n",
       " 'Taiwan',\n",
       " 'Jordan',\n",
       " 'Ethiopia',\n",
       " 'Hungary',\n",
       " 'Argentina',\n",
       " 'Kenya',\n",
       " 'Brazil',\n",
       " 'Angola',\n",
       " 'Philippines',\n",
       " 'Czech Republic',\n",
       " 'Malta',\n",
       " 'Singapore',\n",
       " 'Lithuania',\n",
       " 'Latvia',\n",
       " 'Senegal',\n",
       " 'France',\n",
       " 'Austria',\n",
       " 'Curacao',\n",
       " 'Spain',\n",
       " 'Germany',\n",
       " 'Japan',\n",
       " 'Netherlands',\n",
       " 'USA',\n",
       " 'Denmark',\n",
       " 'Russia',\n",
       " 'Portugal',\n",
       " 'Luxembourg',\n",
       " 'Switzerland',\n",
       " 'Belgium',\n",
       " 'Ireland',\n",
       " 'United Kingdom',\n",
       " 'Costa Rica',\n",
       " 'Ecuador',\n",
       " 'Australia',\n",
       " 'Andorra',\n",
       " 'Canada',\n",
       " 'Iceland',\n",
       " 'New Zealand',\n",
       " 'Estonia',\n",
       " 'Norway',\n",
       " 'Finland',\n",
       " 'Sweden',\n",
       " 'U.S. Virgin Islands',\n",
       " 'New Caledonia',\n",
       " 'Puerto Rico']"
      ]
     },
     "execution_count": 65,
     "metadata": {},
     "output_type": "execute_result"
    }
   ],
   "source": [
    "paises_clean"
   ]
  },
  {
   "cell_type": "code",
   "execution_count": 56,
   "id": "9c4c057a",
   "metadata": {},
   "outputs": [],
   "source": [
    "#type(paises_clean)"
   ]
  },
  {
   "cell_type": "code",
   "execution_count": 57,
   "id": "4f90259a",
   "metadata": {},
   "outputs": [],
   "source": [
    "aire = soup.find_all(\"span\")"
   ]
  },
  {
   "cell_type": "code",
   "execution_count": 58,
   "id": "aac9a9b4",
   "metadata": {},
   "outputs": [],
   "source": [
    "#aire"
   ]
  },
  {
   "cell_type": "code",
   "execution_count": 59,
   "id": "dd96bc91",
   "metadata": {},
   "outputs": [
    {
     "data": {
      "text/plain": [
       "' 77.10 '"
      ]
     },
     "execution_count": 59,
     "metadata": {},
     "output_type": "execute_result"
    }
   ],
   "source": [
    "aire[15].getText()"
   ]
  },
  {
   "cell_type": "code",
   "execution_count": 60,
   "id": "972eeb2a",
   "metadata": {},
   "outputs": [],
   "source": [
    "aire_clean = [elemento.getText().strip() for elemento in aire]"
   ]
  },
  {
   "cell_type": "code",
   "execution_count": 61,
   "id": "90c026d9",
   "metadata": {},
   "outputs": [],
   "source": [
    "#aire_clean"
   ]
  },
  {
   "cell_type": "code",
   "execution_count": 62,
   "id": "d9c84b51",
   "metadata": {},
   "outputs": [],
   "source": [
    "import numpy as np\n",
    "aire_clean\n",
    "I = [0,1,2,3,4,5,6,7,8,9,10,11,12,13,14,-1,-2]\n",
    "aire_clean2=np.delete(aire_clean, I).tolist()"
   ]
  },
  {
   "cell_type": "code",
   "execution_count": 63,
   "id": "e5efa32b",
   "metadata": {},
   "outputs": [],
   "source": [
    "#aire_clean2"
   ]
  },
  {
   "cell_type": "code",
   "execution_count": 64,
   "id": "9027b38c",
   "metadata": {},
   "outputs": [
    {
     "name": "stdout",
     "output_type": "stream",
     "text": [
      "['77.10', '59.00', '51.90', '46.60', '46.50', '44.40', '44.30', '43.50', '40.70', '40.60', '39.70', '39.20', '37.90', '34.70', '34.00', '30.90', '30.60', '29.90', '29.40', '29.20', '28.00', '27.50', '27.20', '26.90', '26.10', '26.10', '24.90', '24.30', '23.30', '22.40', '22.40', '21.90', '21.90', '21.40', '21.20', '21.10', '20.40', '20.20', '20.00', '20.00', '19.50', '19.30', '19.20', '19.20', '18.90', '18.70', '18.50', '18.40', '18.00', '17.90', '17.80', '17.00', '16.90', '16.90', '16.00', '15.80', '15.80', '15.60', '15.60', '15.40', '15.30', '15.00', '14.90', '14.70', '14.30', '14.20', '14.20', '14.20', '13.00', '12.80', '12.30', '11.80', '11.80', '11.70', '11.30', '11.20', '11.10', '10.90', '10.50', '10.40', '10.10', '9.80', '9.70', '9.60', '9.40', '9.30', '9.10', '9.00', '9.00', '8.90', '8.60', '8.30', '8.20', '7.60', '7.60', '7.40', '7.30', '7.20', '7.00', '5.90', '5.70', '5.00', '5.00', '3.70', '3.70', '3.70']\n"
     ]
    }
   ],
   "source": [
    "aire_clean3= []\n",
    "indexes=[0, 4, 8, 12, 16, 20, 24, 28, 32, 36, 40, 44, 48, 52, 56, 60, 64, 68, 72, 76, 80, 84, 88, 92, 96, 100, 104, 108, 112, 116, 120, 124, 128, 132, 136, 140, 144, 148, 152, 156, 160, 164, 168, 172, 176, 180, 184, 188, 192, 196, 200, 204, 208, 212, 216, 220, 224, 228, 232, 236, 240, 244, 248, 252, 256, 260, 264, 268, 272, 276, 280, 284, 288, 292, 296, 300, 304, 308, 312, 316, 320, 324, 328, 332, 336, 340, 344, 348, 352, 356, 360, 364, 368, 372, 376, 380, 384, 388, 392, 396, 400, 404, 408, 412, 416, 420]\n",
    "for i in indexes:\n",
    "    aire_clean3.append(aire_clean2[i])\n",
    "print(aire_clean3)"
   ]
  },
  {
   "cell_type": "code",
   "execution_count": 66,
   "id": "6c3becc9",
   "metadata": {},
   "outputs": [
    {
     "data": {
      "text/plain": [
       "106"
      ]
     },
     "execution_count": 66,
     "metadata": {},
     "output_type": "execute_result"
    }
   ],
   "source": [
    "len(aire_clean3)"
   ]
  },
  {
   "cell_type": "code",
   "execution_count": 78,
   "id": "b7e55fc6",
   "metadata": {},
   "outputs": [],
   "source": [
    "diccionario = {\"país\": paises_clean, \"Air Quality\":aire_clean3}"
   ]
  },
  {
   "cell_type": "code",
   "execution_count": 79,
   "id": "b78650c7",
   "metadata": {},
   "outputs": [],
   "source": [
    "data = pd.DataFrame(diccionario)"
   ]
  },
  {
   "cell_type": "code",
   "execution_count": 80,
   "id": "86c6f41f",
   "metadata": {},
   "outputs": [
    {
     "data": {
      "text/html": [
       "<div>\n",
       "<style scoped>\n",
       "    .dataframe tbody tr th:only-of-type {\n",
       "        vertical-align: middle;\n",
       "    }\n",
       "\n",
       "    .dataframe tbody tr th {\n",
       "        vertical-align: top;\n",
       "    }\n",
       "\n",
       "    .dataframe thead th {\n",
       "        text-align: right;\n",
       "    }\n",
       "</style>\n",
       "<table border=\"1\" class=\"dataframe\">\n",
       "  <thead>\n",
       "    <tr style=\"text-align: right;\">\n",
       "      <th></th>\n",
       "      <th>país</th>\n",
       "      <th>Air Quality</th>\n",
       "    </tr>\n",
       "  </thead>\n",
       "  <tbody>\n",
       "    <tr>\n",
       "      <th>99</th>\n",
       "      <td>Estonia</td>\n",
       "      <td>5.90</td>\n",
       "    </tr>\n",
       "    <tr>\n",
       "      <th>30</th>\n",
       "      <td>Sri Lanka</td>\n",
       "      <td>22.40</td>\n",
       "    </tr>\n",
       "    <tr>\n",
       "      <th>23</th>\n",
       "      <td>Ghana</td>\n",
       "      <td>26.90</td>\n",
       "    </tr>\n",
       "    <tr>\n",
       "      <th>6</th>\n",
       "      <td>Qatar</td>\n",
       "      <td>44.30</td>\n",
       "    </tr>\n",
       "    <tr>\n",
       "      <th>26</th>\n",
       "      <td>Armenia</td>\n",
       "      <td>24.90</td>\n",
       "    </tr>\n",
       "    <tr>\n",
       "      <th>66</th>\n",
       "      <td>Kenya</td>\n",
       "      <td>14.20</td>\n",
       "    </tr>\n",
       "    <tr>\n",
       "      <th>57</th>\n",
       "      <td>Malaysia</td>\n",
       "      <td>15.60</td>\n",
       "    </tr>\n",
       "    <tr>\n",
       "      <th>76</th>\n",
       "      <td>France</td>\n",
       "      <td>11.10</td>\n",
       "    </tr>\n",
       "    <tr>\n",
       "      <th>63</th>\n",
       "      <td>Ethiopia</td>\n",
       "      <td>14.70</td>\n",
       "    </tr>\n",
       "    <tr>\n",
       "      <th>92</th>\n",
       "      <td>Costa Rica</td>\n",
       "      <td>8.20</td>\n",
       "    </tr>\n",
       "    <tr>\n",
       "      <th>0</th>\n",
       "      <td>Bangladesh</td>\n",
       "      <td>77.10</td>\n",
       "    </tr>\n",
       "    <tr>\n",
       "      <th>22</th>\n",
       "      <td>Iran</td>\n",
       "      <td>27.20</td>\n",
       "    </tr>\n",
       "    <tr>\n",
       "      <th>8</th>\n",
       "      <td>Indonesia</td>\n",
       "      <td>40.70</td>\n",
       "    </tr>\n",
       "    <tr>\n",
       "      <th>100</th>\n",
       "      <td>Norway</td>\n",
       "      <td>5.70</td>\n",
       "    </tr>\n",
       "    <tr>\n",
       "      <th>18</th>\n",
       "      <td>Myanmar</td>\n",
       "      <td>29.40</td>\n",
       "    </tr>\n",
       "    <tr>\n",
       "      <th>36</th>\n",
       "      <td>Georgia</td>\n",
       "      <td>20.40</td>\n",
       "    </tr>\n",
       "    <tr>\n",
       "      <th>42</th>\n",
       "      <td>Guatemala</td>\n",
       "      <td>19.20</td>\n",
       "    </tr>\n",
       "    <tr>\n",
       "      <th>86</th>\n",
       "      <td>Portugal</td>\n",
       "      <td>9.10</td>\n",
       "    </tr>\n",
       "    <tr>\n",
       "      <th>103</th>\n",
       "      <td>U.S. Virgin Islands</td>\n",
       "      <td>3.70</td>\n",
       "    </tr>\n",
       "    <tr>\n",
       "      <th>81</th>\n",
       "      <td>Japan</td>\n",
       "      <td>9.80</td>\n",
       "    </tr>\n",
       "  </tbody>\n",
       "</table>\n",
       "</div>"
      ],
      "text/plain": [
       "                    país Air Quality\n",
       "99               Estonia        5.90\n",
       "30             Sri Lanka       22.40\n",
       "23                 Ghana       26.90\n",
       "6                  Qatar       44.30\n",
       "26               Armenia       24.90\n",
       "66                 Kenya       14.20\n",
       "57              Malaysia       15.60\n",
       "76                France       11.10\n",
       "63              Ethiopia       14.70\n",
       "92            Costa Rica        8.20\n",
       "0             Bangladesh       77.10\n",
       "22                  Iran       27.20\n",
       "8              Indonesia       40.70\n",
       "100               Norway        5.70\n",
       "18               Myanmar       29.40\n",
       "36               Georgia       20.40\n",
       "42             Guatemala       19.20\n",
       "86              Portugal        9.10\n",
       "103  U.S. Virgin Islands        3.70\n",
       "81                 Japan        9.80"
      ]
     },
     "execution_count": 80,
     "metadata": {},
     "output_type": "execute_result"
    }
   ],
   "source": [
    "data.sample(20)"
   ]
  },
  {
   "cell_type": "code",
   "execution_count": 81,
   "id": "ee1a2e3f",
   "metadata": {},
   "outputs": [
    {
     "data": {
      "text/plain": [
       "(106, 2)"
      ]
     },
     "execution_count": 81,
     "metadata": {},
     "output_type": "execute_result"
    }
   ],
   "source": [
    "data.shape"
   ]
  },
  {
   "cell_type": "markdown",
   "id": "37df0dac",
   "metadata": {},
   "source": [
    "### 5. Merging both dataframes (df & data):"
   ]
  },
  {
   "cell_type": "code",
   "execution_count": 94,
   "id": "a76bad68",
   "metadata": {},
   "outputs": [
    {
     "data": {
      "text/html": [
       "<div>\n",
       "<style scoped>\n",
       "    .dataframe tbody tr th:only-of-type {\n",
       "        vertical-align: middle;\n",
       "    }\n",
       "\n",
       "    .dataframe tbody tr th {\n",
       "        vertical-align: top;\n",
       "    }\n",
       "\n",
       "    .dataframe thead th {\n",
       "        text-align: right;\n",
       "    }\n",
       "</style>\n",
       "<table border=\"1\" class=\"dataframe\">\n",
       "  <thead>\n",
       "    <tr style=\"text-align: right;\">\n",
       "      <th></th>\n",
       "      <th>City</th>\n",
       "      <th>Country</th>\n",
       "      <th>Continent</th>\n",
       "      <th>Housing</th>\n",
       "      <th>Cost of Living</th>\n",
       "      <th>Commute</th>\n",
       "      <th>Safety</th>\n",
       "      <th>Healthcare</th>\n",
       "      <th>Education</th>\n",
       "      <th>Environmental Quality</th>\n",
       "      <th>Economy</th>\n",
       "      <th>Taxation</th>\n",
       "      <th>Internet Access</th>\n",
       "      <th>Leisure &amp; Culture</th>\n",
       "      <th>Outdoors</th>\n",
       "      <th>Average Score</th>\n",
       "      <th>país</th>\n",
       "      <th>Air Quality</th>\n",
       "    </tr>\n",
       "  </thead>\n",
       "  <tbody>\n",
       "    <tr>\n",
       "      <th>0</th>\n",
       "      <td>Andorra</td>\n",
       "      <td>Andorra</td>\n",
       "      <td>Europe</td>\n",
       "      <td>3.969</td>\n",
       "      <td>0.0</td>\n",
       "      <td>0.0</td>\n",
       "      <td>9.5535</td>\n",
       "      <td>0.0</td>\n",
       "      <td>0.0</td>\n",
       "      <td>7.256</td>\n",
       "      <td>0.0</td>\n",
       "      <td>4.475</td>\n",
       "      <td>7.186</td>\n",
       "      <td>2.132</td>\n",
       "      <td>3.5885</td>\n",
       "      <td>3.18</td>\n",
       "      <td>Andorra</td>\n",
       "      <td>7.40</td>\n",
       "    </tr>\n",
       "  </tbody>\n",
       "</table>\n",
       "</div>"
      ],
      "text/plain": [
       "      City  Country Continent  Housing  Cost of Living  Commute  Safety  \\\n",
       "0  Andorra  Andorra    Europe    3.969             0.0      0.0  9.5535   \n",
       "\n",
       "   Healthcare  Education  Environmental Quality  Economy  Taxation  \\\n",
       "0         0.0        0.0                  7.256      0.0     4.475   \n",
       "\n",
       "   Internet Access  Leisure & Culture  Outdoors  Average Score     país  \\\n",
       "0            7.186              2.132    3.5885           3.18  Andorra   \n",
       "\n",
       "  Air Quality  \n",
       "0        7.40  "
      ]
     },
     "execution_count": 94,
     "metadata": {},
     "output_type": "execute_result"
    }
   ],
   "source": [
    "pd.merge(df,data,left_on=\"Country\", right_on=\"país\", suffixes=[\"_izq\", \"_dcha\"])"
   ]
  },
  {
   "cell_type": "code",
   "execution_count": 95,
   "id": "0116cd06",
   "metadata": {},
   "outputs": [
    {
     "data": {
      "text/html": [
       "<div>\n",
       "<style scoped>\n",
       "    .dataframe tbody tr th:only-of-type {\n",
       "        vertical-align: middle;\n",
       "    }\n",
       "\n",
       "    .dataframe tbody tr th {\n",
       "        vertical-align: top;\n",
       "    }\n",
       "\n",
       "    .dataframe thead th {\n",
       "        text-align: right;\n",
       "    }\n",
       "</style>\n",
       "<table border=\"1\" class=\"dataframe\">\n",
       "  <thead>\n",
       "    <tr style=\"text-align: right;\">\n",
       "      <th></th>\n",
       "      <th>City</th>\n",
       "      <th>Country</th>\n",
       "      <th>Continent</th>\n",
       "      <th>Housing</th>\n",
       "      <th>Cost of Living</th>\n",
       "      <th>Commute</th>\n",
       "      <th>Safety</th>\n",
       "      <th>Healthcare</th>\n",
       "      <th>Education</th>\n",
       "      <th>Environmental Quality</th>\n",
       "      <th>Economy</th>\n",
       "      <th>Taxation</th>\n",
       "      <th>Internet Access</th>\n",
       "      <th>Leisure &amp; Culture</th>\n",
       "      <th>Outdoors</th>\n",
       "      <th>Average Score</th>\n",
       "      <th>país</th>\n",
       "      <th>Air Quality</th>\n",
       "    </tr>\n",
       "  </thead>\n",
       "  <tbody>\n",
       "    <tr>\n",
       "      <th>0</th>\n",
       "      <td>Andorra</td>\n",
       "      <td>Andorra</td>\n",
       "      <td>Europe</td>\n",
       "      <td>3.969</td>\n",
       "      <td>0.0</td>\n",
       "      <td>0.0</td>\n",
       "      <td>9.5535</td>\n",
       "      <td>0.0</td>\n",
       "      <td>0.0</td>\n",
       "      <td>7.256</td>\n",
       "      <td>0.0</td>\n",
       "      <td>4.475</td>\n",
       "      <td>7.186</td>\n",
       "      <td>2.132</td>\n",
       "      <td>3.5885</td>\n",
       "      <td>3.18</td>\n",
       "      <td>Andorra</td>\n",
       "      <td>7.40</td>\n",
       "    </tr>\n",
       "  </tbody>\n",
       "</table>\n",
       "</div>"
      ],
      "text/plain": [
       "      City  Country Continent  Housing  Cost of Living  Commute  Safety  \\\n",
       "0  Andorra  Andorra    Europe    3.969             0.0      0.0  9.5535   \n",
       "\n",
       "   Healthcare  Education  Environmental Quality  Economy  Taxation  \\\n",
       "0         0.0        0.0                  7.256      0.0     4.475   \n",
       "\n",
       "   Internet Access  Leisure & Culture  Outdoors  Average Score     país  \\\n",
       "0            7.186              2.132    3.5885           3.18  Andorra   \n",
       "\n",
       "  Air Quality  \n",
       "0        7.40  "
      ]
     },
     "execution_count": 95,
     "metadata": {},
     "output_type": "execute_result"
    }
   ],
   "source": [
    "resultado.head()"
   ]
  },
  {
   "cell_type": "code",
   "execution_count": 96,
   "id": "1d247b2e",
   "metadata": {},
   "outputs": [
    {
     "data": {
      "text/plain": [
       "(1, 18)"
      ]
     },
     "execution_count": 96,
     "metadata": {},
     "output_type": "execute_result"
    }
   ],
   "source": [
    "enriched.shape"
   ]
  },
  {
   "cell_type": "code",
   "execution_count": null,
   "id": "2c4bd78e",
   "metadata": {},
   "outputs": [],
   "source": []
  },
  {
   "cell_type": "code",
   "execution_count": null,
   "id": "4b9a578f",
   "metadata": {},
   "outputs": [],
   "source": []
  }
 ],
 "metadata": {
  "kernelspec": {
   "display_name": "ironhack",
   "language": "python",
   "name": "ironhack"
  },
  "language_info": {
   "codemirror_mode": {
    "name": "ipython",
    "version": 3
   },
   "file_extension": ".py",
   "mimetype": "text/x-python",
   "name": "python",
   "nbconvert_exporter": "python",
   "pygments_lexer": "ipython3",
   "version": "3.8.5"
  }
 },
 "nbformat": 4,
 "nbformat_minor": 5
}
