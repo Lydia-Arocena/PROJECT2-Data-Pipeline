{
 "cells": [
  {
   "cell_type": "code",
   "execution_count": 1,
   "id": "04825d4a",
   "metadata": {},
   "outputs": [],
   "source": [
    "import requests\n",
    "from bs4 import BeautifulSoup\n",
    "import pandas as pd"
   ]
  },
  {
   "cell_type": "code",
   "execution_count": 10,
   "id": "34111499",
   "metadata": {},
   "outputs": [],
   "source": [
    "url=\"https://www.comparitech.com/tv-streaming/screen-time-statistics/\"\n",
    "html = requests.get(url)\n",
    "soup = BeautifulSoup(html.content,\"html.parser\")"
   ]
  },
  {
   "cell_type": "code",
   "execution_count": 11,
   "id": "fddc8bba",
   "metadata": {},
   "outputs": [],
   "source": [
    "tablas = soup.findAll(\"table\")"
   ]
  },
  {
   "cell_type": "code",
   "execution_count": 12,
   "id": "8a03e8d7",
   "metadata": {},
   "outputs": [
    {
     "data": {
      "text/plain": [
       "[]"
      ]
     },
     "execution_count": 12,
     "metadata": {},
     "output_type": "execute_result"
    }
   ],
   "source": [
    "tablas"
   ]
  },
  {
   "cell_type": "code",
   "execution_count": null,
   "id": "ae04e93f",
   "metadata": {},
   "outputs": [],
   "source": []
  }
 ],
 "metadata": {
  "kernelspec": {
   "display_name": "ironhack",
   "language": "python",
   "name": "ironhack"
  },
  "language_info": {
   "codemirror_mode": {
    "name": "ipython",
    "version": 3
   },
   "file_extension": ".py",
   "mimetype": "text/x-python",
   "name": "python",
   "nbconvert_exporter": "python",
   "pygments_lexer": "ipython3",
   "version": "3.8.5"
  }
 },
 "nbformat": 4,
 "nbformat_minor": 5
}
