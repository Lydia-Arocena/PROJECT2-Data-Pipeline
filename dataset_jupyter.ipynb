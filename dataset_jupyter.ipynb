{
 "cells": [
  {
   "cell_type": "code",
   "execution_count": 59,
   "id": "f05edd41",
   "metadata": {},
   "outputs": [],
   "source": [
    "import pandas as pd\n",
    "import requests \n",
    "import os\n",
    "from dotenv import load_dotenv"
   ]
  },
  {
   "cell_type": "code",
   "execution_count": 60,
   "id": "935da8a9",
   "metadata": {},
   "outputs": [
    {
     "name": "stdout",
     "output_type": "stream",
     "text": [
      "Requirement already satisfied: python-dotenv in /home/lydia/anaconda3/lib/python3.8/site-packages (0.19.1)\r\n"
     ]
    }
   ],
   "source": [
    "!pip3 install python-dotenv"
   ]
  },
  {
   "cell_type": "code",
   "execution_count": 61,
   "id": "fbb1cd9f",
   "metadata": {},
   "outputs": [],
   "source": [
    "df = pd.read_csv(\"data/City_Quality_of_Life_Dataset.csv\")"
   ]
  },
  {
   "cell_type": "code",
   "execution_count": 62,
   "id": "d7da6575",
   "metadata": {},
   "outputs": [
    {
     "data": {
      "text/html": [
       "<div>\n",
       "<style scoped>\n",
       "    .dataframe tbody tr th:only-of-type {\n",
       "        vertical-align: middle;\n",
       "    }\n",
       "\n",
       "    .dataframe tbody tr th {\n",
       "        vertical-align: top;\n",
       "    }\n",
       "\n",
       "    .dataframe thead th {\n",
       "        text-align: right;\n",
       "    }\n",
       "</style>\n",
       "<table border=\"1\" class=\"dataframe\">\n",
       "  <thead>\n",
       "    <tr style=\"text-align: right;\">\n",
       "      <th></th>\n",
       "      <th>Unnamed: 0</th>\n",
       "      <th>UA_Name</th>\n",
       "      <th>UA_Country</th>\n",
       "      <th>UA_Continent</th>\n",
       "      <th>Housing</th>\n",
       "      <th>Cost of Living</th>\n",
       "      <th>Startups</th>\n",
       "      <th>Venture Capital</th>\n",
       "      <th>Travel Connectivity</th>\n",
       "      <th>Commute</th>\n",
       "      <th>...</th>\n",
       "      <th>Safety</th>\n",
       "      <th>Healthcare</th>\n",
       "      <th>Education</th>\n",
       "      <th>Environmental Quality</th>\n",
       "      <th>Economy</th>\n",
       "      <th>Taxation</th>\n",
       "      <th>Internet Access</th>\n",
       "      <th>Leisure &amp; Culture</th>\n",
       "      <th>Tolerance</th>\n",
       "      <th>Outdoors</th>\n",
       "    </tr>\n",
       "  </thead>\n",
       "  <tbody>\n",
       "    <tr>\n",
       "      <th>0</th>\n",
       "      <td>0</td>\n",
       "      <td>Aarhus</td>\n",
       "      <td>Denmark</td>\n",
       "      <td>Europe</td>\n",
       "      <td>6.1315</td>\n",
       "      <td>4.015</td>\n",
       "      <td>2.8270</td>\n",
       "      <td>2.512</td>\n",
       "      <td>3.5360</td>\n",
       "      <td>6.31175</td>\n",
       "      <td>...</td>\n",
       "      <td>9.6165</td>\n",
       "      <td>8.704333</td>\n",
       "      <td>5.3665</td>\n",
       "      <td>7.63300</td>\n",
       "      <td>4.8865</td>\n",
       "      <td>5.0680</td>\n",
       "      <td>8.373</td>\n",
       "      <td>3.1870</td>\n",
       "      <td>9.7385</td>\n",
       "      <td>4.1300</td>\n",
       "    </tr>\n",
       "    <tr>\n",
       "      <th>1</th>\n",
       "      <td>1</td>\n",
       "      <td>Adelaide</td>\n",
       "      <td>Australia</td>\n",
       "      <td>Oceania</td>\n",
       "      <td>6.3095</td>\n",
       "      <td>4.692</td>\n",
       "      <td>3.1365</td>\n",
       "      <td>2.640</td>\n",
       "      <td>1.7765</td>\n",
       "      <td>5.33625</td>\n",
       "      <td>...</td>\n",
       "      <td>7.9260</td>\n",
       "      <td>7.936667</td>\n",
       "      <td>5.1420</td>\n",
       "      <td>8.33075</td>\n",
       "      <td>6.0695</td>\n",
       "      <td>4.5885</td>\n",
       "      <td>4.341</td>\n",
       "      <td>4.3285</td>\n",
       "      <td>7.8220</td>\n",
       "      <td>5.5310</td>\n",
       "    </tr>\n",
       "    <tr>\n",
       "      <th>2</th>\n",
       "      <td>2</td>\n",
       "      <td>Albuquerque</td>\n",
       "      <td>New Mexico</td>\n",
       "      <td>North America</td>\n",
       "      <td>7.2620</td>\n",
       "      <td>6.059</td>\n",
       "      <td>3.7720</td>\n",
       "      <td>1.493</td>\n",
       "      <td>1.4555</td>\n",
       "      <td>5.05575</td>\n",
       "      <td>...</td>\n",
       "      <td>1.3435</td>\n",
       "      <td>6.430000</td>\n",
       "      <td>4.1520</td>\n",
       "      <td>7.31950</td>\n",
       "      <td>6.5145</td>\n",
       "      <td>4.3460</td>\n",
       "      <td>5.396</td>\n",
       "      <td>4.8900</td>\n",
       "      <td>7.0285</td>\n",
       "      <td>3.5155</td>\n",
       "    </tr>\n",
       "    <tr>\n",
       "      <th>3</th>\n",
       "      <td>3</td>\n",
       "      <td>Almaty</td>\n",
       "      <td>Kazakhstan</td>\n",
       "      <td>Asia</td>\n",
       "      <td>9.2820</td>\n",
       "      <td>9.333</td>\n",
       "      <td>2.4585</td>\n",
       "      <td>0.000</td>\n",
       "      <td>4.5920</td>\n",
       "      <td>5.87125</td>\n",
       "      <td>...</td>\n",
       "      <td>7.3090</td>\n",
       "      <td>4.545667</td>\n",
       "      <td>2.2830</td>\n",
       "      <td>3.85675</td>\n",
       "      <td>5.2690</td>\n",
       "      <td>8.5220</td>\n",
       "      <td>2.886</td>\n",
       "      <td>2.9370</td>\n",
       "      <td>6.5395</td>\n",
       "      <td>5.5000</td>\n",
       "    </tr>\n",
       "    <tr>\n",
       "      <th>4</th>\n",
       "      <td>4</td>\n",
       "      <td>Amsterdam</td>\n",
       "      <td>Netherlands</td>\n",
       "      <td>Europe</td>\n",
       "      <td>3.0530</td>\n",
       "      <td>3.824</td>\n",
       "      <td>7.9715</td>\n",
       "      <td>6.107</td>\n",
       "      <td>8.3245</td>\n",
       "      <td>6.11850</td>\n",
       "      <td>...</td>\n",
       "      <td>8.5035</td>\n",
       "      <td>7.907333</td>\n",
       "      <td>6.1800</td>\n",
       "      <td>7.59725</td>\n",
       "      <td>5.0530</td>\n",
       "      <td>4.9550</td>\n",
       "      <td>4.523</td>\n",
       "      <td>8.8740</td>\n",
       "      <td>8.3680</td>\n",
       "      <td>5.3070</td>\n",
       "    </tr>\n",
       "  </tbody>\n",
       "</table>\n",
       "<p>5 rows × 21 columns</p>\n",
       "</div>"
      ],
      "text/plain": [
       "   Unnamed: 0      UA_Name    UA_Country   UA_Continent  Housing  \\\n",
       "0           0       Aarhus       Denmark         Europe   6.1315   \n",
       "1           1     Adelaide     Australia        Oceania   6.3095   \n",
       "2           2  Albuquerque    New Mexico  North America   7.2620   \n",
       "3           3       Almaty    Kazakhstan           Asia   9.2820   \n",
       "4           4    Amsterdam   Netherlands         Europe   3.0530   \n",
       "\n",
       "   Cost of Living  Startups  Venture Capital  Travel Connectivity  Commute  \\\n",
       "0           4.015    2.8270            2.512               3.5360  6.31175   \n",
       "1           4.692    3.1365            2.640               1.7765  5.33625   \n",
       "2           6.059    3.7720            1.493               1.4555  5.05575   \n",
       "3           9.333    2.4585            0.000               4.5920  5.87125   \n",
       "4           3.824    7.9715            6.107               8.3245  6.11850   \n",
       "\n",
       "   ...  Safety  Healthcare  Education  Environmental Quality  Economy  \\\n",
       "0  ...  9.6165    8.704333     5.3665                7.63300   4.8865   \n",
       "1  ...  7.9260    7.936667     5.1420                8.33075   6.0695   \n",
       "2  ...  1.3435    6.430000     4.1520                7.31950   6.5145   \n",
       "3  ...  7.3090    4.545667     2.2830                3.85675   5.2690   \n",
       "4  ...  8.5035    7.907333     6.1800                7.59725   5.0530   \n",
       "\n",
       "   Taxation  Internet Access  Leisure & Culture  Tolerance  Outdoors  \n",
       "0    5.0680            8.373             3.1870     9.7385    4.1300  \n",
       "1    4.5885            4.341             4.3285     7.8220    5.5310  \n",
       "2    4.3460            5.396             4.8900     7.0285    3.5155  \n",
       "3    8.5220            2.886             2.9370     6.5395    5.5000  \n",
       "4    4.9550            4.523             8.8740     8.3680    5.3070  \n",
       "\n",
       "[5 rows x 21 columns]"
      ]
     },
     "execution_count": 62,
     "metadata": {},
     "output_type": "execute_result"
    }
   ],
   "source": [
    "df.head()"
   ]
  },
  {
   "cell_type": "code",
   "execution_count": 69,
   "id": "22050371",
   "metadata": {},
   "outputs": [
    {
     "data": {
      "text/plain": [
       "Index(['Unnamed: 0', 'UA_Name', 'UA_Country', 'UA_Continent', 'Housing',\n",
       "       'Cost of Living', 'Startups', 'Venture Capital', 'Travel Connectivity',\n",
       "       'Commute', 'Business Freedom', 'Safety', 'Healthcare', 'Education',\n",
       "       'Environmental Quality', 'Economy', 'Taxation', 'Internet Access',\n",
       "       'Leisure & Culture', 'Tolerance', 'Outdoors'],\n",
       "      dtype='object')"
      ]
     },
     "execution_count": 69,
     "metadata": {},
     "output_type": "execute_result"
    }
   ],
   "source": [
    "df.columns"
   ]
  },
  {
   "cell_type": "markdown",
   "id": "658a3003",
   "metadata": {},
   "source": [
    "### Borro columnas que no me interesan de mi df:"
   ]
  },
  {
   "cell_type": "code",
   "execution_count": 72,
   "id": "854a7dc3",
   "metadata": {},
   "outputs": [],
   "source": [
    "df.drop([\"Unnamed: 0\", \"Startups\", \"Venture Capital\", \"Travel Connectivity\", \"Business Freedom\", \"Tolerance\"], axis=1, inplace=True)"
   ]
  },
  {
   "cell_type": "code",
   "execution_count": 77,
   "id": "3efcced4",
   "metadata": {},
   "outputs": [
    {
     "data": {
      "text/html": [
       "<div>\n",
       "<style scoped>\n",
       "    .dataframe tbody tr th:only-of-type {\n",
       "        vertical-align: middle;\n",
       "    }\n",
       "\n",
       "    .dataframe tbody tr th {\n",
       "        vertical-align: top;\n",
       "    }\n",
       "\n",
       "    .dataframe thead th {\n",
       "        text-align: right;\n",
       "    }\n",
       "</style>\n",
       "<table border=\"1\" class=\"dataframe\">\n",
       "  <thead>\n",
       "    <tr style=\"text-align: right;\">\n",
       "      <th></th>\n",
       "      <th>UA_Name</th>\n",
       "      <th>UA_Country</th>\n",
       "      <th>UA_Continent</th>\n",
       "      <th>Housing</th>\n",
       "      <th>Cost of Living</th>\n",
       "      <th>Commute</th>\n",
       "      <th>Safety</th>\n",
       "      <th>Healthcare</th>\n",
       "      <th>Education</th>\n",
       "      <th>Environmental Quality</th>\n",
       "      <th>Economy</th>\n",
       "      <th>Taxation</th>\n",
       "      <th>Internet Access</th>\n",
       "      <th>Leisure &amp; Culture</th>\n",
       "      <th>Outdoors</th>\n",
       "    </tr>\n",
       "  </thead>\n",
       "  <tbody>\n",
       "    <tr>\n",
       "      <th>248</th>\n",
       "      <td>Turin</td>\n",
       "      <td>Italy</td>\n",
       "      <td>Europe</td>\n",
       "      <td>8.0695</td>\n",
       "      <td>5.612</td>\n",
       "      <td>5.60925</td>\n",
       "      <td>6.2520</td>\n",
       "      <td>8.367667</td>\n",
       "      <td>4.1015</td>\n",
       "      <td>3.88550</td>\n",
       "      <td>3.3625</td>\n",
       "      <td>2.4365</td>\n",
       "      <td>2.3690</td>\n",
       "      <td>7.0610</td>\n",
       "      <td>5.7050</td>\n",
       "    </tr>\n",
       "    <tr>\n",
       "      <th>17</th>\n",
       "      <td>Bangkok</td>\n",
       "      <td>Thailand</td>\n",
       "      <td>Asia</td>\n",
       "      <td>7.3935</td>\n",
       "      <td>7.222</td>\n",
       "      <td>4.29350</td>\n",
       "      <td>7.0365</td>\n",
       "      <td>7.126667</td>\n",
       "      <td>1.6915</td>\n",
       "      <td>3.37125</td>\n",
       "      <td>2.3870</td>\n",
       "      <td>6.7945</td>\n",
       "      <td>4.8265</td>\n",
       "      <td>9.0890</td>\n",
       "      <td>6.4940</td>\n",
       "    </tr>\n",
       "    <tr>\n",
       "      <th>128</th>\n",
       "      <td>Las Palmas de Gran Canaria</td>\n",
       "      <td>Spain</td>\n",
       "      <td>Europe</td>\n",
       "      <td>8.2320</td>\n",
       "      <td>7.717</td>\n",
       "      <td>0.00000</td>\n",
       "      <td>9.1545</td>\n",
       "      <td>9.214333</td>\n",
       "      <td>3.7590</td>\n",
       "      <td>6.86050</td>\n",
       "      <td>4.2960</td>\n",
       "      <td>3.8940</td>\n",
       "      <td>6.1955</td>\n",
       "      <td>2.8145</td>\n",
       "      <td>5.5375</td>\n",
       "    </tr>\n",
       "    <tr>\n",
       "      <th>231</th>\n",
       "      <td>Stuttgart</td>\n",
       "      <td>Germany</td>\n",
       "      <td>Europe</td>\n",
       "      <td>6.3140</td>\n",
       "      <td>5.673</td>\n",
       "      <td>6.20550</td>\n",
       "      <td>8.2695</td>\n",
       "      <td>7.851333</td>\n",
       "      <td>5.0505</td>\n",
       "      <td>7.22500</td>\n",
       "      <td>5.3735</td>\n",
       "      <td>3.9035</td>\n",
       "      <td>5.1240</td>\n",
       "      <td>5.5560</td>\n",
       "      <td>3.9495</td>\n",
       "    </tr>\n",
       "    <tr>\n",
       "      <th>127</th>\n",
       "      <td>La Paz</td>\n",
       "      <td>Bolivia</td>\n",
       "      <td>South America</td>\n",
       "      <td>4.7240</td>\n",
       "      <td>0.000</td>\n",
       "      <td>3.83425</td>\n",
       "      <td>6.7505</td>\n",
       "      <td>4.316000</td>\n",
       "      <td>0.0000</td>\n",
       "      <td>1.73375</td>\n",
       "      <td>4.5360</td>\n",
       "      <td>4.5490</td>\n",
       "      <td>1.5480</td>\n",
       "      <td>1.5250</td>\n",
       "      <td>5.5000</td>\n",
       "    </tr>\n",
       "    <tr>\n",
       "      <th>73</th>\n",
       "      <td>Dar es Salaam</td>\n",
       "      <td>Tanzania</td>\n",
       "      <td>Africa</td>\n",
       "      <td>7.6520</td>\n",
       "      <td>8.026</td>\n",
       "      <td>2.07575</td>\n",
       "      <td>6.1005</td>\n",
       "      <td>3.238667</td>\n",
       "      <td>0.0000</td>\n",
       "      <td>2.08025</td>\n",
       "      <td>5.5000</td>\n",
       "      <td>4.4970</td>\n",
       "      <td>1.1100</td>\n",
       "      <td>1.2050</td>\n",
       "      <td>4.3535</td>\n",
       "    </tr>\n",
       "    <tr>\n",
       "      <th>245</th>\n",
       "      <td>Toronto</td>\n",
       "      <td>Canada</td>\n",
       "      <td>North America</td>\n",
       "      <td>4.6600</td>\n",
       "      <td>5.271</td>\n",
       "      <td>4.68300</td>\n",
       "      <td>7.6935</td>\n",
       "      <td>8.063667</td>\n",
       "      <td>7.6025</td>\n",
       "      <td>7.17750</td>\n",
       "      <td>5.8405</td>\n",
       "      <td>7.2745</td>\n",
       "      <td>4.3830</td>\n",
       "      <td>7.8260</td>\n",
       "      <td>5.5940</td>\n",
       "    </tr>\n",
       "    <tr>\n",
       "      <th>132</th>\n",
       "      <td>Leipzig</td>\n",
       "      <td>Germany</td>\n",
       "      <td>Europe</td>\n",
       "      <td>8.1770</td>\n",
       "      <td>5.911</td>\n",
       "      <td>6.01375</td>\n",
       "      <td>7.2770</td>\n",
       "      <td>7.300333</td>\n",
       "      <td>4.3065</td>\n",
       "      <td>9.03275</td>\n",
       "      <td>5.3735</td>\n",
       "      <td>3.9035</td>\n",
       "      <td>5.6465</td>\n",
       "      <td>4.5265</td>\n",
       "      <td>4.7470</td>\n",
       "    </tr>\n",
       "    <tr>\n",
       "      <th>112</th>\n",
       "      <td>Innsbruck</td>\n",
       "      <td>Austria</td>\n",
       "      <td>Europe</td>\n",
       "      <td>6.7080</td>\n",
       "      <td>4.732</td>\n",
       "      <td>6.37400</td>\n",
       "      <td>8.2730</td>\n",
       "      <td>7.884667</td>\n",
       "      <td>4.3300</td>\n",
       "      <td>7.36600</td>\n",
       "      <td>4.6630</td>\n",
       "      <td>2.6660</td>\n",
       "      <td>5.0595</td>\n",
       "      <td>4.4245</td>\n",
       "      <td>3.9635</td>\n",
       "    </tr>\n",
       "    <tr>\n",
       "      <th>166</th>\n",
       "      <td>Nairobi</td>\n",
       "      <td>Kenya</td>\n",
       "      <td>Africa</td>\n",
       "      <td>8.8505</td>\n",
       "      <td>8.432</td>\n",
       "      <td>4.06900</td>\n",
       "      <td>5.9720</td>\n",
       "      <td>3.598333</td>\n",
       "      <td>0.5000</td>\n",
       "      <td>3.19875</td>\n",
       "      <td>4.3770</td>\n",
       "      <td>5.0840</td>\n",
       "      <td>1.8890</td>\n",
       "      <td>2.6700</td>\n",
       "      <td>4.0495</td>\n",
       "    </tr>\n",
       "  </tbody>\n",
       "</table>\n",
       "</div>"
      ],
      "text/plain": [
       "                        UA_Name UA_Country   UA_Continent  Housing  \\\n",
       "248                       Turin      Italy         Europe   8.0695   \n",
       "17                      Bangkok   Thailand           Asia   7.3935   \n",
       "128  Las Palmas de Gran Canaria      Spain         Europe   8.2320   \n",
       "231                   Stuttgart    Germany         Europe   6.3140   \n",
       "127                      La Paz    Bolivia  South America   4.7240   \n",
       "73                Dar es Salaam   Tanzania         Africa   7.6520   \n",
       "245                     Toronto     Canada  North America   4.6600   \n",
       "132                     Leipzig    Germany         Europe   8.1770   \n",
       "112                   Innsbruck    Austria         Europe   6.7080   \n",
       "166                     Nairobi      Kenya         Africa   8.8505   \n",
       "\n",
       "     Cost of Living  Commute  Safety  Healthcare  Education  \\\n",
       "248           5.612  5.60925  6.2520    8.367667     4.1015   \n",
       "17            7.222  4.29350  7.0365    7.126667     1.6915   \n",
       "128           7.717  0.00000  9.1545    9.214333     3.7590   \n",
       "231           5.673  6.20550  8.2695    7.851333     5.0505   \n",
       "127           0.000  3.83425  6.7505    4.316000     0.0000   \n",
       "73            8.026  2.07575  6.1005    3.238667     0.0000   \n",
       "245           5.271  4.68300  7.6935    8.063667     7.6025   \n",
       "132           5.911  6.01375  7.2770    7.300333     4.3065   \n",
       "112           4.732  6.37400  8.2730    7.884667     4.3300   \n",
       "166           8.432  4.06900  5.9720    3.598333     0.5000   \n",
       "\n",
       "     Environmental Quality  Economy  Taxation  Internet Access  \\\n",
       "248                3.88550   3.3625    2.4365           2.3690   \n",
       "17                 3.37125   2.3870    6.7945           4.8265   \n",
       "128                6.86050   4.2960    3.8940           6.1955   \n",
       "231                7.22500   5.3735    3.9035           5.1240   \n",
       "127                1.73375   4.5360    4.5490           1.5480   \n",
       "73                 2.08025   5.5000    4.4970           1.1100   \n",
       "245                7.17750   5.8405    7.2745           4.3830   \n",
       "132                9.03275   5.3735    3.9035           5.6465   \n",
       "112                7.36600   4.6630    2.6660           5.0595   \n",
       "166                3.19875   4.3770    5.0840           1.8890   \n",
       "\n",
       "     Leisure & Culture  Outdoors  \n",
       "248             7.0610    5.7050  \n",
       "17              9.0890    6.4940  \n",
       "128             2.8145    5.5375  \n",
       "231             5.5560    3.9495  \n",
       "127             1.5250    5.5000  \n",
       "73              1.2050    4.3535  \n",
       "245             7.8260    5.5940  \n",
       "132             4.5265    4.7470  \n",
       "112             4.4245    3.9635  \n",
       "166             2.6700    4.0495  "
      ]
     },
     "execution_count": 77,
     "metadata": {},
     "output_type": "execute_result"
    }
   ],
   "source": [
    "df.sample(10)"
   ]
  },
  {
   "cell_type": "code",
   "execution_count": 75,
   "id": "cfa4e065",
   "metadata": {},
   "outputs": [
    {
     "data": {
      "text/plain": [
       "(266, 15)"
      ]
     },
     "execution_count": 75,
     "metadata": {},
     "output_type": "execute_result"
    }
   ],
   "source": [
    "df.shape"
   ]
  },
  {
   "cell_type": "markdown",
   "id": "0689676c",
   "metadata": {},
   "source": [
    "### Cambio nombres de las columnas."
   ]
  },
  {
   "cell_type": "code",
   "execution_count": 127,
   "id": "6a161c53",
   "metadata": {},
   "outputs": [],
   "source": [
    "for_city = {'UA_Name': 'City'}"
   ]
  },
  {
   "cell_type": "code",
   "execution_count": 128,
   "id": "c12045bd",
   "metadata": {},
   "outputs": [],
   "source": [
    "df.rename(columns=for_city,inplace=True)"
   ]
  },
  {
   "cell_type": "code",
   "execution_count": 129,
   "id": "2f1cc3e9",
   "metadata": {},
   "outputs": [],
   "source": [
    "for_country= {'UA_Country': 'Country'}"
   ]
  },
  {
   "cell_type": "code",
   "execution_count": 130,
   "id": "0c8dc9d3",
   "metadata": {},
   "outputs": [],
   "source": [
    "df.rename(columns=for_country,inplace=True)"
   ]
  },
  {
   "cell_type": "code",
   "execution_count": 131,
   "id": "1e5358c5",
   "metadata": {},
   "outputs": [],
   "source": [
    "for_continent= {'UA_Continent': 'Continent'}"
   ]
  },
  {
   "cell_type": "code",
   "execution_count": 132,
   "id": "ee3f5d51",
   "metadata": {},
   "outputs": [],
   "source": [
    "df.rename(columns=for_continent,inplace=True)"
   ]
  },
  {
   "cell_type": "code",
   "execution_count": 133,
   "id": "dfeb56a5",
   "metadata": {
    "scrolled": true
   },
   "outputs": [
    {
     "data": {
      "text/html": [
       "<div>\n",
       "<style scoped>\n",
       "    .dataframe tbody tr th:only-of-type {\n",
       "        vertical-align: middle;\n",
       "    }\n",
       "\n",
       "    .dataframe tbody tr th {\n",
       "        vertical-align: top;\n",
       "    }\n",
       "\n",
       "    .dataframe thead th {\n",
       "        text-align: right;\n",
       "    }\n",
       "</style>\n",
       "<table border=\"1\" class=\"dataframe\">\n",
       "  <thead>\n",
       "    <tr style=\"text-align: right;\">\n",
       "      <th></th>\n",
       "      <th>City</th>\n",
       "      <th>Country</th>\n",
       "      <th>Continent</th>\n",
       "      <th>Housing</th>\n",
       "      <th>Cost of Living</th>\n",
       "      <th>Commute</th>\n",
       "      <th>Safety</th>\n",
       "      <th>Healthcare</th>\n",
       "      <th>Education</th>\n",
       "      <th>Environmental Quality</th>\n",
       "      <th>Economy</th>\n",
       "      <th>Taxation</th>\n",
       "      <th>Internet Access</th>\n",
       "      <th>Leisure &amp; Culture</th>\n",
       "      <th>Outdoors</th>\n",
       "    </tr>\n",
       "  </thead>\n",
       "  <tbody>\n",
       "    <tr>\n",
       "      <th>0</th>\n",
       "      <td>Aarhus</td>\n",
       "      <td>Denmark</td>\n",
       "      <td>Europe</td>\n",
       "      <td>6.1315</td>\n",
       "      <td>4.015</td>\n",
       "      <td>6.31175</td>\n",
       "      <td>9.6165</td>\n",
       "      <td>8.704333</td>\n",
       "      <td>5.3665</td>\n",
       "      <td>7.63300</td>\n",
       "      <td>4.8865</td>\n",
       "      <td>5.0680</td>\n",
       "      <td>8.373</td>\n",
       "      <td>3.1870</td>\n",
       "      <td>4.1300</td>\n",
       "    </tr>\n",
       "    <tr>\n",
       "      <th>1</th>\n",
       "      <td>Adelaide</td>\n",
       "      <td>Australia</td>\n",
       "      <td>Oceania</td>\n",
       "      <td>6.3095</td>\n",
       "      <td>4.692</td>\n",
       "      <td>5.33625</td>\n",
       "      <td>7.9260</td>\n",
       "      <td>7.936667</td>\n",
       "      <td>5.1420</td>\n",
       "      <td>8.33075</td>\n",
       "      <td>6.0695</td>\n",
       "      <td>4.5885</td>\n",
       "      <td>4.341</td>\n",
       "      <td>4.3285</td>\n",
       "      <td>5.5310</td>\n",
       "    </tr>\n",
       "    <tr>\n",
       "      <th>2</th>\n",
       "      <td>Albuquerque</td>\n",
       "      <td>New Mexico</td>\n",
       "      <td>North America</td>\n",
       "      <td>7.2620</td>\n",
       "      <td>6.059</td>\n",
       "      <td>5.05575</td>\n",
       "      <td>1.3435</td>\n",
       "      <td>6.430000</td>\n",
       "      <td>4.1520</td>\n",
       "      <td>7.31950</td>\n",
       "      <td>6.5145</td>\n",
       "      <td>4.3460</td>\n",
       "      <td>5.396</td>\n",
       "      <td>4.8900</td>\n",
       "      <td>3.5155</td>\n",
       "    </tr>\n",
       "    <tr>\n",
       "      <th>3</th>\n",
       "      <td>Almaty</td>\n",
       "      <td>Kazakhstan</td>\n",
       "      <td>Asia</td>\n",
       "      <td>9.2820</td>\n",
       "      <td>9.333</td>\n",
       "      <td>5.87125</td>\n",
       "      <td>7.3090</td>\n",
       "      <td>4.545667</td>\n",
       "      <td>2.2830</td>\n",
       "      <td>3.85675</td>\n",
       "      <td>5.2690</td>\n",
       "      <td>8.5220</td>\n",
       "      <td>2.886</td>\n",
       "      <td>2.9370</td>\n",
       "      <td>5.5000</td>\n",
       "    </tr>\n",
       "    <tr>\n",
       "      <th>4</th>\n",
       "      <td>Amsterdam</td>\n",
       "      <td>Netherlands</td>\n",
       "      <td>Europe</td>\n",
       "      <td>3.0530</td>\n",
       "      <td>3.824</td>\n",
       "      <td>6.11850</td>\n",
       "      <td>8.5035</td>\n",
       "      <td>7.907333</td>\n",
       "      <td>6.1800</td>\n",
       "      <td>7.59725</td>\n",
       "      <td>5.0530</td>\n",
       "      <td>4.9550</td>\n",
       "      <td>4.523</td>\n",
       "      <td>8.8740</td>\n",
       "      <td>5.3070</td>\n",
       "    </tr>\n",
       "  </tbody>\n",
       "</table>\n",
       "</div>"
      ],
      "text/plain": [
       "          City       Country      Continent  Housing  Cost of Living  Commute  \\\n",
       "0       Aarhus       Denmark         Europe   6.1315           4.015  6.31175   \n",
       "1     Adelaide     Australia        Oceania   6.3095           4.692  5.33625   \n",
       "2  Albuquerque    New Mexico  North America   7.2620           6.059  5.05575   \n",
       "3       Almaty    Kazakhstan           Asia   9.2820           9.333  5.87125   \n",
       "4    Amsterdam   Netherlands         Europe   3.0530           3.824  6.11850   \n",
       "\n",
       "   Safety  Healthcare  Education  Environmental Quality  Economy  Taxation  \\\n",
       "0  9.6165    8.704333     5.3665                7.63300   4.8865    5.0680   \n",
       "1  7.9260    7.936667     5.1420                8.33075   6.0695    4.5885   \n",
       "2  1.3435    6.430000     4.1520                7.31950   6.5145    4.3460   \n",
       "3  7.3090    4.545667     2.2830                3.85675   5.2690    8.5220   \n",
       "4  8.5035    7.907333     6.1800                7.59725   5.0530    4.9550   \n",
       "\n",
       "   Internet Access  Leisure & Culture  Outdoors  \n",
       "0            8.373             3.1870    4.1300  \n",
       "1            4.341             4.3285    5.5310  \n",
       "2            5.396             4.8900    3.5155  \n",
       "3            2.886             2.9370    5.5000  \n",
       "4            4.523             8.8740    5.3070  "
      ]
     },
     "execution_count": 133,
     "metadata": {},
     "output_type": "execute_result"
    }
   ],
   "source": [
    "df.head()"
   ]
  },
  {
   "cell_type": "code",
   "execution_count": 137,
   "id": "382645bd",
   "metadata": {},
   "outputs": [],
   "source": [
    "ciudades=list(df.City.unique())"
   ]
  },
  {
   "cell_type": "code",
   "execution_count": 254,
   "id": "2475f811",
   "metadata": {},
   "outputs": [
    {
     "data": {
      "text/plain": [
       "264"
      ]
     },
     "execution_count": 254,
     "metadata": {},
     "output_type": "execute_result"
    }
   ],
   "source": [
    "len(ciudades)"
   ]
  },
  {
   "cell_type": "markdown",
   "id": "0d8fcd73",
   "metadata": {},
   "source": [
    "### ENRICHING MY DF WITH AN API ABOUT AIR QUALITY:"
   ]
  },
  {
   "cell_type": "code",
   "execution_count": 238,
   "id": "6c8ccece",
   "metadata": {},
   "outputs": [],
   "source": [
    "url=\"http://api.waqi.info/feed/seoul/?token=8d08c0b307aab938e8682c862b6183224bd72a33\""
   ]
  },
  {
   "cell_type": "code",
   "execution_count": 235,
   "id": "4bbc3ba2",
   "metadata": {},
   "outputs": [],
   "source": [
    "#url=\"http://api.waqi.info/feed\""
   ]
  },
  {
   "cell_type": "code",
   "execution_count": 236,
   "id": "6b1fa69d",
   "metadata": {},
   "outputs": [],
   "source": [
    "#parameters = {\"city\":\"Beijing\",\"token\": \"8d08c0b307aab938e8682c862b6183224bd72a33\"}"
   ]
  },
  {
   "cell_type": "code",
   "execution_count": 217,
   "id": "377896fd",
   "metadata": {},
   "outputs": [],
   "source": [
    "#parameters = {\"token\": \"8d08c0b307aab938e8682c862b6183224bd72a33\"}"
   ]
  },
  {
   "cell_type": "code",
   "execution_count": 199,
   "id": "0aa656c6",
   "metadata": {},
   "outputs": [],
   "source": [
    "#token = os.getenv(\"key\")"
   ]
  },
  {
   "cell_type": "code",
   "execution_count": 239,
   "id": "68432a54",
   "metadata": {},
   "outputs": [],
   "source": [
    "re=requests.get(url, params=parameters)"
   ]
  },
  {
   "cell_type": "code",
   "execution_count": 226,
   "id": "70621e2e",
   "metadata": {},
   "outputs": [],
   "source": [
    "#re=requests.get(url)"
   ]
  },
  {
   "cell_type": "code",
   "execution_count": 240,
   "id": "84c21f38",
   "metadata": {},
   "outputs": [
    {
     "data": {
      "text/plain": [
       "{'Server': 'nginx', 'Date': 'Sat, 06 Nov 2021 14:04:07 GMT', 'Content-Type': 'application/json; charset=UTF-8', 'Transfer-Encoding': 'chunked', 'Connection': 'keep-alive', 'Vary': 'Accept-Encoding', 'Access-Control-Allow-Origin': '*', 'X-Gen-Time': '225.623Âµs', 'X-Powered-By': 'rxstreamer-waqi/1.3', 'Content-Encoding': 'gzip'}"
      ]
     },
     "execution_count": 240,
     "metadata": {},
     "output_type": "execute_result"
    }
   ],
   "source": [
    "re.headers"
   ]
  },
  {
   "cell_type": "code",
   "execution_count": 241,
   "id": "da86d3a2",
   "metadata": {},
   "outputs": [],
   "source": [
    "re_j=re.json()"
   ]
  },
  {
   "cell_type": "code",
   "execution_count": 242,
   "id": "2ddcbd0c",
   "metadata": {},
   "outputs": [
    {
     "data": {
      "text/plain": [
       "dict"
      ]
     },
     "execution_count": 242,
     "metadata": {},
     "output_type": "execute_result"
    }
   ],
   "source": [
    "type(re_j)"
   ]
  },
  {
   "cell_type": "code",
   "execution_count": 243,
   "id": "3352161c",
   "metadata": {},
   "outputs": [
    {
     "data": {
      "text/plain": [
       "dict_keys(['status', 'data'])"
      ]
     },
     "execution_count": 243,
     "metadata": {},
     "output_type": "execute_result"
    }
   ],
   "source": [
    "re_j.keys()"
   ]
  },
  {
   "cell_type": "code",
   "execution_count": 246,
   "id": "4c68cd17",
   "metadata": {},
   "outputs": [],
   "source": [
    "data=re_j['data'] "
   ]
  },
  {
   "cell_type": "code",
   "execution_count": 247,
   "id": "4c1de111",
   "metadata": {},
   "outputs": [
    {
     "data": {
      "text/plain": [
       "{'aqi': 124,\n",
       " 'idx': 5508,\n",
       " 'attributions': [{'url': 'https://www.airkorea.or.kr/',\n",
       "   'name': 'South Air Korea Environment Corporation (대기오염실시간공개시스템)',\n",
       "   'logo': 'SouthKorea-AirKorea.png'},\n",
       "  {'url': 'http://cleanair.seoul.go.kr/',\n",
       "   'name': 'Seoul Clean Air Pollution Information (서울특별시 기후대기환경정보)',\n",
       "   'logo': 'SouthKorea-Seoul.png'},\n",
       "  {'url': 'http://www.airkorea.or.kr/',\n",
       "   'name': 'South Air Korea Environment Corporation (대기오염실시간공개시스템)',\n",
       "   'logo': 'SouthKorea-AirKorea.png'},\n",
       "  {'url': 'https://waqi.info/', 'name': 'World Air Quality Index Project'}],\n",
       " 'city': {'geo': [37.566535, 126.9779692],\n",
       "  'name': 'Seoul (서울)',\n",
       "  'url': 'https://aqicn.org/city/seoul'},\n",
       " 'dominentpol': 'pm25',\n",
       " 'iaqi': {'co': {'v': 10},\n",
       "  'h': {'v': 61},\n",
       "  'no2': {'v': 70.7},\n",
       "  'o3': {'v': 1.6},\n",
       "  'p': {'v': 1006},\n",
       "  'pm10': {'v': 65},\n",
       "  'pm25': {'v': 124},\n",
       "  'r': {'v': 0.2},\n",
       "  'so2': {'v': 4.3},\n",
       "  't': {'v': 29.3},\n",
       "  'w': {'v': 3.2},\n",
       "  'wd': {'v': 292.5}},\n",
       " 'time': {'s': '2021-11-06 22:00:00',\n",
       "  'tz': '+09:00',\n",
       "  'v': 1636236000,\n",
       "  'iso': '2021-11-06T22:00:00+09:00'},\n",
       " 'forecast': {'daily': {'o3': [{'avg': 1,\n",
       "     'day': '2021-11-04',\n",
       "     'max': 5,\n",
       "     'min': 1},\n",
       "    {'avg': 1, 'day': '2021-11-05', 'max': 7, 'min': 1},\n",
       "    {'avg': 1, 'day': '2021-11-06', 'max': 17, 'min': 1},\n",
       "    {'avg': 5, 'day': '2021-11-07', 'max': 15, 'min': 1},\n",
       "    {'avg': 9, 'day': '2021-11-08', 'max': 15, 'min': 4},\n",
       "    {'avg': 10, 'day': '2021-11-09', 'max': 13, 'min': 7},\n",
       "    {'avg': 10, 'day': '2021-11-10', 'max': 14, 'min': 3},\n",
       "    {'avg': 2, 'day': '2021-11-11', 'max': 7, 'min': 1}],\n",
       "   'pm10': [{'avg': 61, 'day': '2021-11-05', 'max': 73, 'min': 54},\n",
       "    {'avg': 53, 'day': '2021-11-06', 'max': 58, 'min': 46},\n",
       "    {'avg': 34, 'day': '2021-11-07', 'max': 46, 'min': 19},\n",
       "    {'avg': 22, 'day': '2021-11-08', 'max': 28, 'min': 19},\n",
       "    {'avg': 18, 'day': '2021-11-09', 'max': 22, 'min': 14},\n",
       "    {'avg': 18, 'day': '2021-11-10', 'max': 19, 'min': 9},\n",
       "    {'avg': 16, 'day': '2021-11-11', 'max': 22, 'min': 10},\n",
       "    {'avg': 17, 'day': '2021-11-12', 'max': 19, 'min': 7}],\n",
       "   'pm25': [{'avg': 142, 'day': '2021-11-05', 'max': 151, 'min': 138},\n",
       "    {'avg': 123, 'day': '2021-11-06', 'max': 138, 'min': 89},\n",
       "    {'avg': 70, 'day': '2021-11-07', 'max': 121, 'min': 39},\n",
       "    {'avg': 46, 'day': '2021-11-08', 'max': 65, 'min': 38},\n",
       "    {'avg': 50, 'day': '2021-11-09', 'max': 68, 'min': 30},\n",
       "    {'avg': 53, 'day': '2021-11-10', 'max': 68, 'min': 30},\n",
       "    {'avg': 53, 'day': '2021-11-11', 'max': 68, 'min': 30},\n",
       "    {'avg': 50, 'day': '2021-11-12', 'max': 68, 'min': 21}],\n",
       "   'uvi': [{'avg': 1, 'day': '2021-11-06', 'max': 2, 'min': 0},\n",
       "    {'avg': 1, 'day': '2021-11-07', 'max': 3, 'min': 0},\n",
       "    {'avg': 0, 'day': '2021-11-08', 'max': 1, 'min': 0},\n",
       "    {'avg': 0, 'day': '2021-11-09', 'max': 1, 'min': 0},\n",
       "    {'avg': 0, 'day': '2021-11-10', 'max': 1, 'min': 0},\n",
       "    {'avg': 0, 'day': '2021-11-11', 'max': 1, 'min': 0}]}},\n",
       " 'debug': {'sync': '2021-11-06T22:22:35+09:00'}}"
      ]
     },
     "execution_count": 247,
     "metadata": {},
     "output_type": "execute_result"
    }
   ],
   "source": [
    "data"
   ]
  },
  {
   "cell_type": "code",
   "execution_count": 248,
   "id": "09a43f3a",
   "metadata": {},
   "outputs": [
    {
     "data": {
      "text/plain": [
       "dict_keys(['aqi', 'idx', 'attributions', 'city', 'dominentpol', 'iaqi', 'time', 'forecast', 'debug'])"
      ]
     },
     "execution_count": 248,
     "metadata": {},
     "output_type": "execute_result"
    }
   ],
   "source": [
    "data.keys()"
   ]
  },
  {
   "cell_type": "code",
   "execution_count": 251,
   "id": "7f624c38",
   "metadata": {},
   "outputs": [],
   "source": [
    "Beijing=data['aqi'] #Dentro de la key data, hay otro diccionario y, dentro de \"aqi\", tengo el valor que se refiere a lo contaminado que está el aire que es el que me ineteresa."
   ]
  },
  {
   "cell_type": "code",
   "execution_count": 253,
   "id": "e199bbed",
   "metadata": {},
   "outputs": [],
   "source": [
    "# función sin terminar pendiente de parámetros(ciudad, key).\n",
    "# Mi idea es pasarle mi lista llamada \"ciudades\" con los valores únicos de mi df de todas las ciudades.\n",
    "\n",
    "def air_quality(ciudades):\n",
    "    for ciudad in ciudades:\n",
    "        parameters = {\"token\": \"8d08c0b307aab938e8682c862b6183224bd72a33\", \"keyword\":\"ciudad\"}\n",
    "        requests.get(url, params=parameters)"
   ]
  },
  {
   "cell_type": "code",
   "execution_count": 250,
   "id": "f5c86823",
   "metadata": {},
   "outputs": [],
   "source": [
    "# función que me da el nivel de contaminación del aire que sería la columna nueva que crearía en mi df.\n",
    "# \"x\" sería el dato \"aqi\" dentro de \"data\", que es una de las keys del diccionario que me devuelve el .json:\n",
    "# Aquí muestro el ejemplo para Beijing:\n",
    "\n",
    "def quality_level (x):\n",
    "    if x<=50:\n",
    "        return \"Good\"\n",
    "    elif 51<=x<=100:\n",
    "        return \"Moderate\"\n",
    "    elif 101<=x<=150:\n",
    "        return \"Unhealthy for Sensitive Groups\"\n",
    "    elif 151<=x<=200:\n",
    "        return \"Unhealthy\"\n",
    "    elif 201<=x<=300:\n",
    "        return \"Very Unhealthy\"\n",
    "    else:\n",
    "        return \"Hazardous\""
   ]
  },
  {
   "cell_type": "code",
   "execution_count": 252,
   "id": "165fb17d",
   "metadata": {},
   "outputs": [
    {
     "data": {
      "text/plain": [
       "'Unhealthy for Sensitive Groups'"
      ]
     },
     "execution_count": 252,
     "metadata": {},
     "output_type": "execute_result"
    }
   ],
   "source": [
    "quality_level(Beijing)"
   ]
  },
  {
   "cell_type": "code",
   "execution_count": null,
   "id": "587d9d98",
   "metadata": {},
   "outputs": [],
   "source": []
  }
 ],
 "metadata": {
  "kernelspec": {
   "display_name": "ironhack",
   "language": "python",
   "name": "ironhack"
  },
  "language_info": {
   "codemirror_mode": {
    "name": "ipython",
    "version": 3
   },
   "file_extension": ".py",
   "mimetype": "text/x-python",
   "name": "python",
   "nbconvert_exporter": "python",
   "pygments_lexer": "ipython3",
   "version": "3.8.5"
  }
 },
 "nbformat": 4,
 "nbformat_minor": 5
}
